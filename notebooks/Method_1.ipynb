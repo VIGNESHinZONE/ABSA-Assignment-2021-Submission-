{
  "nbformat": 4,
  "nbformat_minor": 2,
  "metadata": {
    "colab": {
      "name": "Method-1.ipynb",
      "provenance": [],
      "collapsed_sections": []
    },
    "kernelspec": {
      "display_name": "Python 3",
      "name": "python3"
    },
    "language_info": {
      "name": "python"
    },
    "widgets": {
      "application/vnd.jupyter.widget-state+json": {
        "22d5c4fdc7f94285958b647de85b8223": {
          "model_module": "@jupyter-widgets/controls",
          "model_name": "HBoxModel",
          "model_module_version": "1.5.0",
          "state": {
            "_view_name": "HBoxView",
            "_dom_classes": [],
            "_model_name": "HBoxModel",
            "_view_module": "@jupyter-widgets/controls",
            "_model_module_version": "1.5.0",
            "_view_count": null,
            "_view_module_version": "1.5.0",
            "box_style": "",
            "layout": "IPY_MODEL_dc453c1560924dacadfb3ee7a296e736",
            "_model_module": "@jupyter-widgets/controls",
            "children": [
              "IPY_MODEL_5af6901007064063b6b91961b30c660e",
              "IPY_MODEL_481b91011fb94286b083aa25087a7276",
              "IPY_MODEL_1c2649770df847d8b0b3adb037f06195"
            ]
          }
        },
        "dc453c1560924dacadfb3ee7a296e736": {
          "model_module": "@jupyter-widgets/base",
          "model_name": "LayoutModel",
          "model_module_version": "1.2.0",
          "state": {
            "_view_name": "LayoutView",
            "grid_template_rows": null,
            "right": null,
            "justify_content": null,
            "_view_module": "@jupyter-widgets/base",
            "overflow": null,
            "_model_module_version": "1.2.0",
            "_view_count": null,
            "flex_flow": null,
            "width": null,
            "min_width": null,
            "border": null,
            "align_items": null,
            "bottom": null,
            "_model_module": "@jupyter-widgets/base",
            "top": null,
            "grid_column": null,
            "overflow_y": null,
            "overflow_x": null,
            "grid_auto_flow": null,
            "grid_area": null,
            "grid_template_columns": null,
            "flex": null,
            "_model_name": "LayoutModel",
            "justify_items": null,
            "grid_row": null,
            "max_height": null,
            "align_content": null,
            "visibility": null,
            "align_self": null,
            "height": null,
            "min_height": null,
            "padding": null,
            "grid_auto_rows": null,
            "grid_gap": null,
            "max_width": null,
            "order": null,
            "_view_module_version": "1.2.0",
            "grid_template_areas": null,
            "object_position": null,
            "object_fit": null,
            "grid_auto_columns": null,
            "margin": null,
            "display": null,
            "left": null
          }
        },
        "5af6901007064063b6b91961b30c660e": {
          "model_module": "@jupyter-widgets/controls",
          "model_name": "HTMLModel",
          "model_module_version": "1.5.0",
          "state": {
            "_view_name": "HTMLView",
            "style": "IPY_MODEL_303411d33020428786c8112aac31ab6c",
            "_dom_classes": [],
            "description": "",
            "_model_name": "HTMLModel",
            "placeholder": "​",
            "_view_module": "@jupyter-widgets/controls",
            "_model_module_version": "1.5.0",
            "value": "Downloading: 100%",
            "_view_count": null,
            "_view_module_version": "1.5.0",
            "description_tooltip": null,
            "_model_module": "@jupyter-widgets/controls",
            "layout": "IPY_MODEL_0adf4dbbdead48ac9174093f8bd73648"
          }
        },
        "481b91011fb94286b083aa25087a7276": {
          "model_module": "@jupyter-widgets/controls",
          "model_name": "FloatProgressModel",
          "model_module_version": "1.5.0",
          "state": {
            "_view_name": "ProgressView",
            "style": "IPY_MODEL_de8546022f174aeb8a3101fb3486cddc",
            "_dom_classes": [],
            "description": "",
            "_model_name": "FloatProgressModel",
            "bar_style": "success",
            "max": 409,
            "_view_module": "@jupyter-widgets/controls",
            "_model_module_version": "1.5.0",
            "value": 409,
            "_view_count": null,
            "_view_module_version": "1.5.0",
            "orientation": "horizontal",
            "min": 0,
            "description_tooltip": null,
            "_model_module": "@jupyter-widgets/controls",
            "layout": "IPY_MODEL_8976da8845a243c589de6488504d770d"
          }
        },
        "1c2649770df847d8b0b3adb037f06195": {
          "model_module": "@jupyter-widgets/controls",
          "model_name": "HTMLModel",
          "model_module_version": "1.5.0",
          "state": {
            "_view_name": "HTMLView",
            "style": "IPY_MODEL_72e0b980bf9c4788b3992438f2fd2317",
            "_dom_classes": [],
            "description": "",
            "_model_name": "HTMLModel",
            "placeholder": "​",
            "_view_module": "@jupyter-widgets/controls",
            "_model_module_version": "1.5.0",
            "value": " 409/409 [00:00&lt;00:00, 9.57kB/s]",
            "_view_count": null,
            "_view_module_version": "1.5.0",
            "description_tooltip": null,
            "_model_module": "@jupyter-widgets/controls",
            "layout": "IPY_MODEL_1ec08cc949fd436c8b256f99ed1af3f9"
          }
        },
        "303411d33020428786c8112aac31ab6c": {
          "model_module": "@jupyter-widgets/controls",
          "model_name": "DescriptionStyleModel",
          "model_module_version": "1.5.0",
          "state": {
            "_view_name": "StyleView",
            "_model_name": "DescriptionStyleModel",
            "description_width": "",
            "_view_module": "@jupyter-widgets/base",
            "_model_module_version": "1.5.0",
            "_view_count": null,
            "_view_module_version": "1.2.0",
            "_model_module": "@jupyter-widgets/controls"
          }
        },
        "0adf4dbbdead48ac9174093f8bd73648": {
          "model_module": "@jupyter-widgets/base",
          "model_name": "LayoutModel",
          "model_module_version": "1.2.0",
          "state": {
            "_view_name": "LayoutView",
            "grid_template_rows": null,
            "right": null,
            "justify_content": null,
            "_view_module": "@jupyter-widgets/base",
            "overflow": null,
            "_model_module_version": "1.2.0",
            "_view_count": null,
            "flex_flow": null,
            "width": null,
            "min_width": null,
            "border": null,
            "align_items": null,
            "bottom": null,
            "_model_module": "@jupyter-widgets/base",
            "top": null,
            "grid_column": null,
            "overflow_y": null,
            "overflow_x": null,
            "grid_auto_flow": null,
            "grid_area": null,
            "grid_template_columns": null,
            "flex": null,
            "_model_name": "LayoutModel",
            "justify_items": null,
            "grid_row": null,
            "max_height": null,
            "align_content": null,
            "visibility": null,
            "align_self": null,
            "height": null,
            "min_height": null,
            "padding": null,
            "grid_auto_rows": null,
            "grid_gap": null,
            "max_width": null,
            "order": null,
            "_view_module_version": "1.2.0",
            "grid_template_areas": null,
            "object_position": null,
            "object_fit": null,
            "grid_auto_columns": null,
            "margin": null,
            "display": null,
            "left": null
          }
        },
        "de8546022f174aeb8a3101fb3486cddc": {
          "model_module": "@jupyter-widgets/controls",
          "model_name": "ProgressStyleModel",
          "model_module_version": "1.5.0",
          "state": {
            "_view_name": "StyleView",
            "_model_name": "ProgressStyleModel",
            "description_width": "",
            "_view_module": "@jupyter-widgets/base",
            "_model_module_version": "1.5.0",
            "_view_count": null,
            "_view_module_version": "1.2.0",
            "bar_color": null,
            "_model_module": "@jupyter-widgets/controls"
          }
        },
        "8976da8845a243c589de6488504d770d": {
          "model_module": "@jupyter-widgets/base",
          "model_name": "LayoutModel",
          "model_module_version": "1.2.0",
          "state": {
            "_view_name": "LayoutView",
            "grid_template_rows": null,
            "right": null,
            "justify_content": null,
            "_view_module": "@jupyter-widgets/base",
            "overflow": null,
            "_model_module_version": "1.2.0",
            "_view_count": null,
            "flex_flow": null,
            "width": null,
            "min_width": null,
            "border": null,
            "align_items": null,
            "bottom": null,
            "_model_module": "@jupyter-widgets/base",
            "top": null,
            "grid_column": null,
            "overflow_y": null,
            "overflow_x": null,
            "grid_auto_flow": null,
            "grid_area": null,
            "grid_template_columns": null,
            "flex": null,
            "_model_name": "LayoutModel",
            "justify_items": null,
            "grid_row": null,
            "max_height": null,
            "align_content": null,
            "visibility": null,
            "align_self": null,
            "height": null,
            "min_height": null,
            "padding": null,
            "grid_auto_rows": null,
            "grid_gap": null,
            "max_width": null,
            "order": null,
            "_view_module_version": "1.2.0",
            "grid_template_areas": null,
            "object_position": null,
            "object_fit": null,
            "grid_auto_columns": null,
            "margin": null,
            "display": null,
            "left": null
          }
        },
        "72e0b980bf9c4788b3992438f2fd2317": {
          "model_module": "@jupyter-widgets/controls",
          "model_name": "DescriptionStyleModel",
          "model_module_version": "1.5.0",
          "state": {
            "_view_name": "StyleView",
            "_model_name": "DescriptionStyleModel",
            "description_width": "",
            "_view_module": "@jupyter-widgets/base",
            "_model_module_version": "1.5.0",
            "_view_count": null,
            "_view_module_version": "1.2.0",
            "_model_module": "@jupyter-widgets/controls"
          }
        },
        "1ec08cc949fd436c8b256f99ed1af3f9": {
          "model_module": "@jupyter-widgets/base",
          "model_name": "LayoutModel",
          "model_module_version": "1.2.0",
          "state": {
            "_view_name": "LayoutView",
            "grid_template_rows": null,
            "right": null,
            "justify_content": null,
            "_view_module": "@jupyter-widgets/base",
            "overflow": null,
            "_model_module_version": "1.2.0",
            "_view_count": null,
            "flex_flow": null,
            "width": null,
            "min_width": null,
            "border": null,
            "align_items": null,
            "bottom": null,
            "_model_module": "@jupyter-widgets/base",
            "top": null,
            "grid_column": null,
            "overflow_y": null,
            "overflow_x": null,
            "grid_auto_flow": null,
            "grid_area": null,
            "grid_template_columns": null,
            "flex": null,
            "_model_name": "LayoutModel",
            "justify_items": null,
            "grid_row": null,
            "max_height": null,
            "align_content": null,
            "visibility": null,
            "align_self": null,
            "height": null,
            "min_height": null,
            "padding": null,
            "grid_auto_rows": null,
            "grid_gap": null,
            "max_width": null,
            "order": null,
            "_view_module_version": "1.2.0",
            "grid_template_areas": null,
            "object_position": null,
            "object_fit": null,
            "grid_auto_columns": null,
            "margin": null,
            "display": null,
            "left": null
          }
        },
        "84dbccaeb8914354b09c76f33a6e5de7": {
          "model_module": "@jupyter-widgets/controls",
          "model_name": "HBoxModel",
          "model_module_version": "1.5.0",
          "state": {
            "_view_name": "HBoxView",
            "_dom_classes": [],
            "_model_name": "HBoxModel",
            "_view_module": "@jupyter-widgets/controls",
            "_model_module_version": "1.5.0",
            "_view_count": null,
            "_view_module_version": "1.5.0",
            "box_style": "",
            "layout": "IPY_MODEL_b574639e0dd74e0ab25f66ccd623a961",
            "_model_module": "@jupyter-widgets/controls",
            "children": [
              "IPY_MODEL_40e5331b70d9450db27c6ab08b1ecf8b",
              "IPY_MODEL_2af12fff911241b58caa5909c56948a1",
              "IPY_MODEL_83cbfa03d4a34f93949342b5929e6f72"
            ]
          }
        },
        "b574639e0dd74e0ab25f66ccd623a961": {
          "model_module": "@jupyter-widgets/base",
          "model_name": "LayoutModel",
          "model_module_version": "1.2.0",
          "state": {
            "_view_name": "LayoutView",
            "grid_template_rows": null,
            "right": null,
            "justify_content": null,
            "_view_module": "@jupyter-widgets/base",
            "overflow": null,
            "_model_module_version": "1.2.0",
            "_view_count": null,
            "flex_flow": null,
            "width": null,
            "min_width": null,
            "border": null,
            "align_items": null,
            "bottom": null,
            "_model_module": "@jupyter-widgets/base",
            "top": null,
            "grid_column": null,
            "overflow_y": null,
            "overflow_x": null,
            "grid_auto_flow": null,
            "grid_area": null,
            "grid_template_columns": null,
            "flex": null,
            "_model_name": "LayoutModel",
            "justify_items": null,
            "grid_row": null,
            "max_height": null,
            "align_content": null,
            "visibility": null,
            "align_self": null,
            "height": null,
            "min_height": null,
            "padding": null,
            "grid_auto_rows": null,
            "grid_gap": null,
            "max_width": null,
            "order": null,
            "_view_module_version": "1.2.0",
            "grid_template_areas": null,
            "object_position": null,
            "object_fit": null,
            "grid_auto_columns": null,
            "margin": null,
            "display": null,
            "left": null
          }
        },
        "40e5331b70d9450db27c6ab08b1ecf8b": {
          "model_module": "@jupyter-widgets/controls",
          "model_name": "HTMLModel",
          "model_module_version": "1.5.0",
          "state": {
            "_view_name": "HTMLView",
            "style": "IPY_MODEL_64c99aa79f6c45c0b1251428277a0c66",
            "_dom_classes": [],
            "description": "",
            "_model_name": "HTMLModel",
            "placeholder": "​",
            "_view_module": "@jupyter-widgets/controls",
            "_model_module_version": "1.5.0",
            "value": "Downloading: 100%",
            "_view_count": null,
            "_view_module_version": "1.5.0",
            "description_tooltip": null,
            "_model_module": "@jupyter-widgets/controls",
            "layout": "IPY_MODEL_f499942e90004845a2dacb2b5b69ad14"
          }
        },
        "2af12fff911241b58caa5909c56948a1": {
          "model_module": "@jupyter-widgets/controls",
          "model_name": "FloatProgressModel",
          "model_module_version": "1.5.0",
          "state": {
            "_view_name": "ProgressView",
            "style": "IPY_MODEL_1a3ce4cf97c04a5cb093507f9d9f81ad",
            "_dom_classes": [],
            "description": "",
            "_model_name": "FloatProgressModel",
            "bar_style": "success",
            "max": 62747391,
            "_view_module": "@jupyter-widgets/controls",
            "_model_module_version": "1.5.0",
            "value": 62747391,
            "_view_count": null,
            "_view_module_version": "1.5.0",
            "orientation": "horizontal",
            "min": 0,
            "description_tooltip": null,
            "_model_module": "@jupyter-widgets/controls",
            "layout": "IPY_MODEL_1b47309c639b4964bbbf2f9289f3c4e7"
          }
        },
        "83cbfa03d4a34f93949342b5929e6f72": {
          "model_module": "@jupyter-widgets/controls",
          "model_name": "HTMLModel",
          "model_module_version": "1.5.0",
          "state": {
            "_view_name": "HTMLView",
            "style": "IPY_MODEL_1ce26183338b4613a0dadbd48ffe36e3",
            "_dom_classes": [],
            "description": "",
            "_model_name": "HTMLModel",
            "placeholder": "​",
            "_view_module": "@jupyter-widgets/controls",
            "_model_module_version": "1.5.0",
            "value": " 62.7M/62.7M [00:02&lt;00:00, 31.1MB/s]",
            "_view_count": null,
            "_view_module_version": "1.5.0",
            "description_tooltip": null,
            "_model_module": "@jupyter-widgets/controls",
            "layout": "IPY_MODEL_118727ae25eb401398b15393559ec1e1"
          }
        },
        "64c99aa79f6c45c0b1251428277a0c66": {
          "model_module": "@jupyter-widgets/controls",
          "model_name": "DescriptionStyleModel",
          "model_module_version": "1.5.0",
          "state": {
            "_view_name": "StyleView",
            "_model_name": "DescriptionStyleModel",
            "description_width": "",
            "_view_module": "@jupyter-widgets/base",
            "_model_module_version": "1.5.0",
            "_view_count": null,
            "_view_module_version": "1.2.0",
            "_model_module": "@jupyter-widgets/controls"
          }
        },
        "f499942e90004845a2dacb2b5b69ad14": {
          "model_module": "@jupyter-widgets/base",
          "model_name": "LayoutModel",
          "model_module_version": "1.2.0",
          "state": {
            "_view_name": "LayoutView",
            "grid_template_rows": null,
            "right": null,
            "justify_content": null,
            "_view_module": "@jupyter-widgets/base",
            "overflow": null,
            "_model_module_version": "1.2.0",
            "_view_count": null,
            "flex_flow": null,
            "width": null,
            "min_width": null,
            "border": null,
            "align_items": null,
            "bottom": null,
            "_model_module": "@jupyter-widgets/base",
            "top": null,
            "grid_column": null,
            "overflow_y": null,
            "overflow_x": null,
            "grid_auto_flow": null,
            "grid_area": null,
            "grid_template_columns": null,
            "flex": null,
            "_model_name": "LayoutModel",
            "justify_items": null,
            "grid_row": null,
            "max_height": null,
            "align_content": null,
            "visibility": null,
            "align_self": null,
            "height": null,
            "min_height": null,
            "padding": null,
            "grid_auto_rows": null,
            "grid_gap": null,
            "max_width": null,
            "order": null,
            "_view_module_version": "1.2.0",
            "grid_template_areas": null,
            "object_position": null,
            "object_fit": null,
            "grid_auto_columns": null,
            "margin": null,
            "display": null,
            "left": null
          }
        },
        "1a3ce4cf97c04a5cb093507f9d9f81ad": {
          "model_module": "@jupyter-widgets/controls",
          "model_name": "ProgressStyleModel",
          "model_module_version": "1.5.0",
          "state": {
            "_view_name": "StyleView",
            "_model_name": "ProgressStyleModel",
            "description_width": "",
            "_view_module": "@jupyter-widgets/base",
            "_model_module_version": "1.5.0",
            "_view_count": null,
            "_view_module_version": "1.2.0",
            "bar_color": null,
            "_model_module": "@jupyter-widgets/controls"
          }
        },
        "1b47309c639b4964bbbf2f9289f3c4e7": {
          "model_module": "@jupyter-widgets/base",
          "model_name": "LayoutModel",
          "model_module_version": "1.2.0",
          "state": {
            "_view_name": "LayoutView",
            "grid_template_rows": null,
            "right": null,
            "justify_content": null,
            "_view_module": "@jupyter-widgets/base",
            "overflow": null,
            "_model_module_version": "1.2.0",
            "_view_count": null,
            "flex_flow": null,
            "width": null,
            "min_width": null,
            "border": null,
            "align_items": null,
            "bottom": null,
            "_model_module": "@jupyter-widgets/base",
            "top": null,
            "grid_column": null,
            "overflow_y": null,
            "overflow_x": null,
            "grid_auto_flow": null,
            "grid_area": null,
            "grid_template_columns": null,
            "flex": null,
            "_model_name": "LayoutModel",
            "justify_items": null,
            "grid_row": null,
            "max_height": null,
            "align_content": null,
            "visibility": null,
            "align_self": null,
            "height": null,
            "min_height": null,
            "padding": null,
            "grid_auto_rows": null,
            "grid_gap": null,
            "max_width": null,
            "order": null,
            "_view_module_version": "1.2.0",
            "grid_template_areas": null,
            "object_position": null,
            "object_fit": null,
            "grid_auto_columns": null,
            "margin": null,
            "display": null,
            "left": null
          }
        },
        "1ce26183338b4613a0dadbd48ffe36e3": {
          "model_module": "@jupyter-widgets/controls",
          "model_name": "DescriptionStyleModel",
          "model_module_version": "1.5.0",
          "state": {
            "_view_name": "StyleView",
            "_model_name": "DescriptionStyleModel",
            "description_width": "",
            "_view_module": "@jupyter-widgets/base",
            "_model_module_version": "1.5.0",
            "_view_count": null,
            "_view_module_version": "1.2.0",
            "_model_module": "@jupyter-widgets/controls"
          }
        },
        "118727ae25eb401398b15393559ec1e1": {
          "model_module": "@jupyter-widgets/base",
          "model_name": "LayoutModel",
          "model_module_version": "1.2.0",
          "state": {
            "_view_name": "LayoutView",
            "grid_template_rows": null,
            "right": null,
            "justify_content": null,
            "_view_module": "@jupyter-widgets/base",
            "overflow": null,
            "_model_module_version": "1.2.0",
            "_view_count": null,
            "flex_flow": null,
            "width": null,
            "min_width": null,
            "border": null,
            "align_items": null,
            "bottom": null,
            "_model_module": "@jupyter-widgets/base",
            "top": null,
            "grid_column": null,
            "overflow_y": null,
            "overflow_x": null,
            "grid_auto_flow": null,
            "grid_area": null,
            "grid_template_columns": null,
            "flex": null,
            "_model_name": "LayoutModel",
            "justify_items": null,
            "grid_row": null,
            "max_height": null,
            "align_content": null,
            "visibility": null,
            "align_self": null,
            "height": null,
            "min_height": null,
            "padding": null,
            "grid_auto_rows": null,
            "grid_gap": null,
            "max_width": null,
            "order": null,
            "_view_module_version": "1.2.0",
            "grid_template_areas": null,
            "object_position": null,
            "object_fit": null,
            "grid_auto_columns": null,
            "margin": null,
            "display": null,
            "left": null
          }
        },
        "d2814d291ce342c4ae5200ff508cc44f": {
          "model_module": "@jupyter-widgets/controls",
          "model_name": "HBoxModel",
          "model_module_version": "1.5.0",
          "state": {
            "_view_name": "HBoxView",
            "_dom_classes": [],
            "_model_name": "HBoxModel",
            "_view_module": "@jupyter-widgets/controls",
            "_model_module_version": "1.5.0",
            "_view_count": null,
            "_view_module_version": "1.5.0",
            "box_style": "",
            "layout": "IPY_MODEL_d94603468bda4de4b519c364cc3d1420",
            "_model_module": "@jupyter-widgets/controls",
            "children": [
              "IPY_MODEL_b7b3ecc235734941aba9ad90011b254b",
              "IPY_MODEL_f8afbc405ba24cb6934d3181a03129e1",
              "IPY_MODEL_162bcbaf26024ed9ba5ccb0045dcf559"
            ]
          }
        },
        "d94603468bda4de4b519c364cc3d1420": {
          "model_module": "@jupyter-widgets/base",
          "model_name": "LayoutModel",
          "model_module_version": "1.2.0",
          "state": {
            "_view_name": "LayoutView",
            "grid_template_rows": null,
            "right": null,
            "justify_content": null,
            "_view_module": "@jupyter-widgets/base",
            "overflow": null,
            "_model_module_version": "1.2.0",
            "_view_count": null,
            "flex_flow": null,
            "width": null,
            "min_width": null,
            "border": null,
            "align_items": null,
            "bottom": null,
            "_model_module": "@jupyter-widgets/base",
            "top": null,
            "grid_column": null,
            "overflow_y": null,
            "overflow_x": null,
            "grid_auto_flow": null,
            "grid_area": null,
            "grid_template_columns": null,
            "flex": null,
            "_model_name": "LayoutModel",
            "justify_items": null,
            "grid_row": null,
            "max_height": null,
            "align_content": null,
            "visibility": null,
            "align_self": null,
            "height": null,
            "min_height": null,
            "padding": null,
            "grid_auto_rows": null,
            "grid_gap": null,
            "max_width": null,
            "order": null,
            "_view_module_version": "1.2.0",
            "grid_template_areas": null,
            "object_position": null,
            "object_fit": null,
            "grid_auto_columns": null,
            "margin": null,
            "display": null,
            "left": null
          }
        },
        "b7b3ecc235734941aba9ad90011b254b": {
          "model_module": "@jupyter-widgets/controls",
          "model_name": "HTMLModel",
          "model_module_version": "1.5.0",
          "state": {
            "_view_name": "HTMLView",
            "style": "IPY_MODEL_5cebbb586ed34c068c5727d59a369c1b",
            "_dom_classes": [],
            "description": "",
            "_model_name": "HTMLModel",
            "placeholder": "​",
            "_view_module": "@jupyter-widgets/controls",
            "_model_module_version": "1.5.0",
            "value": "Downloading: 100%",
            "_view_count": null,
            "_view_module_version": "1.5.0",
            "description_tooltip": null,
            "_model_module": "@jupyter-widgets/controls",
            "layout": "IPY_MODEL_3f8896dac6784ffda2b4436a8a144e3d"
          }
        },
        "f8afbc405ba24cb6934d3181a03129e1": {
          "model_module": "@jupyter-widgets/controls",
          "model_name": "FloatProgressModel",
          "model_module_version": "1.5.0",
          "state": {
            "_view_name": "ProgressView",
            "style": "IPY_MODEL_51da47ffe93b4e5c9f3b9ecc3d884eca",
            "_dom_classes": [],
            "description": "",
            "_model_name": "FloatProgressModel",
            "bar_style": "success",
            "max": 231508,
            "_view_module": "@jupyter-widgets/controls",
            "_model_module_version": "1.5.0",
            "value": 231508,
            "_view_count": null,
            "_view_module_version": "1.5.0",
            "orientation": "horizontal",
            "min": 0,
            "description_tooltip": null,
            "_model_module": "@jupyter-widgets/controls",
            "layout": "IPY_MODEL_401e5de35351489c9561170cb24b796b"
          }
        },
        "162bcbaf26024ed9ba5ccb0045dcf559": {
          "model_module": "@jupyter-widgets/controls",
          "model_name": "HTMLModel",
          "model_module_version": "1.5.0",
          "state": {
            "_view_name": "HTMLView",
            "style": "IPY_MODEL_a036de111c06476ca52e7f7f900787a8",
            "_dom_classes": [],
            "description": "",
            "_model_name": "HTMLModel",
            "placeholder": "​",
            "_view_module": "@jupyter-widgets/controls",
            "_model_module_version": "1.5.0",
            "value": " 232k/232k [00:00&lt;00:00, 808kB/s]",
            "_view_count": null,
            "_view_module_version": "1.5.0",
            "description_tooltip": null,
            "_model_module": "@jupyter-widgets/controls",
            "layout": "IPY_MODEL_f34fb6fdcb5d47aa9205ab17672059ed"
          }
        },
        "5cebbb586ed34c068c5727d59a369c1b": {
          "model_module": "@jupyter-widgets/controls",
          "model_name": "DescriptionStyleModel",
          "model_module_version": "1.5.0",
          "state": {
            "_view_name": "StyleView",
            "_model_name": "DescriptionStyleModel",
            "description_width": "",
            "_view_module": "@jupyter-widgets/base",
            "_model_module_version": "1.5.0",
            "_view_count": null,
            "_view_module_version": "1.2.0",
            "_model_module": "@jupyter-widgets/controls"
          }
        },
        "3f8896dac6784ffda2b4436a8a144e3d": {
          "model_module": "@jupyter-widgets/base",
          "model_name": "LayoutModel",
          "model_module_version": "1.2.0",
          "state": {
            "_view_name": "LayoutView",
            "grid_template_rows": null,
            "right": null,
            "justify_content": null,
            "_view_module": "@jupyter-widgets/base",
            "overflow": null,
            "_model_module_version": "1.2.0",
            "_view_count": null,
            "flex_flow": null,
            "width": null,
            "min_width": null,
            "border": null,
            "align_items": null,
            "bottom": null,
            "_model_module": "@jupyter-widgets/base",
            "top": null,
            "grid_column": null,
            "overflow_y": null,
            "overflow_x": null,
            "grid_auto_flow": null,
            "grid_area": null,
            "grid_template_columns": null,
            "flex": null,
            "_model_name": "LayoutModel",
            "justify_items": null,
            "grid_row": null,
            "max_height": null,
            "align_content": null,
            "visibility": null,
            "align_self": null,
            "height": null,
            "min_height": null,
            "padding": null,
            "grid_auto_rows": null,
            "grid_gap": null,
            "max_width": null,
            "order": null,
            "_view_module_version": "1.2.0",
            "grid_template_areas": null,
            "object_position": null,
            "object_fit": null,
            "grid_auto_columns": null,
            "margin": null,
            "display": null,
            "left": null
          }
        },
        "51da47ffe93b4e5c9f3b9ecc3d884eca": {
          "model_module": "@jupyter-widgets/controls",
          "model_name": "ProgressStyleModel",
          "model_module_version": "1.5.0",
          "state": {
            "_view_name": "StyleView",
            "_model_name": "ProgressStyleModel",
            "description_width": "",
            "_view_module": "@jupyter-widgets/base",
            "_model_module_version": "1.5.0",
            "_view_count": null,
            "_view_module_version": "1.2.0",
            "bar_color": null,
            "_model_module": "@jupyter-widgets/controls"
          }
        },
        "401e5de35351489c9561170cb24b796b": {
          "model_module": "@jupyter-widgets/base",
          "model_name": "LayoutModel",
          "model_module_version": "1.2.0",
          "state": {
            "_view_name": "LayoutView",
            "grid_template_rows": null,
            "right": null,
            "justify_content": null,
            "_view_module": "@jupyter-widgets/base",
            "overflow": null,
            "_model_module_version": "1.2.0",
            "_view_count": null,
            "flex_flow": null,
            "width": null,
            "min_width": null,
            "border": null,
            "align_items": null,
            "bottom": null,
            "_model_module": "@jupyter-widgets/base",
            "top": null,
            "grid_column": null,
            "overflow_y": null,
            "overflow_x": null,
            "grid_auto_flow": null,
            "grid_area": null,
            "grid_template_columns": null,
            "flex": null,
            "_model_name": "LayoutModel",
            "justify_items": null,
            "grid_row": null,
            "max_height": null,
            "align_content": null,
            "visibility": null,
            "align_self": null,
            "height": null,
            "min_height": null,
            "padding": null,
            "grid_auto_rows": null,
            "grid_gap": null,
            "max_width": null,
            "order": null,
            "_view_module_version": "1.2.0",
            "grid_template_areas": null,
            "object_position": null,
            "object_fit": null,
            "grid_auto_columns": null,
            "margin": null,
            "display": null,
            "left": null
          }
        },
        "a036de111c06476ca52e7f7f900787a8": {
          "model_module": "@jupyter-widgets/controls",
          "model_name": "DescriptionStyleModel",
          "model_module_version": "1.5.0",
          "state": {
            "_view_name": "StyleView",
            "_model_name": "DescriptionStyleModel",
            "description_width": "",
            "_view_module": "@jupyter-widgets/base",
            "_model_module_version": "1.5.0",
            "_view_count": null,
            "_view_module_version": "1.2.0",
            "_model_module": "@jupyter-widgets/controls"
          }
        },
        "f34fb6fdcb5d47aa9205ab17672059ed": {
          "model_module": "@jupyter-widgets/base",
          "model_name": "LayoutModel",
          "model_module_version": "1.2.0",
          "state": {
            "_view_name": "LayoutView",
            "grid_template_rows": null,
            "right": null,
            "justify_content": null,
            "_view_module": "@jupyter-widgets/base",
            "overflow": null,
            "_model_module_version": "1.2.0",
            "_view_count": null,
            "flex_flow": null,
            "width": null,
            "min_width": null,
            "border": null,
            "align_items": null,
            "bottom": null,
            "_model_module": "@jupyter-widgets/base",
            "top": null,
            "grid_column": null,
            "overflow_y": null,
            "overflow_x": null,
            "grid_auto_flow": null,
            "grid_area": null,
            "grid_template_columns": null,
            "flex": null,
            "_model_name": "LayoutModel",
            "justify_items": null,
            "grid_row": null,
            "max_height": null,
            "align_content": null,
            "visibility": null,
            "align_self": null,
            "height": null,
            "min_height": null,
            "padding": null,
            "grid_auto_rows": null,
            "grid_gap": null,
            "max_width": null,
            "order": null,
            "_view_module_version": "1.2.0",
            "grid_template_areas": null,
            "object_position": null,
            "object_fit": null,
            "grid_auto_columns": null,
            "margin": null,
            "display": null,
            "left": null
          }
        },
        "902d376c7a264fc3be8ab92fa2555488": {
          "model_module": "@jupyter-widgets/controls",
          "model_name": "HBoxModel",
          "model_module_version": "1.5.0",
          "state": {
            "_view_name": "HBoxView",
            "_dom_classes": [],
            "_model_name": "HBoxModel",
            "_view_module": "@jupyter-widgets/controls",
            "_model_module_version": "1.5.0",
            "_view_count": null,
            "_view_module_version": "1.5.0",
            "box_style": "",
            "layout": "IPY_MODEL_d98aeb56fe5d4ad19d46d58eca367a32",
            "_model_module": "@jupyter-widgets/controls",
            "children": [
              "IPY_MODEL_29a9a095573946a297705140aa991327",
              "IPY_MODEL_fe1f902b546240a3a758c9c599e60302",
              "IPY_MODEL_c6ff9b432ba244e5bad7dc1b7f3650d3"
            ]
          }
        },
        "d98aeb56fe5d4ad19d46d58eca367a32": {
          "model_module": "@jupyter-widgets/base",
          "model_name": "LayoutModel",
          "model_module_version": "1.2.0",
          "state": {
            "_view_name": "LayoutView",
            "grid_template_rows": null,
            "right": null,
            "justify_content": null,
            "_view_module": "@jupyter-widgets/base",
            "overflow": null,
            "_model_module_version": "1.2.0",
            "_view_count": null,
            "flex_flow": null,
            "width": null,
            "min_width": null,
            "border": null,
            "align_items": null,
            "bottom": null,
            "_model_module": "@jupyter-widgets/base",
            "top": null,
            "grid_column": null,
            "overflow_y": null,
            "overflow_x": null,
            "grid_auto_flow": null,
            "grid_area": null,
            "grid_template_columns": null,
            "flex": null,
            "_model_name": "LayoutModel",
            "justify_items": null,
            "grid_row": null,
            "max_height": null,
            "align_content": null,
            "visibility": null,
            "align_self": null,
            "height": null,
            "min_height": null,
            "padding": null,
            "grid_auto_rows": null,
            "grid_gap": null,
            "max_width": null,
            "order": null,
            "_view_module_version": "1.2.0",
            "grid_template_areas": null,
            "object_position": null,
            "object_fit": null,
            "grid_auto_columns": null,
            "margin": null,
            "display": null,
            "left": null
          }
        },
        "29a9a095573946a297705140aa991327": {
          "model_module": "@jupyter-widgets/controls",
          "model_name": "HTMLModel",
          "model_module_version": "1.5.0",
          "state": {
            "_view_name": "HTMLView",
            "style": "IPY_MODEL_307c47a69c254e0db76b5b04e74867f0",
            "_dom_classes": [],
            "description": "",
            "_model_name": "HTMLModel",
            "placeholder": "​",
            "_view_module": "@jupyter-widgets/controls",
            "_model_module_version": "1.5.0",
            "value": "Downloading: 100%",
            "_view_count": null,
            "_view_module_version": "1.5.0",
            "description_tooltip": null,
            "_model_module": "@jupyter-widgets/controls",
            "layout": "IPY_MODEL_10404cc122c44aca81530d7cd3ca497c"
          }
        },
        "fe1f902b546240a3a758c9c599e60302": {
          "model_module": "@jupyter-widgets/controls",
          "model_name": "FloatProgressModel",
          "model_module_version": "1.5.0",
          "state": {
            "_view_name": "ProgressView",
            "style": "IPY_MODEL_c63ff45ff2c84059a95c72bd2803d6b5",
            "_dom_classes": [],
            "description": "",
            "_model_name": "FloatProgressModel",
            "bar_style": "success",
            "max": 570,
            "_view_module": "@jupyter-widgets/controls",
            "_model_module_version": "1.5.0",
            "value": 570,
            "_view_count": null,
            "_view_module_version": "1.5.0",
            "orientation": "horizontal",
            "min": 0,
            "description_tooltip": null,
            "_model_module": "@jupyter-widgets/controls",
            "layout": "IPY_MODEL_50796131331246f386fbf034a80ed5d4"
          }
        },
        "c6ff9b432ba244e5bad7dc1b7f3650d3": {
          "model_module": "@jupyter-widgets/controls",
          "model_name": "HTMLModel",
          "model_module_version": "1.5.0",
          "state": {
            "_view_name": "HTMLView",
            "style": "IPY_MODEL_14f1d4c3f37d4c14beb16ec3083b9487",
            "_dom_classes": [],
            "description": "",
            "_model_name": "HTMLModel",
            "placeholder": "​",
            "_view_module": "@jupyter-widgets/controls",
            "_model_module_version": "1.5.0",
            "value": " 570/570 [00:00&lt;00:00, 15.0kB/s]",
            "_view_count": null,
            "_view_module_version": "1.5.0",
            "description_tooltip": null,
            "_model_module": "@jupyter-widgets/controls",
            "layout": "IPY_MODEL_33386dc2ba30481f85a9855b0972120f"
          }
        },
        "307c47a69c254e0db76b5b04e74867f0": {
          "model_module": "@jupyter-widgets/controls",
          "model_name": "DescriptionStyleModel",
          "model_module_version": "1.5.0",
          "state": {
            "_view_name": "StyleView",
            "_model_name": "DescriptionStyleModel",
            "description_width": "",
            "_view_module": "@jupyter-widgets/base",
            "_model_module_version": "1.5.0",
            "_view_count": null,
            "_view_module_version": "1.2.0",
            "_model_module": "@jupyter-widgets/controls"
          }
        },
        "10404cc122c44aca81530d7cd3ca497c": {
          "model_module": "@jupyter-widgets/base",
          "model_name": "LayoutModel",
          "model_module_version": "1.2.0",
          "state": {
            "_view_name": "LayoutView",
            "grid_template_rows": null,
            "right": null,
            "justify_content": null,
            "_view_module": "@jupyter-widgets/base",
            "overflow": null,
            "_model_module_version": "1.2.0",
            "_view_count": null,
            "flex_flow": null,
            "width": null,
            "min_width": null,
            "border": null,
            "align_items": null,
            "bottom": null,
            "_model_module": "@jupyter-widgets/base",
            "top": null,
            "grid_column": null,
            "overflow_y": null,
            "overflow_x": null,
            "grid_auto_flow": null,
            "grid_area": null,
            "grid_template_columns": null,
            "flex": null,
            "_model_name": "LayoutModel",
            "justify_items": null,
            "grid_row": null,
            "max_height": null,
            "align_content": null,
            "visibility": null,
            "align_self": null,
            "height": null,
            "min_height": null,
            "padding": null,
            "grid_auto_rows": null,
            "grid_gap": null,
            "max_width": null,
            "order": null,
            "_view_module_version": "1.2.0",
            "grid_template_areas": null,
            "object_position": null,
            "object_fit": null,
            "grid_auto_columns": null,
            "margin": null,
            "display": null,
            "left": null
          }
        },
        "c63ff45ff2c84059a95c72bd2803d6b5": {
          "model_module": "@jupyter-widgets/controls",
          "model_name": "ProgressStyleModel",
          "model_module_version": "1.5.0",
          "state": {
            "_view_name": "StyleView",
            "_model_name": "ProgressStyleModel",
            "description_width": "",
            "_view_module": "@jupyter-widgets/base",
            "_model_module_version": "1.5.0",
            "_view_count": null,
            "_view_module_version": "1.2.0",
            "bar_color": null,
            "_model_module": "@jupyter-widgets/controls"
          }
        },
        "50796131331246f386fbf034a80ed5d4": {
          "model_module": "@jupyter-widgets/base",
          "model_name": "LayoutModel",
          "model_module_version": "1.2.0",
          "state": {
            "_view_name": "LayoutView",
            "grid_template_rows": null,
            "right": null,
            "justify_content": null,
            "_view_module": "@jupyter-widgets/base",
            "overflow": null,
            "_model_module_version": "1.2.0",
            "_view_count": null,
            "flex_flow": null,
            "width": null,
            "min_width": null,
            "border": null,
            "align_items": null,
            "bottom": null,
            "_model_module": "@jupyter-widgets/base",
            "top": null,
            "grid_column": null,
            "overflow_y": null,
            "overflow_x": null,
            "grid_auto_flow": null,
            "grid_area": null,
            "grid_template_columns": null,
            "flex": null,
            "_model_name": "LayoutModel",
            "justify_items": null,
            "grid_row": null,
            "max_height": null,
            "align_content": null,
            "visibility": null,
            "align_self": null,
            "height": null,
            "min_height": null,
            "padding": null,
            "grid_auto_rows": null,
            "grid_gap": null,
            "max_width": null,
            "order": null,
            "_view_module_version": "1.2.0",
            "grid_template_areas": null,
            "object_position": null,
            "object_fit": null,
            "grid_auto_columns": null,
            "margin": null,
            "display": null,
            "left": null
          }
        },
        "14f1d4c3f37d4c14beb16ec3083b9487": {
          "model_module": "@jupyter-widgets/controls",
          "model_name": "DescriptionStyleModel",
          "model_module_version": "1.5.0",
          "state": {
            "_view_name": "StyleView",
            "_model_name": "DescriptionStyleModel",
            "description_width": "",
            "_view_module": "@jupyter-widgets/base",
            "_model_module_version": "1.5.0",
            "_view_count": null,
            "_view_module_version": "1.2.0",
            "_model_module": "@jupyter-widgets/controls"
          }
        },
        "33386dc2ba30481f85a9855b0972120f": {
          "model_module": "@jupyter-widgets/base",
          "model_name": "LayoutModel",
          "model_module_version": "1.2.0",
          "state": {
            "_view_name": "LayoutView",
            "grid_template_rows": null,
            "right": null,
            "justify_content": null,
            "_view_module": "@jupyter-widgets/base",
            "overflow": null,
            "_model_module_version": "1.2.0",
            "_view_count": null,
            "flex_flow": null,
            "width": null,
            "min_width": null,
            "border": null,
            "align_items": null,
            "bottom": null,
            "_model_module": "@jupyter-widgets/base",
            "top": null,
            "grid_column": null,
            "overflow_y": null,
            "overflow_x": null,
            "grid_auto_flow": null,
            "grid_area": null,
            "grid_template_columns": null,
            "flex": null,
            "_model_name": "LayoutModel",
            "justify_items": null,
            "grid_row": null,
            "max_height": null,
            "align_content": null,
            "visibility": null,
            "align_self": null,
            "height": null,
            "min_height": null,
            "padding": null,
            "grid_auto_rows": null,
            "grid_gap": null,
            "max_width": null,
            "order": null,
            "_view_module_version": "1.2.0",
            "grid_template_areas": null,
            "object_position": null,
            "object_fit": null,
            "grid_auto_columns": null,
            "margin": null,
            "display": null,
            "left": null
          }
        },
        "de1e5545f8184f0085877afc1d58b36b": {
          "model_module": "@jupyter-widgets/controls",
          "model_name": "HBoxModel",
          "model_module_version": "1.5.0",
          "state": {
            "_view_name": "HBoxView",
            "_dom_classes": [],
            "_model_name": "HBoxModel",
            "_view_module": "@jupyter-widgets/controls",
            "_model_module_version": "1.5.0",
            "_view_count": null,
            "_view_module_version": "1.5.0",
            "box_style": "",
            "layout": "IPY_MODEL_85df7bf137654aa683118cae21df5321",
            "_model_module": "@jupyter-widgets/controls",
            "children": [
              "IPY_MODEL_b6117178e55c4ae6bcc997d35007657b",
              "IPY_MODEL_4e96f53133c14153ab29e7b40991370c",
              "IPY_MODEL_278a4c292c55438ba3bcf83b86a060b5"
            ]
          }
        },
        "85df7bf137654aa683118cae21df5321": {
          "model_module": "@jupyter-widgets/base",
          "model_name": "LayoutModel",
          "model_module_version": "1.2.0",
          "state": {
            "_view_name": "LayoutView",
            "grid_template_rows": null,
            "right": null,
            "justify_content": null,
            "_view_module": "@jupyter-widgets/base",
            "overflow": null,
            "_model_module_version": "1.2.0",
            "_view_count": null,
            "flex_flow": null,
            "width": null,
            "min_width": null,
            "border": null,
            "align_items": null,
            "bottom": null,
            "_model_module": "@jupyter-widgets/base",
            "top": null,
            "grid_column": null,
            "overflow_y": null,
            "overflow_x": null,
            "grid_auto_flow": null,
            "grid_area": null,
            "grid_template_columns": null,
            "flex": null,
            "_model_name": "LayoutModel",
            "justify_items": null,
            "grid_row": null,
            "max_height": null,
            "align_content": null,
            "visibility": null,
            "align_self": null,
            "height": null,
            "min_height": null,
            "padding": null,
            "grid_auto_rows": null,
            "grid_gap": null,
            "max_width": null,
            "order": null,
            "_view_module_version": "1.2.0",
            "grid_template_areas": null,
            "object_position": null,
            "object_fit": null,
            "grid_auto_columns": null,
            "margin": null,
            "display": null,
            "left": null
          }
        },
        "b6117178e55c4ae6bcc997d35007657b": {
          "model_module": "@jupyter-widgets/controls",
          "model_name": "HTMLModel",
          "model_module_version": "1.5.0",
          "state": {
            "_view_name": "HTMLView",
            "style": "IPY_MODEL_b4e6ad4da4c947019fc41f8bc1694656",
            "_dom_classes": [],
            "description": "",
            "_model_name": "HTMLModel",
            "placeholder": "​",
            "_view_module": "@jupyter-widgets/controls",
            "_model_module_version": "1.5.0",
            "value": "Downloading: 100%",
            "_view_count": null,
            "_view_module_version": "1.5.0",
            "description_tooltip": null,
            "_model_module": "@jupyter-widgets/controls",
            "layout": "IPY_MODEL_b508f5d9797d4c4e8051546b1907f49a"
          }
        },
        "4e96f53133c14153ab29e7b40991370c": {
          "model_module": "@jupyter-widgets/controls",
          "model_name": "FloatProgressModel",
          "model_module_version": "1.5.0",
          "state": {
            "_view_name": "ProgressView",
            "style": "IPY_MODEL_4d760ffb1ab1445cada79f88550e6098",
            "_dom_classes": [],
            "description": "",
            "_model_name": "FloatProgressModel",
            "bar_style": "success",
            "max": 440473133,
            "_view_module": "@jupyter-widgets/controls",
            "_model_module_version": "1.5.0",
            "value": 440473133,
            "_view_count": null,
            "_view_module_version": "1.5.0",
            "orientation": "horizontal",
            "min": 0,
            "description_tooltip": null,
            "_model_module": "@jupyter-widgets/controls",
            "layout": "IPY_MODEL_792f923deee843e6a252838b8e3f5d1f"
          }
        },
        "278a4c292c55438ba3bcf83b86a060b5": {
          "model_module": "@jupyter-widgets/controls",
          "model_name": "HTMLModel",
          "model_module_version": "1.5.0",
          "state": {
            "_view_name": "HTMLView",
            "style": "IPY_MODEL_d734d1fedec74b21ae7da563b06cba2d",
            "_dom_classes": [],
            "description": "",
            "_model_name": "HTMLModel",
            "placeholder": "​",
            "_view_module": "@jupyter-widgets/controls",
            "_model_module_version": "1.5.0",
            "value": " 440M/440M [00:14&lt;00:00, 33.7MB/s]",
            "_view_count": null,
            "_view_module_version": "1.5.0",
            "description_tooltip": null,
            "_model_module": "@jupyter-widgets/controls",
            "layout": "IPY_MODEL_b9f99782fbb24bcd81c3a85b2ac8a640"
          }
        },
        "b4e6ad4da4c947019fc41f8bc1694656": {
          "model_module": "@jupyter-widgets/controls",
          "model_name": "DescriptionStyleModel",
          "model_module_version": "1.5.0",
          "state": {
            "_view_name": "StyleView",
            "_model_name": "DescriptionStyleModel",
            "description_width": "",
            "_view_module": "@jupyter-widgets/base",
            "_model_module_version": "1.5.0",
            "_view_count": null,
            "_view_module_version": "1.2.0",
            "_model_module": "@jupyter-widgets/controls"
          }
        },
        "b508f5d9797d4c4e8051546b1907f49a": {
          "model_module": "@jupyter-widgets/base",
          "model_name": "LayoutModel",
          "model_module_version": "1.2.0",
          "state": {
            "_view_name": "LayoutView",
            "grid_template_rows": null,
            "right": null,
            "justify_content": null,
            "_view_module": "@jupyter-widgets/base",
            "overflow": null,
            "_model_module_version": "1.2.0",
            "_view_count": null,
            "flex_flow": null,
            "width": null,
            "min_width": null,
            "border": null,
            "align_items": null,
            "bottom": null,
            "_model_module": "@jupyter-widgets/base",
            "top": null,
            "grid_column": null,
            "overflow_y": null,
            "overflow_x": null,
            "grid_auto_flow": null,
            "grid_area": null,
            "grid_template_columns": null,
            "flex": null,
            "_model_name": "LayoutModel",
            "justify_items": null,
            "grid_row": null,
            "max_height": null,
            "align_content": null,
            "visibility": null,
            "align_self": null,
            "height": null,
            "min_height": null,
            "padding": null,
            "grid_auto_rows": null,
            "grid_gap": null,
            "max_width": null,
            "order": null,
            "_view_module_version": "1.2.0",
            "grid_template_areas": null,
            "object_position": null,
            "object_fit": null,
            "grid_auto_columns": null,
            "margin": null,
            "display": null,
            "left": null
          }
        },
        "4d760ffb1ab1445cada79f88550e6098": {
          "model_module": "@jupyter-widgets/controls",
          "model_name": "ProgressStyleModel",
          "model_module_version": "1.5.0",
          "state": {
            "_view_name": "StyleView",
            "_model_name": "ProgressStyleModel",
            "description_width": "",
            "_view_module": "@jupyter-widgets/base",
            "_model_module_version": "1.5.0",
            "_view_count": null,
            "_view_module_version": "1.2.0",
            "bar_color": null,
            "_model_module": "@jupyter-widgets/controls"
          }
        },
        "792f923deee843e6a252838b8e3f5d1f": {
          "model_module": "@jupyter-widgets/base",
          "model_name": "LayoutModel",
          "model_module_version": "1.2.0",
          "state": {
            "_view_name": "LayoutView",
            "grid_template_rows": null,
            "right": null,
            "justify_content": null,
            "_view_module": "@jupyter-widgets/base",
            "overflow": null,
            "_model_module_version": "1.2.0",
            "_view_count": null,
            "flex_flow": null,
            "width": null,
            "min_width": null,
            "border": null,
            "align_items": null,
            "bottom": null,
            "_model_module": "@jupyter-widgets/base",
            "top": null,
            "grid_column": null,
            "overflow_y": null,
            "overflow_x": null,
            "grid_auto_flow": null,
            "grid_area": null,
            "grid_template_columns": null,
            "flex": null,
            "_model_name": "LayoutModel",
            "justify_items": null,
            "grid_row": null,
            "max_height": null,
            "align_content": null,
            "visibility": null,
            "align_self": null,
            "height": null,
            "min_height": null,
            "padding": null,
            "grid_auto_rows": null,
            "grid_gap": null,
            "max_width": null,
            "order": null,
            "_view_module_version": "1.2.0",
            "grid_template_areas": null,
            "object_position": null,
            "object_fit": null,
            "grid_auto_columns": null,
            "margin": null,
            "display": null,
            "left": null
          }
        },
        "d734d1fedec74b21ae7da563b06cba2d": {
          "model_module": "@jupyter-widgets/controls",
          "model_name": "DescriptionStyleModel",
          "model_module_version": "1.5.0",
          "state": {
            "_view_name": "StyleView",
            "_model_name": "DescriptionStyleModel",
            "description_width": "",
            "_view_module": "@jupyter-widgets/base",
            "_model_module_version": "1.5.0",
            "_view_count": null,
            "_view_module_version": "1.2.0",
            "_model_module": "@jupyter-widgets/controls"
          }
        },
        "b9f99782fbb24bcd81c3a85b2ac8a640": {
          "model_module": "@jupyter-widgets/base",
          "model_name": "LayoutModel",
          "model_module_version": "1.2.0",
          "state": {
            "_view_name": "LayoutView",
            "grid_template_rows": null,
            "right": null,
            "justify_content": null,
            "_view_module": "@jupyter-widgets/base",
            "overflow": null,
            "_model_module_version": "1.2.0",
            "_view_count": null,
            "flex_flow": null,
            "width": null,
            "min_width": null,
            "border": null,
            "align_items": null,
            "bottom": null,
            "_model_module": "@jupyter-widgets/base",
            "top": null,
            "grid_column": null,
            "overflow_y": null,
            "overflow_x": null,
            "grid_auto_flow": null,
            "grid_area": null,
            "grid_template_columns": null,
            "flex": null,
            "_model_name": "LayoutModel",
            "justify_items": null,
            "grid_row": null,
            "max_height": null,
            "align_content": null,
            "visibility": null,
            "align_self": null,
            "height": null,
            "min_height": null,
            "padding": null,
            "grid_auto_rows": null,
            "grid_gap": null,
            "max_width": null,
            "order": null,
            "_view_module_version": "1.2.0",
            "grid_template_areas": null,
            "object_position": null,
            "object_fit": null,
            "grid_auto_columns": null,
            "margin": null,
            "display": null,
            "left": null
          }
        },
        "acb6d400317240b59b7bb1d587ba9f17": {
          "model_module": "@jupyter-widgets/controls",
          "model_name": "HBoxModel",
          "model_module_version": "1.5.0",
          "state": {
            "_view_name": "HBoxView",
            "_dom_classes": [],
            "_model_name": "HBoxModel",
            "_view_module": "@jupyter-widgets/controls",
            "_model_module_version": "1.5.0",
            "_view_count": null,
            "_view_module_version": "1.5.0",
            "box_style": "",
            "layout": "IPY_MODEL_e05288ac64cf46c099da61c76a888aec",
            "_model_module": "@jupyter-widgets/controls",
            "children": [
              "IPY_MODEL_74d37d4e0a054f0192db718a14ed1f54",
              "IPY_MODEL_97a21a364822451bba4839e9377d87e7",
              "IPY_MODEL_67fafa2cd5ad474e93f42f03c6a8bffe"
            ]
          }
        },
        "e05288ac64cf46c099da61c76a888aec": {
          "model_module": "@jupyter-widgets/base",
          "model_name": "LayoutModel",
          "model_module_version": "1.2.0",
          "state": {
            "_view_name": "LayoutView",
            "grid_template_rows": null,
            "right": null,
            "justify_content": null,
            "_view_module": "@jupyter-widgets/base",
            "overflow": null,
            "_model_module_version": "1.2.0",
            "_view_count": null,
            "flex_flow": null,
            "width": null,
            "min_width": null,
            "border": null,
            "align_items": null,
            "bottom": null,
            "_model_module": "@jupyter-widgets/base",
            "top": null,
            "grid_column": null,
            "overflow_y": null,
            "overflow_x": null,
            "grid_auto_flow": null,
            "grid_area": null,
            "grid_template_columns": null,
            "flex": null,
            "_model_name": "LayoutModel",
            "justify_items": null,
            "grid_row": null,
            "max_height": null,
            "align_content": null,
            "visibility": null,
            "align_self": null,
            "height": null,
            "min_height": null,
            "padding": null,
            "grid_auto_rows": null,
            "grid_gap": null,
            "max_width": null,
            "order": null,
            "_view_module_version": "1.2.0",
            "grid_template_areas": null,
            "object_position": null,
            "object_fit": null,
            "grid_auto_columns": null,
            "margin": null,
            "display": null,
            "left": null
          }
        },
        "74d37d4e0a054f0192db718a14ed1f54": {
          "model_module": "@jupyter-widgets/controls",
          "model_name": "HTMLModel",
          "model_module_version": "1.5.0",
          "state": {
            "_view_name": "HTMLView",
            "style": "IPY_MODEL_20c9f22e3bb7417e9724daa7768b1df9",
            "_dom_classes": [],
            "description": "",
            "_model_name": "HTMLModel",
            "placeholder": "​",
            "_view_module": "@jupyter-widgets/controls",
            "_model_module_version": "1.5.0",
            "value": "Downloading: 100%",
            "_view_count": null,
            "_view_module_version": "1.5.0",
            "description_tooltip": null,
            "_model_module": "@jupyter-widgets/controls",
            "layout": "IPY_MODEL_55a42ac7cead480ca52b518842b437f9"
          }
        },
        "97a21a364822451bba4839e9377d87e7": {
          "model_module": "@jupyter-widgets/controls",
          "model_name": "FloatProgressModel",
          "model_module_version": "1.5.0",
          "state": {
            "_view_name": "ProgressView",
            "style": "IPY_MODEL_3cbd4e484232492986111d9b7878cb3e",
            "_dom_classes": [],
            "description": "",
            "_model_name": "FloatProgressModel",
            "bar_style": "success",
            "max": 28,
            "_view_module": "@jupyter-widgets/controls",
            "_model_module_version": "1.5.0",
            "value": 28,
            "_view_count": null,
            "_view_module_version": "1.5.0",
            "orientation": "horizontal",
            "min": 0,
            "description_tooltip": null,
            "_model_module": "@jupyter-widgets/controls",
            "layout": "IPY_MODEL_c52aa5e013e94a6c9a818bc3bece41ad"
          }
        },
        "67fafa2cd5ad474e93f42f03c6a8bffe": {
          "model_module": "@jupyter-widgets/controls",
          "model_name": "HTMLModel",
          "model_module_version": "1.5.0",
          "state": {
            "_view_name": "HTMLView",
            "style": "IPY_MODEL_58c5747f9ae14d87a7cd30c26d4bff5a",
            "_dom_classes": [],
            "description": "",
            "_model_name": "HTMLModel",
            "placeholder": "​",
            "_view_module": "@jupyter-widgets/controls",
            "_model_module_version": "1.5.0",
            "value": " 28.0/28.0 [00:00&lt;00:00, 722B/s]",
            "_view_count": null,
            "_view_module_version": "1.5.0",
            "description_tooltip": null,
            "_model_module": "@jupyter-widgets/controls",
            "layout": "IPY_MODEL_a566125c79ad4ca4a5bd0965e2edd67d"
          }
        },
        "20c9f22e3bb7417e9724daa7768b1df9": {
          "model_module": "@jupyter-widgets/controls",
          "model_name": "DescriptionStyleModel",
          "model_module_version": "1.5.0",
          "state": {
            "_view_name": "StyleView",
            "_model_name": "DescriptionStyleModel",
            "description_width": "",
            "_view_module": "@jupyter-widgets/base",
            "_model_module_version": "1.5.0",
            "_view_count": null,
            "_view_module_version": "1.2.0",
            "_model_module": "@jupyter-widgets/controls"
          }
        },
        "55a42ac7cead480ca52b518842b437f9": {
          "model_module": "@jupyter-widgets/base",
          "model_name": "LayoutModel",
          "model_module_version": "1.2.0",
          "state": {
            "_view_name": "LayoutView",
            "grid_template_rows": null,
            "right": null,
            "justify_content": null,
            "_view_module": "@jupyter-widgets/base",
            "overflow": null,
            "_model_module_version": "1.2.0",
            "_view_count": null,
            "flex_flow": null,
            "width": null,
            "min_width": null,
            "border": null,
            "align_items": null,
            "bottom": null,
            "_model_module": "@jupyter-widgets/base",
            "top": null,
            "grid_column": null,
            "overflow_y": null,
            "overflow_x": null,
            "grid_auto_flow": null,
            "grid_area": null,
            "grid_template_columns": null,
            "flex": null,
            "_model_name": "LayoutModel",
            "justify_items": null,
            "grid_row": null,
            "max_height": null,
            "align_content": null,
            "visibility": null,
            "align_self": null,
            "height": null,
            "min_height": null,
            "padding": null,
            "grid_auto_rows": null,
            "grid_gap": null,
            "max_width": null,
            "order": null,
            "_view_module_version": "1.2.0",
            "grid_template_areas": null,
            "object_position": null,
            "object_fit": null,
            "grid_auto_columns": null,
            "margin": null,
            "display": null,
            "left": null
          }
        },
        "3cbd4e484232492986111d9b7878cb3e": {
          "model_module": "@jupyter-widgets/controls",
          "model_name": "ProgressStyleModel",
          "model_module_version": "1.5.0",
          "state": {
            "_view_name": "StyleView",
            "_model_name": "ProgressStyleModel",
            "description_width": "",
            "_view_module": "@jupyter-widgets/base",
            "_model_module_version": "1.5.0",
            "_view_count": null,
            "_view_module_version": "1.2.0",
            "bar_color": null,
            "_model_module": "@jupyter-widgets/controls"
          }
        },
        "c52aa5e013e94a6c9a818bc3bece41ad": {
          "model_module": "@jupyter-widgets/base",
          "model_name": "LayoutModel",
          "model_module_version": "1.2.0",
          "state": {
            "_view_name": "LayoutView",
            "grid_template_rows": null,
            "right": null,
            "justify_content": null,
            "_view_module": "@jupyter-widgets/base",
            "overflow": null,
            "_model_module_version": "1.2.0",
            "_view_count": null,
            "flex_flow": null,
            "width": null,
            "min_width": null,
            "border": null,
            "align_items": null,
            "bottom": null,
            "_model_module": "@jupyter-widgets/base",
            "top": null,
            "grid_column": null,
            "overflow_y": null,
            "overflow_x": null,
            "grid_auto_flow": null,
            "grid_area": null,
            "grid_template_columns": null,
            "flex": null,
            "_model_name": "LayoutModel",
            "justify_items": null,
            "grid_row": null,
            "max_height": null,
            "align_content": null,
            "visibility": null,
            "align_self": null,
            "height": null,
            "min_height": null,
            "padding": null,
            "grid_auto_rows": null,
            "grid_gap": null,
            "max_width": null,
            "order": null,
            "_view_module_version": "1.2.0",
            "grid_template_areas": null,
            "object_position": null,
            "object_fit": null,
            "grid_auto_columns": null,
            "margin": null,
            "display": null,
            "left": null
          }
        },
        "58c5747f9ae14d87a7cd30c26d4bff5a": {
          "model_module": "@jupyter-widgets/controls",
          "model_name": "DescriptionStyleModel",
          "model_module_version": "1.5.0",
          "state": {
            "_view_name": "StyleView",
            "_model_name": "DescriptionStyleModel",
            "description_width": "",
            "_view_module": "@jupyter-widgets/base",
            "_model_module_version": "1.5.0",
            "_view_count": null,
            "_view_module_version": "1.2.0",
            "_model_module": "@jupyter-widgets/controls"
          }
        },
        "a566125c79ad4ca4a5bd0965e2edd67d": {
          "model_module": "@jupyter-widgets/base",
          "model_name": "LayoutModel",
          "model_module_version": "1.2.0",
          "state": {
            "_view_name": "LayoutView",
            "grid_template_rows": null,
            "right": null,
            "justify_content": null,
            "_view_module": "@jupyter-widgets/base",
            "overflow": null,
            "_model_module_version": "1.2.0",
            "_view_count": null,
            "flex_flow": null,
            "width": null,
            "min_width": null,
            "border": null,
            "align_items": null,
            "bottom": null,
            "_model_module": "@jupyter-widgets/base",
            "top": null,
            "grid_column": null,
            "overflow_y": null,
            "overflow_x": null,
            "grid_auto_flow": null,
            "grid_area": null,
            "grid_template_columns": null,
            "flex": null,
            "_model_name": "LayoutModel",
            "justify_items": null,
            "grid_row": null,
            "max_height": null,
            "align_content": null,
            "visibility": null,
            "align_self": null,
            "height": null,
            "min_height": null,
            "padding": null,
            "grid_auto_rows": null,
            "grid_gap": null,
            "max_width": null,
            "order": null,
            "_view_module_version": "1.2.0",
            "grid_template_areas": null,
            "object_position": null,
            "object_fit": null,
            "grid_auto_columns": null,
            "margin": null,
            "display": null,
            "left": null
          }
        },
        "14212198fc0e4bbabb6b574bde9f12e9": {
          "model_module": "@jupyter-widgets/controls",
          "model_name": "HBoxModel",
          "model_module_version": "1.5.0",
          "state": {
            "_view_name": "HBoxView",
            "_dom_classes": [],
            "_model_name": "HBoxModel",
            "_view_module": "@jupyter-widgets/controls",
            "_model_module_version": "1.5.0",
            "_view_count": null,
            "_view_module_version": "1.5.0",
            "box_style": "",
            "layout": "IPY_MODEL_b879876d1ba54e3eb833652801485b4b",
            "_model_module": "@jupyter-widgets/controls",
            "children": [
              "IPY_MODEL_24f858b7467346579ccfde613137a746",
              "IPY_MODEL_8d703eaa0ed04e81b7da7c42ebe7eb34",
              "IPY_MODEL_f644b1e93eef41be824ac9f3ced4bdac"
            ]
          }
        },
        "b879876d1ba54e3eb833652801485b4b": {
          "model_module": "@jupyter-widgets/base",
          "model_name": "LayoutModel",
          "model_module_version": "1.2.0",
          "state": {
            "_view_name": "LayoutView",
            "grid_template_rows": null,
            "right": null,
            "justify_content": null,
            "_view_module": "@jupyter-widgets/base",
            "overflow": null,
            "_model_module_version": "1.2.0",
            "_view_count": null,
            "flex_flow": null,
            "width": null,
            "min_width": null,
            "border": null,
            "align_items": null,
            "bottom": null,
            "_model_module": "@jupyter-widgets/base",
            "top": null,
            "grid_column": null,
            "overflow_y": null,
            "overflow_x": null,
            "grid_auto_flow": null,
            "grid_area": null,
            "grid_template_columns": null,
            "flex": null,
            "_model_name": "LayoutModel",
            "justify_items": null,
            "grid_row": null,
            "max_height": null,
            "align_content": null,
            "visibility": null,
            "align_self": null,
            "height": null,
            "min_height": null,
            "padding": null,
            "grid_auto_rows": null,
            "grid_gap": null,
            "max_width": null,
            "order": null,
            "_view_module_version": "1.2.0",
            "grid_template_areas": null,
            "object_position": null,
            "object_fit": null,
            "grid_auto_columns": null,
            "margin": null,
            "display": null,
            "left": null
          }
        },
        "24f858b7467346579ccfde613137a746": {
          "model_module": "@jupyter-widgets/controls",
          "model_name": "HTMLModel",
          "model_module_version": "1.5.0",
          "state": {
            "_view_name": "HTMLView",
            "style": "IPY_MODEL_dfcce5b53dad4a1a8152efa3cbfb50c7",
            "_dom_classes": [],
            "description": "",
            "_model_name": "HTMLModel",
            "placeholder": "​",
            "_view_module": "@jupyter-widgets/controls",
            "_model_module_version": "1.5.0",
            "value": "Downloading: 100%",
            "_view_count": null,
            "_view_module_version": "1.5.0",
            "description_tooltip": null,
            "_model_module": "@jupyter-widgets/controls",
            "layout": "IPY_MODEL_562bcba18a91418dbc3d97ab2f587b8f"
          }
        },
        "8d703eaa0ed04e81b7da7c42ebe7eb34": {
          "model_module": "@jupyter-widgets/controls",
          "model_name": "FloatProgressModel",
          "model_module_version": "1.5.0",
          "state": {
            "_view_name": "ProgressView",
            "style": "IPY_MODEL_34f8b21e427344cba7083bee500a2e3d",
            "_dom_classes": [],
            "description": "",
            "_model_name": "FloatProgressModel",
            "bar_style": "success",
            "max": 231508,
            "_view_module": "@jupyter-widgets/controls",
            "_model_module_version": "1.5.0",
            "value": 231508,
            "_view_count": null,
            "_view_module_version": "1.5.0",
            "orientation": "horizontal",
            "min": 0,
            "description_tooltip": null,
            "_model_module": "@jupyter-widgets/controls",
            "layout": "IPY_MODEL_3dfd1de3d7224ed4993e9881280fd7b7"
          }
        },
        "f644b1e93eef41be824ac9f3ced4bdac": {
          "model_module": "@jupyter-widgets/controls",
          "model_name": "HTMLModel",
          "model_module_version": "1.5.0",
          "state": {
            "_view_name": "HTMLView",
            "style": "IPY_MODEL_e43fbbf70b6a4146ab5e5b477b61e1ba",
            "_dom_classes": [],
            "description": "",
            "_model_name": "HTMLModel",
            "placeholder": "​",
            "_view_module": "@jupyter-widgets/controls",
            "_model_module_version": "1.5.0",
            "value": " 232k/232k [00:00&lt;00:00, 1.19MB/s]",
            "_view_count": null,
            "_view_module_version": "1.5.0",
            "description_tooltip": null,
            "_model_module": "@jupyter-widgets/controls",
            "layout": "IPY_MODEL_60c3c084228642beaaa4e307e2b95dfd"
          }
        },
        "dfcce5b53dad4a1a8152efa3cbfb50c7": {
          "model_module": "@jupyter-widgets/controls",
          "model_name": "DescriptionStyleModel",
          "model_module_version": "1.5.0",
          "state": {
            "_view_name": "StyleView",
            "_model_name": "DescriptionStyleModel",
            "description_width": "",
            "_view_module": "@jupyter-widgets/base",
            "_model_module_version": "1.5.0",
            "_view_count": null,
            "_view_module_version": "1.2.0",
            "_model_module": "@jupyter-widgets/controls"
          }
        },
        "562bcba18a91418dbc3d97ab2f587b8f": {
          "model_module": "@jupyter-widgets/base",
          "model_name": "LayoutModel",
          "model_module_version": "1.2.0",
          "state": {
            "_view_name": "LayoutView",
            "grid_template_rows": null,
            "right": null,
            "justify_content": null,
            "_view_module": "@jupyter-widgets/base",
            "overflow": null,
            "_model_module_version": "1.2.0",
            "_view_count": null,
            "flex_flow": null,
            "width": null,
            "min_width": null,
            "border": null,
            "align_items": null,
            "bottom": null,
            "_model_module": "@jupyter-widgets/base",
            "top": null,
            "grid_column": null,
            "overflow_y": null,
            "overflow_x": null,
            "grid_auto_flow": null,
            "grid_area": null,
            "grid_template_columns": null,
            "flex": null,
            "_model_name": "LayoutModel",
            "justify_items": null,
            "grid_row": null,
            "max_height": null,
            "align_content": null,
            "visibility": null,
            "align_self": null,
            "height": null,
            "min_height": null,
            "padding": null,
            "grid_auto_rows": null,
            "grid_gap": null,
            "max_width": null,
            "order": null,
            "_view_module_version": "1.2.0",
            "grid_template_areas": null,
            "object_position": null,
            "object_fit": null,
            "grid_auto_columns": null,
            "margin": null,
            "display": null,
            "left": null
          }
        },
        "34f8b21e427344cba7083bee500a2e3d": {
          "model_module": "@jupyter-widgets/controls",
          "model_name": "ProgressStyleModel",
          "model_module_version": "1.5.0",
          "state": {
            "_view_name": "StyleView",
            "_model_name": "ProgressStyleModel",
            "description_width": "",
            "_view_module": "@jupyter-widgets/base",
            "_model_module_version": "1.5.0",
            "_view_count": null,
            "_view_module_version": "1.2.0",
            "bar_color": null,
            "_model_module": "@jupyter-widgets/controls"
          }
        },
        "3dfd1de3d7224ed4993e9881280fd7b7": {
          "model_module": "@jupyter-widgets/base",
          "model_name": "LayoutModel",
          "model_module_version": "1.2.0",
          "state": {
            "_view_name": "LayoutView",
            "grid_template_rows": null,
            "right": null,
            "justify_content": null,
            "_view_module": "@jupyter-widgets/base",
            "overflow": null,
            "_model_module_version": "1.2.0",
            "_view_count": null,
            "flex_flow": null,
            "width": null,
            "min_width": null,
            "border": null,
            "align_items": null,
            "bottom": null,
            "_model_module": "@jupyter-widgets/base",
            "top": null,
            "grid_column": null,
            "overflow_y": null,
            "overflow_x": null,
            "grid_auto_flow": null,
            "grid_area": null,
            "grid_template_columns": null,
            "flex": null,
            "_model_name": "LayoutModel",
            "justify_items": null,
            "grid_row": null,
            "max_height": null,
            "align_content": null,
            "visibility": null,
            "align_self": null,
            "height": null,
            "min_height": null,
            "padding": null,
            "grid_auto_rows": null,
            "grid_gap": null,
            "max_width": null,
            "order": null,
            "_view_module_version": "1.2.0",
            "grid_template_areas": null,
            "object_position": null,
            "object_fit": null,
            "grid_auto_columns": null,
            "margin": null,
            "display": null,
            "left": null
          }
        },
        "e43fbbf70b6a4146ab5e5b477b61e1ba": {
          "model_module": "@jupyter-widgets/controls",
          "model_name": "DescriptionStyleModel",
          "model_module_version": "1.5.0",
          "state": {
            "_view_name": "StyleView",
            "_model_name": "DescriptionStyleModel",
            "description_width": "",
            "_view_module": "@jupyter-widgets/base",
            "_model_module_version": "1.5.0",
            "_view_count": null,
            "_view_module_version": "1.2.0",
            "_model_module": "@jupyter-widgets/controls"
          }
        },
        "60c3c084228642beaaa4e307e2b95dfd": {
          "model_module": "@jupyter-widgets/base",
          "model_name": "LayoutModel",
          "model_module_version": "1.2.0",
          "state": {
            "_view_name": "LayoutView",
            "grid_template_rows": null,
            "right": null,
            "justify_content": null,
            "_view_module": "@jupyter-widgets/base",
            "overflow": null,
            "_model_module_version": "1.2.0",
            "_view_count": null,
            "flex_flow": null,
            "width": null,
            "min_width": null,
            "border": null,
            "align_items": null,
            "bottom": null,
            "_model_module": "@jupyter-widgets/base",
            "top": null,
            "grid_column": null,
            "overflow_y": null,
            "overflow_x": null,
            "grid_auto_flow": null,
            "grid_area": null,
            "grid_template_columns": null,
            "flex": null,
            "_model_name": "LayoutModel",
            "justify_items": null,
            "grid_row": null,
            "max_height": null,
            "align_content": null,
            "visibility": null,
            "align_self": null,
            "height": null,
            "min_height": null,
            "padding": null,
            "grid_auto_rows": null,
            "grid_gap": null,
            "max_width": null,
            "order": null,
            "_view_module_version": "1.2.0",
            "grid_template_areas": null,
            "object_position": null,
            "object_fit": null,
            "grid_auto_columns": null,
            "margin": null,
            "display": null,
            "left": null
          }
        },
        "0317058b8d3048f38c5830d559073c80": {
          "model_module": "@jupyter-widgets/controls",
          "model_name": "HBoxModel",
          "model_module_version": "1.5.0",
          "state": {
            "_view_name": "HBoxView",
            "_dom_classes": [],
            "_model_name": "HBoxModel",
            "_view_module": "@jupyter-widgets/controls",
            "_model_module_version": "1.5.0",
            "_view_count": null,
            "_view_module_version": "1.5.0",
            "box_style": "",
            "layout": "IPY_MODEL_5c4b0d15938d48fa810c04a2e143ebdc",
            "_model_module": "@jupyter-widgets/controls",
            "children": [
              "IPY_MODEL_1d323437d6fc4a6aa10038cb2976a855",
              "IPY_MODEL_a27a49ae2bc048c09ae6a96a7be1d227",
              "IPY_MODEL_b99a11efabfd478db059375f72f23d36"
            ]
          }
        },
        "5c4b0d15938d48fa810c04a2e143ebdc": {
          "model_module": "@jupyter-widgets/base",
          "model_name": "LayoutModel",
          "model_module_version": "1.2.0",
          "state": {
            "_view_name": "LayoutView",
            "grid_template_rows": null,
            "right": null,
            "justify_content": null,
            "_view_module": "@jupyter-widgets/base",
            "overflow": null,
            "_model_module_version": "1.2.0",
            "_view_count": null,
            "flex_flow": null,
            "width": null,
            "min_width": null,
            "border": null,
            "align_items": null,
            "bottom": null,
            "_model_module": "@jupyter-widgets/base",
            "top": null,
            "grid_column": null,
            "overflow_y": null,
            "overflow_x": null,
            "grid_auto_flow": null,
            "grid_area": null,
            "grid_template_columns": null,
            "flex": null,
            "_model_name": "LayoutModel",
            "justify_items": null,
            "grid_row": null,
            "max_height": null,
            "align_content": null,
            "visibility": null,
            "align_self": null,
            "height": null,
            "min_height": null,
            "padding": null,
            "grid_auto_rows": null,
            "grid_gap": null,
            "max_width": null,
            "order": null,
            "_view_module_version": "1.2.0",
            "grid_template_areas": null,
            "object_position": null,
            "object_fit": null,
            "grid_auto_columns": null,
            "margin": null,
            "display": null,
            "left": null
          }
        },
        "1d323437d6fc4a6aa10038cb2976a855": {
          "model_module": "@jupyter-widgets/controls",
          "model_name": "HTMLModel",
          "model_module_version": "1.5.0",
          "state": {
            "_view_name": "HTMLView",
            "style": "IPY_MODEL_3bcbf8de50b84bbbb667350ca3ab371a",
            "_dom_classes": [],
            "description": "",
            "_model_name": "HTMLModel",
            "placeholder": "​",
            "_view_module": "@jupyter-widgets/controls",
            "_model_module_version": "1.5.0",
            "value": "Downloading: 100%",
            "_view_count": null,
            "_view_module_version": "1.5.0",
            "description_tooltip": null,
            "_model_module": "@jupyter-widgets/controls",
            "layout": "IPY_MODEL_d148dcbd67d244f18370c3706b2f3799"
          }
        },
        "a27a49ae2bc048c09ae6a96a7be1d227": {
          "model_module": "@jupyter-widgets/controls",
          "model_name": "FloatProgressModel",
          "model_module_version": "1.5.0",
          "state": {
            "_view_name": "ProgressView",
            "style": "IPY_MODEL_2b93f5fde9f448ce94f0055068632b4d",
            "_dom_classes": [],
            "description": "",
            "_model_name": "FloatProgressModel",
            "bar_style": "success",
            "max": 466062,
            "_view_module": "@jupyter-widgets/controls",
            "_model_module_version": "1.5.0",
            "value": 466062,
            "_view_count": null,
            "_view_module_version": "1.5.0",
            "orientation": "horizontal",
            "min": 0,
            "description_tooltip": null,
            "_model_module": "@jupyter-widgets/controls",
            "layout": "IPY_MODEL_5fb05d2df812473585a393045df157c9"
          }
        },
        "b99a11efabfd478db059375f72f23d36": {
          "model_module": "@jupyter-widgets/controls",
          "model_name": "HTMLModel",
          "model_module_version": "1.5.0",
          "state": {
            "_view_name": "HTMLView",
            "style": "IPY_MODEL_22ffcf3982a149b7916e3476be1dcee1",
            "_dom_classes": [],
            "description": "",
            "_model_name": "HTMLModel",
            "placeholder": "​",
            "_view_module": "@jupyter-widgets/controls",
            "_model_module_version": "1.5.0",
            "value": " 466k/466k [00:00&lt;00:00, 1.22MB/s]",
            "_view_count": null,
            "_view_module_version": "1.5.0",
            "description_tooltip": null,
            "_model_module": "@jupyter-widgets/controls",
            "layout": "IPY_MODEL_9ebd3afeec1b4ccdb63b7f8776c2a84d"
          }
        },
        "3bcbf8de50b84bbbb667350ca3ab371a": {
          "model_module": "@jupyter-widgets/controls",
          "model_name": "DescriptionStyleModel",
          "model_module_version": "1.5.0",
          "state": {
            "_view_name": "StyleView",
            "_model_name": "DescriptionStyleModel",
            "description_width": "",
            "_view_module": "@jupyter-widgets/base",
            "_model_module_version": "1.5.0",
            "_view_count": null,
            "_view_module_version": "1.2.0",
            "_model_module": "@jupyter-widgets/controls"
          }
        },
        "d148dcbd67d244f18370c3706b2f3799": {
          "model_module": "@jupyter-widgets/base",
          "model_name": "LayoutModel",
          "model_module_version": "1.2.0",
          "state": {
            "_view_name": "LayoutView",
            "grid_template_rows": null,
            "right": null,
            "justify_content": null,
            "_view_module": "@jupyter-widgets/base",
            "overflow": null,
            "_model_module_version": "1.2.0",
            "_view_count": null,
            "flex_flow": null,
            "width": null,
            "min_width": null,
            "border": null,
            "align_items": null,
            "bottom": null,
            "_model_module": "@jupyter-widgets/base",
            "top": null,
            "grid_column": null,
            "overflow_y": null,
            "overflow_x": null,
            "grid_auto_flow": null,
            "grid_area": null,
            "grid_template_columns": null,
            "flex": null,
            "_model_name": "LayoutModel",
            "justify_items": null,
            "grid_row": null,
            "max_height": null,
            "align_content": null,
            "visibility": null,
            "align_self": null,
            "height": null,
            "min_height": null,
            "padding": null,
            "grid_auto_rows": null,
            "grid_gap": null,
            "max_width": null,
            "order": null,
            "_view_module_version": "1.2.0",
            "grid_template_areas": null,
            "object_position": null,
            "object_fit": null,
            "grid_auto_columns": null,
            "margin": null,
            "display": null,
            "left": null
          }
        },
        "2b93f5fde9f448ce94f0055068632b4d": {
          "model_module": "@jupyter-widgets/controls",
          "model_name": "ProgressStyleModel",
          "model_module_version": "1.5.0",
          "state": {
            "_view_name": "StyleView",
            "_model_name": "ProgressStyleModel",
            "description_width": "",
            "_view_module": "@jupyter-widgets/base",
            "_model_module_version": "1.5.0",
            "_view_count": null,
            "_view_module_version": "1.2.0",
            "bar_color": null,
            "_model_module": "@jupyter-widgets/controls"
          }
        },
        "5fb05d2df812473585a393045df157c9": {
          "model_module": "@jupyter-widgets/base",
          "model_name": "LayoutModel",
          "model_module_version": "1.2.0",
          "state": {
            "_view_name": "LayoutView",
            "grid_template_rows": null,
            "right": null,
            "justify_content": null,
            "_view_module": "@jupyter-widgets/base",
            "overflow": null,
            "_model_module_version": "1.2.0",
            "_view_count": null,
            "flex_flow": null,
            "width": null,
            "min_width": null,
            "border": null,
            "align_items": null,
            "bottom": null,
            "_model_module": "@jupyter-widgets/base",
            "top": null,
            "grid_column": null,
            "overflow_y": null,
            "overflow_x": null,
            "grid_auto_flow": null,
            "grid_area": null,
            "grid_template_columns": null,
            "flex": null,
            "_model_name": "LayoutModel",
            "justify_items": null,
            "grid_row": null,
            "max_height": null,
            "align_content": null,
            "visibility": null,
            "align_self": null,
            "height": null,
            "min_height": null,
            "padding": null,
            "grid_auto_rows": null,
            "grid_gap": null,
            "max_width": null,
            "order": null,
            "_view_module_version": "1.2.0",
            "grid_template_areas": null,
            "object_position": null,
            "object_fit": null,
            "grid_auto_columns": null,
            "margin": null,
            "display": null,
            "left": null
          }
        },
        "22ffcf3982a149b7916e3476be1dcee1": {
          "model_module": "@jupyter-widgets/controls",
          "model_name": "DescriptionStyleModel",
          "model_module_version": "1.5.0",
          "state": {
            "_view_name": "StyleView",
            "_model_name": "DescriptionStyleModel",
            "description_width": "",
            "_view_module": "@jupyter-widgets/base",
            "_model_module_version": "1.5.0",
            "_view_count": null,
            "_view_module_version": "1.2.0",
            "_model_module": "@jupyter-widgets/controls"
          }
        },
        "9ebd3afeec1b4ccdb63b7f8776c2a84d": {
          "model_module": "@jupyter-widgets/base",
          "model_name": "LayoutModel",
          "model_module_version": "1.2.0",
          "state": {
            "_view_name": "LayoutView",
            "grid_template_rows": null,
            "right": null,
            "justify_content": null,
            "_view_module": "@jupyter-widgets/base",
            "overflow": null,
            "_model_module_version": "1.2.0",
            "_view_count": null,
            "flex_flow": null,
            "width": null,
            "min_width": null,
            "border": null,
            "align_items": null,
            "bottom": null,
            "_model_module": "@jupyter-widgets/base",
            "top": null,
            "grid_column": null,
            "overflow_y": null,
            "overflow_x": null,
            "grid_auto_flow": null,
            "grid_area": null,
            "grid_template_columns": null,
            "flex": null,
            "_model_name": "LayoutModel",
            "justify_items": null,
            "grid_row": null,
            "max_height": null,
            "align_content": null,
            "visibility": null,
            "align_self": null,
            "height": null,
            "min_height": null,
            "padding": null,
            "grid_auto_rows": null,
            "grid_gap": null,
            "max_width": null,
            "order": null,
            "_view_module_version": "1.2.0",
            "grid_template_areas": null,
            "object_position": null,
            "object_fit": null,
            "grid_auto_columns": null,
            "margin": null,
            "display": null,
            "left": null
          }
        }
      }
    },
    "accelerator": "GPU"
  },
  "cells": [
    {
      "cell_type": "code",
      "execution_count": null,
      "source": [
        "from google.colab import drive\n",
        "drive.mount('/content/gdrive')\n"
      ],
      "outputs": [
        {
          "output_type": "stream",
          "name": "stdout",
          "text": [
            "Mounted at /content/gdrive\n"
          ]
        }
      ],
      "metadata": {
        "colab": {
          "base_uri": "https://localhost:8080/"
        },
        "id": "WAYLoJN5ezfO",
        "outputId": "02c724ae-020a-4d70-9d71-729b6f774c79"
      }
    },
    {
      "cell_type": "code",
      "execution_count": null,
      "source": [
        "!pip install transformers"
      ],
      "outputs": [
        {
          "output_type": "stream",
          "name": "stdout",
          "text": [
            "Collecting transformers\n",
            "  Downloading transformers-4.10.0-py3-none-any.whl (2.8 MB)\n",
            "\u001b[K     |████████████████████████████████| 2.8 MB 5.3 MB/s \n",
            "\u001b[?25hCollecting sacremoses\n",
            "  Downloading sacremoses-0.0.45-py3-none-any.whl (895 kB)\n",
            "\u001b[K     |████████████████████████████████| 895 kB 46.4 MB/s \n",
            "\u001b[?25hRequirement already satisfied: tqdm>=4.27 in /usr/local/lib/python3.7/dist-packages (from transformers) (4.62.0)\n",
            "Collecting tokenizers<0.11,>=0.10.1\n",
            "  Downloading tokenizers-0.10.3-cp37-cp37m-manylinux_2_5_x86_64.manylinux1_x86_64.manylinux_2_12_x86_64.manylinux2010_x86_64.whl (3.3 MB)\n",
            "\u001b[K     |████████████████████████████████| 3.3 MB 35.3 MB/s \n",
            "\u001b[?25hRequirement already satisfied: numpy>=1.17 in /usr/local/lib/python3.7/dist-packages (from transformers) (1.19.5)\n",
            "Requirement already satisfied: filelock in /usr/local/lib/python3.7/dist-packages (from transformers) (3.0.12)\n",
            "Collecting pyyaml>=5.1\n",
            "  Downloading PyYAML-5.4.1-cp37-cp37m-manylinux1_x86_64.whl (636 kB)\n",
            "\u001b[K     |████████████████████████████████| 636 kB 51.3 MB/s \n",
            "\u001b[?25hRequirement already satisfied: importlib-metadata in /usr/local/lib/python3.7/dist-packages (from transformers) (4.6.4)\n",
            "Requirement already satisfied: packaging in /usr/local/lib/python3.7/dist-packages (from transformers) (21.0)\n",
            "Requirement already satisfied: requests in /usr/local/lib/python3.7/dist-packages (from transformers) (2.23.0)\n",
            "Collecting huggingface-hub>=0.0.12\n",
            "  Downloading huggingface_hub-0.0.16-py3-none-any.whl (50 kB)\n",
            "\u001b[K     |████████████████████████████████| 50 kB 6.7 MB/s \n",
            "\u001b[?25hRequirement already satisfied: regex!=2019.12.17 in /usr/local/lib/python3.7/dist-packages (from transformers) (2019.12.20)\n",
            "Requirement already satisfied: typing-extensions in /usr/local/lib/python3.7/dist-packages (from huggingface-hub>=0.0.12->transformers) (3.7.4.3)\n",
            "Requirement already satisfied: pyparsing>=2.0.2 in /usr/local/lib/python3.7/dist-packages (from packaging->transformers) (2.4.7)\n",
            "Requirement already satisfied: zipp>=0.5 in /usr/local/lib/python3.7/dist-packages (from importlib-metadata->transformers) (3.5.0)\n",
            "Requirement already satisfied: chardet<4,>=3.0.2 in /usr/local/lib/python3.7/dist-packages (from requests->transformers) (3.0.4)\n",
            "Requirement already satisfied: idna<3,>=2.5 in /usr/local/lib/python3.7/dist-packages (from requests->transformers) (2.10)\n",
            "Requirement already satisfied: certifi>=2017.4.17 in /usr/local/lib/python3.7/dist-packages (from requests->transformers) (2021.5.30)\n",
            "Requirement already satisfied: urllib3!=1.25.0,!=1.25.1,<1.26,>=1.21.1 in /usr/local/lib/python3.7/dist-packages (from requests->transformers) (1.24.3)\n",
            "Requirement already satisfied: six in /usr/local/lib/python3.7/dist-packages (from sacremoses->transformers) (1.15.0)\n",
            "Requirement already satisfied: click in /usr/local/lib/python3.7/dist-packages (from sacremoses->transformers) (7.1.2)\n",
            "Requirement already satisfied: joblib in /usr/local/lib/python3.7/dist-packages (from sacremoses->transformers) (1.0.1)\n",
            "Installing collected packages: tokenizers, sacremoses, pyyaml, huggingface-hub, transformers\n",
            "  Attempting uninstall: pyyaml\n",
            "    Found existing installation: PyYAML 3.13\n",
            "    Uninstalling PyYAML-3.13:\n",
            "      Successfully uninstalled PyYAML-3.13\n",
            "Successfully installed huggingface-hub-0.0.16 pyyaml-5.4.1 sacremoses-0.0.45 tokenizers-0.10.3 transformers-4.10.0\n"
          ]
        }
      ],
      "metadata": {
        "colab": {
          "base_uri": "https://localhost:8080/"
        },
        "id": "_55WRxFze3JD",
        "outputId": "e647894a-c847-4b50-c6cf-460d0d7ee3d6"
      }
    },
    {
      "cell_type": "code",
      "execution_count": null,
      "source": [
        "import pandas as pd\n",
        "import re\n",
        "from textblob import TextBlob\n",
        "\n",
        "path = \"/content/gdrive/MyDrive/enter_weights/\"\n",
        "df = pd.read_csv(path+\"clean_train.csv\")\n",
        "df_test = pd.read_csv(path+\"clean_test.csv\")\n",
        "# df = df.dropna()\n",
        "\n",
        "df.head()"
      ],
      "outputs": [
        {
          "output_type": "execute_result",
          "data": {
            "text/plain": [
              "                                                text  ...  clean_aspect\n",
              "0    can you check whether its cancelled completely?  ...      canceled\n",
              "1  cannot rely on both milk delivery and grocery ...  ...          milk\n",
              "2  I get no notification, however the app is real...  ...  ratification\n",
              "3  Love this app, but would love it even more if ...  ...          view\n",
              "4        it does not let me load a clip on the scene  ...          load\n",
              "\n",
              "[5 rows x 5 columns]"
            ],
            "text/html": [
              "<div>\n",
              "<style scoped>\n",
              "    .dataframe tbody tr th:only-of-type {\n",
              "        vertical-align: middle;\n",
              "    }\n",
              "\n",
              "    .dataframe tbody tr th {\n",
              "        vertical-align: top;\n",
              "    }\n",
              "\n",
              "    .dataframe thead th {\n",
              "        text-align: right;\n",
              "    }\n",
              "</style>\n",
              "<table border=\"1\" class=\"dataframe\">\n",
              "  <thead>\n",
              "    <tr style=\"text-align: right;\">\n",
              "      <th></th>\n",
              "      <th>text</th>\n",
              "      <th>aspect</th>\n",
              "      <th>label</th>\n",
              "      <th>clean_text</th>\n",
              "      <th>clean_aspect</th>\n",
              "    </tr>\n",
              "  </thead>\n",
              "  <tbody>\n",
              "    <tr>\n",
              "      <th>0</th>\n",
              "      <td>can you check whether its cancelled completely?</td>\n",
              "      <td>cancelled</td>\n",
              "      <td>1</td>\n",
              "      <td>can you check whether its canceled completely?</td>\n",
              "      <td>canceled</td>\n",
              "    </tr>\n",
              "    <tr>\n",
              "      <th>1</th>\n",
              "      <td>cannot rely on both milk delivery and grocery ...</td>\n",
              "      <td>Milk</td>\n",
              "      <td>0</td>\n",
              "      <td>cannot rely on both milk delivery and grocer i...</td>\n",
              "      <td>milk</td>\n",
              "    </tr>\n",
              "    <tr>\n",
              "      <th>2</th>\n",
              "      <td>I get no notification, however the app is real...</td>\n",
              "      <td>notification</td>\n",
              "      <td>0</td>\n",
              "      <td>i get no ratification, however the pp is reall...</td>\n",
              "      <td>ratification</td>\n",
              "    </tr>\n",
              "    <tr>\n",
              "      <th>3</th>\n",
              "      <td>Love this app, but would love it even more if ...</td>\n",
              "      <td>view</td>\n",
              "      <td>1</td>\n",
              "      <td>love this pp, but would love it even more if w...</td>\n",
              "      <td>view</td>\n",
              "    </tr>\n",
              "    <tr>\n",
              "      <th>4</th>\n",
              "      <td>it does not let me load a clip on the scene</td>\n",
              "      <td>load</td>\n",
              "      <td>0</td>\n",
              "      <td>it does not let me load a clip on the scene</td>\n",
              "      <td>load</td>\n",
              "    </tr>\n",
              "  </tbody>\n",
              "</table>\n",
              "</div>"
            ]
          },
          "metadata": {},
          "execution_count": 3
        }
      ],
      "metadata": {
        "colab": {
          "base_uri": "https://localhost:8080/",
          "height": 204
        },
        "id": "j-nVuDWVe-bd",
        "outputId": "de8cd65c-b8e3-4d9e-d896-7598cea58d19"
      }
    },
    {
      "cell_type": "code",
      "execution_count": null,
      "source": [
        "punctuation = '!\"#$%()*+-/:;<=>@[\\\\]^_`{|}~'\n",
        "\n",
        "df[\"clean_text\"] = df[\"text\"].apply(lambda x: re.sub(r\"http\\S+\", \"\", x))\n",
        "df[\"clean_text\"] = df[\"clean_text\"].apply(lambda x: \"\".join(ch for ch in x if ch not in set(punctuation)))\n",
        "df[\"clean_text\"] = df[\"clean_text\"].str.lower()\n",
        "df[\"clean_text\"] = df[\"clean_text\"].str.replace(\"[0-9]\", \" \")\n",
        "df[\"clean_text\"] = df[\"clean_text\"].apply(lambda x:\" \".join(x.split()))\n",
        "# df[\"clean_text\"] = df[\"clean_text\"].apply(lambda x: str(TextBlob(x).correct()))\n",
        "\n",
        "\n",
        "df[\"clean_aspect\"] = df[\"aspect\"].apply(lambda x: re.sub(r\"http\\S+\", \"\", x))\n",
        "df[\"clean_aspect\"] = df[\"clean_aspect\"].apply(lambda x: \"\".join(ch for ch in x if ch not in set(punctuation)))\n",
        "df[\"clean_aspect\"] = df[\"clean_aspect\"].str.lower()\n",
        "df[\"clean_aspect\"] = df[\"clean_aspect\"].str.replace(\"[0-9]\", \" \")\n",
        "df[\"clean_aspect\"] = df[\"clean_aspect\"].apply(lambda x:\" \".join(x.split()))\n",
        "# df[\"clean_aspect\"] = df[\"clean_aspect\"].apply(lambda x: str(TextBlob(x).correct()))\n",
        "\n",
        "\n",
        "df_test[\"clean_text\"] = df_test[\"text\"].apply(lambda x: re.sub(r\"http\\S+\", \"\", x))\n",
        "df_test[\"clean_text\"] = df_test[\"clean_text\"].apply(lambda x: \"\".join(ch for ch in x if ch not in set(punctuation)))\n",
        "df_test[\"clean_text\"] = df_test[\"clean_text\"].str.lower()\n",
        "df_test[\"clean_text\"] = df_test[\"clean_text\"].str.replace(\"[0-9]\", \" \")\n",
        "df_test[\"clean_text\"] = df_test[\"clean_text\"].apply(lambda x:\" \".join(x.split()))\n",
        "# df_test[\"clean_text\"] = df_test[\"clean_text\"].apply(lambda x: str(TextBlob(x).correct()))\n",
        "\n",
        "\n",
        "df_test[\"clean_aspect\"] = df_test[\"aspect\"].apply(lambda x: re.sub(r\"http\\S+\", \"\", x))\n",
        "df_test[\"clean_aspect\"] = df_test[\"clean_aspect\"].apply(lambda x: \"\".join(ch for ch in x if ch not in set(punctuation)))\n",
        "df_test[\"clean_aspect\"] = df_test[\"clean_aspect\"].str.lower()\n",
        "df_test[\"clean_aspect\"] = df_test[\"clean_aspect\"].str.replace(\"[0-9]\", \" \")\n",
        "df_test[\"clean_aspect\"] = df_test[\"clean_aspect\"].apply(lambda x:\" \".join(x.split()))\n",
        "\n",
        "# df_test[\"clean_aspect\"] = df_test[\"clean_aspect\"].apply(lambda x: str(TextBlob(x).correct()))\n",
        "\n",
        "\n",
        "# df.to_csv(path+\"clean_train.csv\", index=False)\n",
        "# df_test.to_csv(path+\"clean_test.csv\", index=False)"
      ],
      "outputs": [],
      "metadata": {
        "id": "RJsvXLgigB0C"
      }
    },
    {
      "cell_type": "code",
      "execution_count": null,
      "source": [
        "import numpy as np\n",
        "\n",
        "\n",
        "def build_k_datasets(texts, phrases, targets, splits=5, random_state=0):\n",
        "    \"\"\"\n",
        "    Parameters\n",
        "    ----------\n",
        "    texts: np.array[(str)] or List[str]\n",
        "      A array of texts\n",
        "    phrases: np.array[(str)] or List[str]\n",
        "      A array of phrases\n",
        "    splits: int\n",
        "      Number of splits\n",
        "    random_state: int\n",
        "      Random state for reprodubility\n",
        "\n",
        "    Return\n",
        "    ------\n",
        "    train_dataset: List[List[str]]\n",
        "        A k fold train split of strings in this format (Texts_array, Phrase_array, targets_array)\n",
        "    test_dataset: List[List[str]]\n",
        "        A k fold test split of strings in this format (Texts_array, Phrase_array, targets_array)\n",
        "    \"\"\"\n",
        "    from sklearn.model_selection import StratifiedKFold\n",
        "\n",
        "    skf = StratifiedKFold(n_splits=splits, shuffle=True,\n",
        "                          random_state=random_state)\n",
        "\n",
        "    if type(texts) != np.ndarray:\n",
        "        texts = np.array(texts)\n",
        "    if type(phrases) != np.ndarray:\n",
        "        phrases = np.array(phrases)\n",
        "    if type(targets) != np.ndarray:\n",
        "        targets = np.array(targets)\n",
        "\n",
        "    skf.get_n_splits(texts, targets)\n",
        "    train_dataset = []\n",
        "    test_dataset = []\n",
        "    for train_index, test_index in skf.split(texts, targets):\n",
        "        # print(\"TRAIN:\", train_index, \"TEST:\", test_index)\n",
        "        text_train, text_test = texts[train_index], texts[test_index]\n",
        "        phrase_train, phrase_test = phrases[train_index], phrases[test_index]\n",
        "        targets_train, targets_test = targets[train_index], targets[test_index]\n",
        "\n",
        "        train_dataset.append((text_train, phrase_train, targets_train))\n",
        "        test_dataset.append((text_test, phrase_test, targets_test))\n",
        "\n",
        "    return train_dataset, test_dataset\n",
        "\n"
      ],
      "outputs": [],
      "metadata": {
        "id": "WUWOW2zGfVJs"
      }
    },
    {
      "cell_type": "code",
      "execution_count": null,
      "source": [
        "from logging import error\n",
        "import torch\n",
        "import numpy as np\n",
        "from transformers import BertTokenizerFast\n",
        "from torch.utils.data.dataloader import default_collate\n",
        "import torch.nn.functional as F\n",
        "import re\n",
        "import warnings\n",
        "from transformers import AutoTokenizer, AutoModelForSequenceClassification\n",
        "\n",
        "\n",
        "class BERT_Dataset_Type_3:\n",
        "    def __init__(self,\n",
        "                 texts,\n",
        "                 phrases,\n",
        "                 targets,\n",
        "                 tokenizer_save_path,\n",
        "                 tokenizer_method=BertTokenizerFast,\n",
        "                 max_len=128):\n",
        "        self.texts = texts\n",
        "        self.phrases = phrases\n",
        "        self.targets = targets\n",
        "        self.tokenizer = tokenizer_method.from_pretrained(\n",
        "            tokenizer_save_path,\n",
        "            do_lower_case=True,\n",
        "        )\n",
        "        self.max_len = max_len\n",
        "\n",
        "    def __len__(self):\n",
        "        return len(self.texts)\n",
        "\n",
        "    def __getitem__(self, item):\n",
        "\n",
        "        # Calling the indexes of texts and phrases\n",
        "        text = self.texts[item]\n",
        "        phrase = self.phrases[item]\n",
        "        text = \" \".join(text.split()).lower()\n",
        "        phrase = \" \".join(phrase.split()).lower()\n",
        "        tok = self.tokenizer(\n",
        "            text,\n",
        "            phrase,\n",
        "            # pad_to_max_length=True,\n",
        "            # max_length=self.max_len,\n",
        "            return_tensors='pt',\n",
        "            return_token_type_ids=\"True\"\n",
        "        )\n",
        "        return tok.input_ids[0], tok.attention_mask[0], tok.token_type_ids[0], torch.tensor(self.targets[item], dtype=torch.float)\n",
        "\n",
        "class BERT_Dataset_Type_4:\n",
        "    def __init__(self,\n",
        "                 texts,\n",
        "                 phrases,\n",
        "                 targets,\n",
        "                 tokenizer_save_path,\n",
        "                 tokenizer_method=BertTokenizerFast,\n",
        "                 max_len=128):\n",
        "        self.texts = texts\n",
        "        self.phrases = phrases\n",
        "        self.targets = targets\n",
        "        self.tokenizer = tokenizer_method.from_pretrained(\n",
        "            tokenizer_save_path,\n",
        "            do_lower_case=True,\n",
        "        )\n",
        "        self.max_len = max_len\n",
        "\n",
        "    def __len__(self):\n",
        "        return len(self.texts)\n",
        "\n",
        "    def __getitem__(self, item):\n",
        "\n",
        "        # Calling the indexes of texts and phrases\n",
        "        text = self.texts[item]\n",
        "        phrase = self.phrases[item]\n",
        "        text = \" \".join(text.split()).lower()\n",
        "        phrase = \" \".join(phrase.split()).lower()\n",
        "        tok = self.tokenizer(\n",
        "            text,\n",
        "            # pad_to_max_length=True,\n",
        "            # max_length=self.max_len,\n",
        "            return_tensors='pt',\n",
        "            return_token_type_ids=\"True\"\n",
        "        )\n",
        "        return tok.input_ids[0], tok.attention_mask[0], tok.token_type_ids[0], torch.tensor(self.targets[item], dtype=torch.float)\n",
        "\n",
        "\n",
        "\n",
        "def custom_collate(data):\n",
        "    max_len = 0\n",
        "    ids, masks, tok_types, targets = map(list, zip(*data))\n",
        "    for id in ids:\n",
        "        max_len = max(max_len, id.shape[0])\n",
        "    \n",
        "    padded_ids, padded_masks, padded_tok_types = [], [], []\n",
        "    \n",
        "    for id in ids:\n",
        "        pad_size = max_len - id.shape[0]\n",
        "        padded_ids.append(F.pad(id, (0, pad_size), \"constant\", 0))\n",
        "\n",
        "    for mask in masks:\n",
        "        pad_size = max_len - mask.shape[0]\n",
        "        padded_masks.append(F.pad(mask, (0, pad_size), \"constant\", 0))\n",
        "\n",
        "    for tok_type in tok_types:\n",
        "        pad_size = max_len - tok_type.shape[0]\n",
        "        padded_tok_types.append(F.pad(tok_type, (0, pad_size), \"constant\", 0))\n",
        "\n",
        "    padded_ids = torch.stack(padded_ids, dim=0)\n",
        "    padded_masks = torch.stack(padded_masks, dim=0)\n",
        "    padded_tok_types = torch.stack(padded_tok_types, dim=0)\n",
        "    targets = torch.stack(targets, dim=0)\n",
        "    return padded_ids, padded_masks, padded_tok_types, targets\n",
        "\n",
        "\n"
      ],
      "outputs": [],
      "metadata": {
        "id": "rMzNFiWKf8Gj"
      }
    },
    {
      "cell_type": "code",
      "execution_count": null,
      "source": [
        "\n",
        "import time\n",
        "import numpy as np\n",
        "import torch\n",
        "import torch.nn as nn\n",
        "from transformers import AdamW\n",
        "from transformers import get_linear_schedule_with_warmup\n",
        "from tqdm import tqdm\n",
        "\n",
        "from sklearn.metrics import f1_score\n",
        "from sklearn.metrics import confusion_matrix\n",
        "\n",
        "import pandas as pd\n",
        "\n",
        "\n",
        "def classify_default(model, tok_ids, attn_mask, tok_type, device):\n",
        "    tok_ids = tok_ids.to(device)\n",
        "    attn_mask = attn_mask.to(device)\n",
        "    tok_type = tok_type.to(device)\n",
        "    return model(tok_ids,\n",
        "                 attention_mask=attn_mask,\n",
        "                 token_type_ids=tok_type,\n",
        "                 return_dict=False)[0]\n",
        "\n",
        "def classify_distill(model, tok_ids, attn_mask, tok_type, device):\n",
        "    tok_ids = tok_ids.to(device)\n",
        "    attn_mask = attn_mask.to(device)\n",
        "    tok_type = tok_type.to(device)\n",
        "    return model(tok_ids,\n",
        "                 attention_mask=attn_mask,\n",
        "                #  token_type_ids=tok_type,\n",
        "                 return_dict=False)[0]\n",
        "\n",
        "\n",
        "def loss_fn_cross_entropy(outputs, targets):\n",
        "    return nn.CrossEntropyLoss()(outputs, targets.to(int))\n",
        "\n",
        "\n",
        "class Trainer:\n",
        "    \"\"\"\n",
        "    Will be used for Trainer Class for training the model\n",
        "\n",
        "    1. Will train the model\n",
        "    2. Will evaluate the model\n",
        "    3. Will save the torch model\n",
        "    4. Will save the model to onnx\n",
        "    5. Can connect it to wandb\n",
        "    \"\"\"\n",
        "\n",
        "    def __init__(self,\n",
        "                 model,\n",
        "                 classify,\n",
        "                 config,\n",
        "                 device=None\n",
        "                 ):\n",
        "        if device is not None:\n",
        "            self.device = device\n",
        "        else:\n",
        "            self.device = torch.device(\n",
        "                \"cuda\") if torch.cuda.is_available() else torch.device(\"cpu\")\n",
        "        self.model = model.to(self.device)\n",
        "        self.optimizer = AdamW(model.parameters(),\n",
        "                               lr=config[\"learning_rate\"])\n",
        "        self.criterion = loss_fn_cross_entropy\n",
        "        self.classify = classify\n",
        "        self.config = config\n",
        "        num_train_steps = int(config[\"df_len\"] / config[\"train_batch_size\"] * config[\"num_epochs\"])\n",
        "        self.scheduler = get_linear_schedule_with_warmup(\n",
        "            self.optimizer, num_warmup_steps=0,\n",
        "            num_training_steps=num_train_steps\n",
        "        )\n",
        "\n",
        "    def train_classification(self,\n",
        "                             train_dataloader,\n",
        "                             val_dataloader,\n",
        "                             start_step=0):\n",
        "\n",
        "        training_log = []\n",
        "\n",
        "        for epoch in range(self.config[\"num_epochs\"]):\n",
        "            start_time = time.time()\n",
        "            self.model.train()\n",
        "            running_loss = []\n",
        "\n",
        "            for batch_idx, batch in tqdm(enumerate(train_dataloader),\n",
        "                                         total=len(train_dataloader),\n",
        "                                         leave=False):\n",
        "                self.optimizer.zero_grad()\n",
        "                tok_ids, attn_mask, tok_type, targets = batch\n",
        "\n",
        "                predictions = self.classify(self.model, tok_ids, attn_mask, tok_type, self.device)\n",
        "                loss = self.criterion(predictions, targets.to(self.device))\n",
        "                loss.backward()\n",
        "                self.optimizer.step()\n",
        "                self.scheduler.step()\n",
        "                running_loss.append(loss.item())\n",
        "\n",
        "                start_step += 1\n",
        "\n",
        "            running_loss = np.mean(running_loss)\n",
        "            overall_acc, acc_1, acc_2, acc_3, f1, val_loss = self.get_validation(\n",
        "                val_dataloader)\n",
        "            elapsed = time.time() - start_time\n",
        "\n",
        "            training_log.append([epoch, running_loss, val_loss,\n",
        "                                 acc_1, acc_2, acc_3, f1])\n",
        "            print(\n",
        "                \"| epoch {:3d} | train loss {:8.5f} | Val loss {:8.5f} | Overall acc {:5.3f} | \"\n",
        "                \"class_1_acc {:5.3f} | class_2_acc {:5.3f} | class_3_acc {:5.3f} | \"\n",
        "                \"f1_score {:5.3f} | Time Taken {:5.3f}s |\".format(\n",
        "                    epoch, running_loss, val_loss, overall_acc,\n",
        "                    acc_1, acc_2, acc_3, f1, elapsed\n",
        "                )\n",
        "            )\n",
        "            print(\" \".join(\"-\" for _ in range(75)))\n",
        "\n",
        "        return training_log\n",
        "\n",
        "    def get_validation(self, val_dataloader):\n",
        "        self.model.eval()\n",
        "        running_loss = []\n",
        "        y_pred = []\n",
        "        y_true = []\n",
        "        with torch.no_grad():\n",
        "            for batch_idx, batch in enumerate(val_dataloader):\n",
        "                tok_ids, attn_mask, tok_type, targets = batch\n",
        "\n",
        "                predictions = self.classify(self.model, tok_ids, attn_mask, tok_type, self.device)\n",
        "                loss = self.criterion(\n",
        "                    predictions, targets.to(self.device))\n",
        "                predictions = torch.nn.functional.softmax(\n",
        "                    predictions, 1).detach().cpu()\n",
        "                predictions = torch.argmax(predictions, dim = 1)\n",
        "                running_loss.append(loss.item())\n",
        "                y_pred += predictions.tolist()\n",
        "                y_true += targets.cpu().tolist()\n",
        "\n",
        "        f1 = f1_score( y_true, y_pred, average=\"weighted\", zero_division=1)\n",
        "        overall_acc = np.mean(np.array(y_true) == np.array(y_pred))\n",
        "        matrix = confusion_matrix(y_true, y_pred)\n",
        "        matrix = matrix.diagonal()/matrix.sum(axis=1)\n",
        "        return overall_acc, matrix[0], matrix[1], matrix[2], f1, np.mean(running_loss)\n"
      ],
      "outputs": [],
      "metadata": {
        "id": "1m4lEZsFiXXa"
      }
    },
    {
      "cell_type": "markdown",
      "source": [
        "# Tiny Bert Cross Validation with 5 folds\n",
        "\n",
        "## Method-\n",
        "  1. Given a Sentence and Phrase, we concatenate them with the [SEP] token\n",
        "  2. Example - \n",
        "    - Sentence - \"The milk was good\"\n",
        "    - phrase - \"milk\"\n",
        "    - Transformer input - \"The milk was good [SEP] milk\"\n",
        "\n",
        "## Results - \n",
        "\n",
        "  1. Fold 0-\n",
        "    - Overall Accuracy - 72.9%\n",
        "    - weighted f1 - 0.72\n",
        "    - Negative accuracy - 74%\n",
        "    - Nuetral accuracy - 73%\n",
        "    - Positive accuracy - 69%\n",
        "\n",
        "  2. Fold 1-   \n",
        "    - Overall Accuracy - 73.6%\n",
        "    - weighted f1 - 0.736\n",
        "    - Negative accuracy - 75.6%\n",
        "    - Nuetral accuracy - 73.4%\n",
        "    - Positive accuracy - 70.7%\n",
        "\n",
        "  3. Fold 2-   \n",
        "    - Overall Accuracy - 75.1%\n",
        "    - weighted f1 - 0.751\n",
        "    - Negative accuracy - 76.5%\n",
        "    - Nuetral accuracy - 80.7%\n",
        "    - Positive accuracy - 65.9%\n",
        "\n",
        "  4. Fold 3-   \n",
        "    - Overall Accuracy - 71.9%\n",
        "    - weighted f1 - 0.718\n",
        "    - Negative accuracy - 75.9%\n",
        "    - Nuetral accuracy - 71.0%\n",
        "    - Positive accuracy - 66.3%\n",
        "\n",
        "  5. Fold 4-   \n",
        "    - Overall Accuracy - 71.9%\n",
        "    - weighted f1 - 0.719\n",
        "    - Negative accuracy - 71.9%\n",
        "    - Nuetral accuracy - 72.9%\n",
        "    - Positive accuracy - 75.2%\n",
        "\n",
        "---\n",
        "\n",
        "\n"
      ],
      "metadata": {
        "id": "7CjCJ48Xy6mW"
      }
    },
    {
      "cell_type": "code",
      "execution_count": null,
      "source": [
        "config = {\n",
        "    \"splits\": 5,\n",
        "    \"seed\": 0,\n",
        "    \"train_batch_size\": 32,\n",
        "    \"val_batch_size\": 64,\n",
        "    \"num_workers\": 2,\n",
        "    \"learning_rate\": 5e-5,\n",
        "    \"df_len\": 3200,\n",
        "    \"num_epochs\": 7,\n",
        "    \"max_len\": 128,\n",
        "    \"checkpoint\": \"huawei-noah/TinyBERT_General_4L_312D\",\n",
        "    \"classify\": classify_default,\n",
        "\n",
        "}\n",
        "texts_all = df[\"clean_text\"].to_numpy()\n",
        "phrases_all = df[\"clean_aspect\"].to_numpy()\n",
        "targets_all = df[\"label\"].to_numpy()\n",
        "\n",
        "train_dataset, test_dataset = build_k_datasets(texts_all, \n",
        "                                               phrases_all, \n",
        "                                               targets_all, \n",
        "                                               config[\"splits\"], \n",
        "                                               config[\"seed\"])\n",
        "\n",
        "for i, dataset in enumerate(zip(train_dataset, test_dataset)):\n",
        "    print(f\"Training for fold {i}\")\n",
        "    print(\" \".join(\"=\" for _ in range(75)))\n",
        "    checkpoint = config[\"checkpoint\"]\n",
        "    train, test = dataset\n",
        "    model = AutoModelForSequenceClassification.from_pretrained(checkpoint, num_labels = 3)\n",
        "    texts, phrases, targets = train\n",
        "    val_texts, val_phrases, val_targets = test\n",
        "\n",
        "    train_dataset = BERT_Dataset_Type_3(texts, phrases, targets, checkpoint, tokenizer_method = AutoTokenizer, max_len=config[\"max_len\"])\n",
        "    train_data_loader = torch.utils.data.DataLoader(\n",
        "        train_dataset, batch_size=config[\"train_batch_size\"], \n",
        "        num_workers=config[\"num_workers\"],\n",
        "        collate_fn = custom_collate\n",
        "    )\n",
        "\n",
        "    val_dataset = BERT_Dataset_Type_3(val_texts, val_phrases, val_targets, checkpoint, tokenizer_method = AutoTokenizer, max_len=config[\"max_len\"])\n",
        "    val_data_loader = torch.utils.data.DataLoader(\n",
        "        val_dataset, batch_size=config[\"val_batch_size\"],\n",
        "        num_workers=config[\"num_workers\"],\n",
        "        collate_fn = custom_collate\n",
        "    )\n",
        "    engine = Trainer(model, config[\"classify\"], config)\n",
        "\n",
        "    log = engine.train_classification(\n",
        "        train_data_loader,\n",
        "        val_data_loader\n",
        "    )\n"
      ],
      "outputs": [
        {
          "output_type": "stream",
          "name": "stdout",
          "text": [
            "Training for fold 0\n",
            "= = = = = = = = = = = = = = = = = = = = = = = = = = = = = = = = = = = = = = = = = = = = = = = = = = = = = = = = = = = = = = = = = = = = = = = = = = =\n"
          ]
        },
        {
          "output_type": "display_data",
          "data": {
            "text/plain": [
              "Downloading:   0%|          | 0.00/409 [00:00<?, ?B/s]"
            ],
            "application/vnd.jupyter.widget-view+json": {
              "model_id": "22d5c4fdc7f94285958b647de85b8223",
              "version_minor": 0,
              "version_major": 2
            }
          },
          "metadata": {}
        },
        {
          "output_type": "display_data",
          "data": {
            "text/plain": [
              "Downloading:   0%|          | 0.00/62.7M [00:00<?, ?B/s]"
            ],
            "application/vnd.jupyter.widget-view+json": {
              "model_id": "84dbccaeb8914354b09c76f33a6e5de7",
              "version_minor": 0,
              "version_major": 2
            }
          },
          "metadata": {}
        },
        {
          "output_type": "stream",
          "name": "stderr",
          "text": [
            "Some weights of the model checkpoint at huawei-noah/TinyBERT_General_4L_312D were not used when initializing BertForSequenceClassification: ['cls.seq_relationship.bias', 'cls.predictions.transform.dense.bias', 'cls.predictions.transform.LayerNorm.weight', 'fit_denses.4.weight', 'fit_denses.1.bias', 'fit_denses.2.weight', 'cls.predictions.decoder.weight', 'fit_denses.3.weight', 'cls.predictions.bias', 'fit_denses.0.weight', 'fit_denses.2.bias', 'fit_denses.1.weight', 'cls.predictions.transform.dense.weight', 'cls.predictions.transform.LayerNorm.bias', 'cls.seq_relationship.weight', 'fit_denses.3.bias', 'fit_denses.0.bias', 'fit_denses.4.bias']\n",
            "- This IS expected if you are initializing BertForSequenceClassification from the checkpoint of a model trained on another task or with another architecture (e.g. initializing a BertForSequenceClassification model from a BertForPreTraining model).\n",
            "- This IS NOT expected if you are initializing BertForSequenceClassification from the checkpoint of a model that you expect to be exactly identical (initializing a BertForSequenceClassification model from a BertForSequenceClassification model).\n",
            "Some weights of BertForSequenceClassification were not initialized from the model checkpoint at huawei-noah/TinyBERT_General_4L_312D and are newly initialized: ['classifier.weight', 'classifier.bias']\n",
            "You should probably TRAIN this model on a down-stream task to be able to use it for predictions and inference.\n"
          ]
        },
        {
          "output_type": "display_data",
          "data": {
            "text/plain": [
              "Downloading:   0%|          | 0.00/232k [00:00<?, ?B/s]"
            ],
            "application/vnd.jupyter.widget-view+json": {
              "model_id": "d2814d291ce342c4ae5200ff508cc44f",
              "version_minor": 0,
              "version_major": 2
            }
          },
          "metadata": {}
        },
        {
          "output_type": "stream",
          "name": "stderr",
          "text": []
        },
        {
          "output_type": "stream",
          "name": "stdout",
          "text": [
            "| epoch   0 | train loss  0.92235 | Val loss  0.79306 | Overall acc 0.646 | class_1_acc 0.738 | class_2_acc 0.622 | class_3_acc 0.527 | f1_score 0.644 | Time Taken 9.522s |\n",
            "- - - - - - - - - - - - - - - - - - - - - - - - - - - - - - - - - - - - - - - - - - - - - - - - - - - - - - - - - - - - - - - - - - - - - - - - - - -\n"
          ]
        },
        {
          "output_type": "stream",
          "name": "stderr",
          "text": []
        },
        {
          "output_type": "stream",
          "name": "stdout",
          "text": [
            "| epoch   1 | train loss  0.68865 | Val loss  0.72370 | Overall acc 0.691 | class_1_acc 0.807 | class_2_acc 0.598 | class_3_acc 0.620 | f1_score 0.688 | Time Taken 9.339s |\n",
            "- - - - - - - - - - - - - - - - - - - - - - - - - - - - - - - - - - - - - - - - - - - - - - - - - - - - - - - - - - - - - - - - - - - - - - - - - - -\n"
          ]
        },
        {
          "output_type": "stream",
          "name": "stderr",
          "text": []
        },
        {
          "output_type": "stream",
          "name": "stdout",
          "text": [
            "| epoch   2 | train loss  0.58182 | Val loss  0.71531 | Overall acc 0.698 | class_1_acc 0.795 | class_2_acc 0.610 | class_3_acc 0.649 | f1_score 0.695 | Time Taken 9.242s |\n",
            "- - - - - - - - - - - - - - - - - - - - - - - - - - - - - - - - - - - - - - - - - - - - - - - - - - - - - - - - - - - - - - - - - - - - - - - - - - -\n"
          ]
        },
        {
          "output_type": "stream",
          "name": "stderr",
          "text": []
        },
        {
          "output_type": "stream",
          "name": "stdout",
          "text": [
            "| epoch   3 | train loss  0.52330 | Val loss  0.71591 | Overall acc 0.708 | class_1_acc 0.732 | class_2_acc 0.637 | class_3_acc 0.756 | f1_score 0.707 | Time Taken 9.273s |\n",
            "- - - - - - - - - - - - - - - - - - - - - - - - - - - - - - - - - - - - - - - - - - - - - - - - - - - - - - - - - - - - - - - - - - - - - - - - - - -\n"
          ]
        },
        {
          "output_type": "stream",
          "name": "stderr",
          "text": []
        },
        {
          "output_type": "stream",
          "name": "stdout",
          "text": [
            "| epoch   4 | train loss  0.44364 | Val loss  0.70204 | Overall acc 0.718 | class_1_acc 0.717 | class_2_acc 0.703 | class_3_acc 0.737 | f1_score 0.718 | Time Taken 9.182s |\n",
            "- - - - - - - - - - - - - - - - - - - - - - - - - - - - - - - - - - - - - - - - - - - - - - - - - - - - - - - - - - - - - - - - - - - - - - - - - - -\n"
          ]
        },
        {
          "output_type": "stream",
          "name": "stderr",
          "text": []
        },
        {
          "output_type": "stream",
          "name": "stdout",
          "text": [
            "| epoch   5 | train loss  0.39888 | Val loss  0.70693 | Overall acc 0.719 | class_1_acc 0.723 | class_2_acc 0.707 | class_3_acc 0.727 | f1_score 0.719 | Time Taken 9.247s |\n",
            "- - - - - - - - - - - - - - - - - - - - - - - - - - - - - - - - - - - - - - - - - - - - - - - - - - - - - - - - - - - - - - - - - - - - - - - - - - -\n"
          ]
        },
        {
          "output_type": "stream",
          "name": "stderr",
          "text": []
        },
        {
          "output_type": "stream",
          "name": "stdout",
          "text": [
            "| epoch   6 | train loss  0.36381 | Val loss  0.69666 | Overall acc 0.729 | class_1_acc 0.747 | class_2_acc 0.730 | class_3_acc 0.698 | f1_score 0.729 | Time Taken 9.189s |\n",
            "- - - - - - - - - - - - - - - - - - - - - - - - - - - - - - - - - - - - - - - - - - - - - - - - - - - - - - - - - - - - - - - - - - - - - - - - - - -\n",
            "Training for fold 1\n",
            "= = = = = = = = = = = = = = = = = = = = = = = = = = = = = = = = = = = = = = = = = = = = = = = = = = = = = = = = = = = = = = = = = = = = = = = = = = =\n"
          ]
        },
        {
          "output_type": "stream",
          "name": "stderr",
          "text": [
            "Some weights of the model checkpoint at huawei-noah/TinyBERT_General_4L_312D were not used when initializing BertForSequenceClassification: ['cls.seq_relationship.bias', 'cls.predictions.transform.dense.bias', 'cls.predictions.transform.LayerNorm.weight', 'fit_denses.4.weight', 'fit_denses.1.bias', 'fit_denses.2.weight', 'cls.predictions.decoder.weight', 'fit_denses.3.weight', 'cls.predictions.bias', 'fit_denses.0.weight', 'fit_denses.2.bias', 'fit_denses.1.weight', 'cls.predictions.transform.dense.weight', 'cls.predictions.transform.LayerNorm.bias', 'cls.seq_relationship.weight', 'fit_denses.3.bias', 'fit_denses.0.bias', 'fit_denses.4.bias']\n",
            "- This IS expected if you are initializing BertForSequenceClassification from the checkpoint of a model trained on another task or with another architecture (e.g. initializing a BertForSequenceClassification model from a BertForPreTraining model).\n",
            "- This IS NOT expected if you are initializing BertForSequenceClassification from the checkpoint of a model that you expect to be exactly identical (initializing a BertForSequenceClassification model from a BertForSequenceClassification model).\n",
            "Some weights of BertForSequenceClassification were not initialized from the model checkpoint at huawei-noah/TinyBERT_General_4L_312D and are newly initialized: ['classifier.weight', 'classifier.bias']\n",
            "You should probably TRAIN this model on a down-stream task to be able to use it for predictions and inference.\n"
          ]
        },
        {
          "output_type": "stream",
          "name": "stdout",
          "text": [
            "| epoch   0 | train loss  0.92680 | Val loss  0.77965 | Overall acc 0.708 | class_1_acc 0.818 | class_2_acc 0.753 | class_3_acc 0.468 | f1_score 0.700 | Time Taken 9.406s |\n",
            "- - - - - - - - - - - - - - - - - - - - - - - - - - - - - - - - - - - - - - - - - - - - - - - - - - - - - - - - - - - - - - - - - - - - - - - - - - -\n"
          ]
        },
        {
          "output_type": "stream",
          "name": "stderr",
          "text": []
        },
        {
          "output_type": "stream",
          "name": "stdout",
          "text": [
            "| epoch   1 | train loss  0.69352 | Val loss  0.69100 | Overall acc 0.739 | class_1_acc 0.827 | class_2_acc 0.792 | class_3_acc 0.527 | f1_score 0.733 | Time Taken 9.332s |\n",
            "- - - - - - - - - - - - - - - - - - - - - - - - - - - - - - - - - - - - - - - - - - - - - - - - - - - - - - - - - - - - - - - - - - - - - - - - - - -\n"
          ]
        },
        {
          "output_type": "stream",
          "name": "stderr",
          "text": []
        },
        {
          "output_type": "stream",
          "name": "stdout",
          "text": [
            "| epoch   2 | train loss  0.57445 | Val loss  0.67738 | Overall acc 0.743 | class_1_acc 0.815 | class_2_acc 0.718 | class_3_acc 0.654 | f1_score 0.741 | Time Taken 9.289s |\n",
            "- - - - - - - - - - - - - - - - - - - - - - - - - - - - - - - - - - - - - - - - - - - - - - - - - - - - - - - - - - - - - - - - - - - - - - - - - - -\n"
          ]
        },
        {
          "output_type": "stream",
          "name": "stderr",
          "text": []
        },
        {
          "output_type": "stream",
          "name": "stdout",
          "text": [
            "| epoch   3 | train loss  0.50433 | Val loss  0.69557 | Overall acc 0.735 | class_1_acc 0.789 | class_2_acc 0.683 | class_3_acc 0.712 | f1_score 0.735 | Time Taken 9.437s |\n",
            "- - - - - - - - - - - - - - - - - - - - - - - - - - - - - - - - - - - - - - - - - - - - - - - - - - - - - - - - - - - - - - - - - - - - - - - - - - -\n"
          ]
        },
        {
          "output_type": "stream",
          "name": "stderr",
          "text": []
        },
        {
          "output_type": "stream",
          "name": "stdout",
          "text": [
            "| epoch   4 | train loss  0.43733 | Val loss  0.70455 | Overall acc 0.736 | class_1_acc 0.738 | class_2_acc 0.757 | class_3_acc 0.707 | f1_score 0.737 | Time Taken 9.259s |\n",
            "- - - - - - - - - - - - - - - - - - - - - - - - - - - - - - - - - - - - - - - - - - - - - - - - - - - - - - - - - - - - - - - - - - - - - - - - - - -\n"
          ]
        },
        {
          "output_type": "stream",
          "name": "stderr",
          "text": []
        },
        {
          "output_type": "stream",
          "name": "stdout",
          "text": [
            "| epoch   5 | train loss  0.39806 | Val loss  0.73045 | Overall acc 0.728 | class_1_acc 0.696 | class_2_acc 0.761 | class_3_acc 0.737 | f1_score 0.728 | Time Taken 9.297s |\n",
            "- - - - - - - - - - - - - - - - - - - - - - - - - - - - - - - - - - - - - - - - - - - - - - - - - - - - - - - - - - - - - - - - - - - - - - - - - - -\n"
          ]
        },
        {
          "output_type": "stream",
          "name": "stderr",
          "text": []
        },
        {
          "output_type": "stream",
          "name": "stdout",
          "text": [
            "| epoch   6 | train loss  0.36386 | Val loss  0.72111 | Overall acc 0.736 | class_1_acc 0.756 | class_2_acc 0.734 | class_3_acc 0.707 | f1_score 0.736 | Time Taken 9.276s |\n",
            "- - - - - - - - - - - - - - - - - - - - - - - - - - - - - - - - - - - - - - - - - - - - - - - - - - - - - - - - - - - - - - - - - - - - - - - - - - -\n",
            "Training for fold 2\n",
            "= = = = = = = = = = = = = = = = = = = = = = = = = = = = = = = = = = = = = = = = = = = = = = = = = = = = = = = = = = = = = = = = = = = = = = = = = = =\n"
          ]
        },
        {
          "output_type": "stream",
          "name": "stderr",
          "text": [
            "Some weights of the model checkpoint at huawei-noah/TinyBERT_General_4L_312D were not used when initializing BertForSequenceClassification: ['cls.seq_relationship.bias', 'cls.predictions.transform.dense.bias', 'cls.predictions.transform.LayerNorm.weight', 'fit_denses.4.weight', 'fit_denses.1.bias', 'fit_denses.2.weight', 'cls.predictions.decoder.weight', 'fit_denses.3.weight', 'cls.predictions.bias', 'fit_denses.0.weight', 'fit_denses.2.bias', 'fit_denses.1.weight', 'cls.predictions.transform.dense.weight', 'cls.predictions.transform.LayerNorm.bias', 'cls.seq_relationship.weight', 'fit_denses.3.bias', 'fit_denses.0.bias', 'fit_denses.4.bias']\n",
            "- This IS expected if you are initializing BertForSequenceClassification from the checkpoint of a model trained on another task or with another architecture (e.g. initializing a BertForSequenceClassification model from a BertForPreTraining model).\n",
            "- This IS NOT expected if you are initializing BertForSequenceClassification from the checkpoint of a model that you expect to be exactly identical (initializing a BertForSequenceClassification model from a BertForSequenceClassification model).\n",
            "Some weights of BertForSequenceClassification were not initialized from the model checkpoint at huawei-noah/TinyBERT_General_4L_312D and are newly initialized: ['classifier.weight', 'classifier.bias']\n",
            "You should probably TRAIN this model on a down-stream task to be able to use it for predictions and inference.\n"
          ]
        },
        {
          "output_type": "stream",
          "name": "stdout",
          "text": [
            "| epoch   0 | train loss  0.91539 | Val loss  0.71493 | Overall acc 0.719 | class_1_acc 0.696 | class_2_acc 0.857 | class_3_acc 0.580 | f1_score 0.718 | Time Taken 9.341s |\n",
            "- - - - - - - - - - - - - - - - - - - - - - - - - - - - - - - - - - - - - - - - - - - - - - - - - - - - - - - - - - - - - - - - - - - - - - - - - - -\n"
          ]
        },
        {
          "output_type": "stream",
          "name": "stderr",
          "text": []
        },
        {
          "output_type": "stream",
          "name": "stdout",
          "text": [
            "| epoch   1 | train loss  0.68606 | Val loss  0.71296 | Overall acc 0.703 | class_1_acc 0.893 | class_2_acc 0.606 | class_3_acc 0.512 | f1_score 0.694 | Time Taken 9.253s |\n",
            "- - - - - - - - - - - - - - - - - - - - - - - - - - - - - - - - - - - - - - - - - - - - - - - - - - - - - - - - - - - - - - - - - - - - - - - - - - -\n"
          ]
        },
        {
          "output_type": "stream",
          "name": "stderr",
          "text": []
        },
        {
          "output_type": "stream",
          "name": "stdout",
          "text": [
            "| epoch   2 | train loss  0.59259 | Val loss  0.63195 | Overall acc 0.750 | class_1_acc 0.762 | class_2_acc 0.819 | class_3_acc 0.644 | f1_score 0.749 | Time Taken 9.345s |\n",
            "- - - - - - - - - - - - - - - - - - - - - - - - - - - - - - - - - - - - - - - - - - - - - - - - - - - - - - - - - - - - - - - - - - - - - - - - - - -\n"
          ]
        },
        {
          "output_type": "stream",
          "name": "stderr",
          "text": []
        },
        {
          "output_type": "stream",
          "name": "stdout",
          "text": [
            "| epoch   3 | train loss  0.52118 | Val loss  0.64267 | Overall acc 0.746 | class_1_acc 0.729 | class_2_acc 0.819 | class_3_acc 0.683 | f1_score 0.746 | Time Taken 9.353s |\n",
            "- - - - - - - - - - - - - - - - - - - - - - - - - - - - - - - - - - - - - - - - - - - - - - - - - - - - - - - - - - - - - - - - - - - - - - - - - - -\n"
          ]
        },
        {
          "output_type": "stream",
          "name": "stderr",
          "text": []
        },
        {
          "output_type": "stream",
          "name": "stdout",
          "text": [
            "| epoch   4 | train loss  0.44232 | Val loss  0.65233 | Overall acc 0.755 | class_1_acc 0.759 | class_2_acc 0.788 | class_3_acc 0.707 | f1_score 0.756 | Time Taken 9.299s |\n",
            "- - - - - - - - - - - - - - - - - - - - - - - - - - - - - - - - - - - - - - - - - - - - - - - - - - - - - - - - - - - - - - - - - - - - - - - - - - -\n"
          ]
        },
        {
          "output_type": "stream",
          "name": "stderr",
          "text": []
        },
        {
          "output_type": "stream",
          "name": "stdout",
          "text": [
            "| epoch   5 | train loss  0.40286 | Val loss  0.65973 | Overall acc 0.752 | class_1_acc 0.744 | class_2_acc 0.780 | class_3_acc 0.732 | f1_score 0.753 | Time Taken 9.341s |\n",
            "- - - - - - - - - - - - - - - - - - - - - - - - - - - - - - - - - - - - - - - - - - - - - - - - - - - - - - - - - - - - - - - - - - - - - - - - - - -\n"
          ]
        },
        {
          "output_type": "stream",
          "name": "stderr",
          "text": []
        },
        {
          "output_type": "stream",
          "name": "stdout",
          "text": [
            "| epoch   6 | train loss  0.38022 | Val loss  0.64971 | Overall acc 0.751 | class_1_acc 0.765 | class_2_acc 0.807 | class_3_acc 0.659 | f1_score 0.751 | Time Taken 9.311s |\n",
            "- - - - - - - - - - - - - - - - - - - - - - - - - - - - - - - - - - - - - - - - - - - - - - - - - - - - - - - - - - - - - - - - - - - - - - - - - - -\n",
            "Training for fold 3\n",
            "= = = = = = = = = = = = = = = = = = = = = = = = = = = = = = = = = = = = = = = = = = = = = = = = = = = = = = = = = = = = = = = = = = = = = = = = = = =\n"
          ]
        },
        {
          "output_type": "stream",
          "name": "stderr",
          "text": [
            "Some weights of the model checkpoint at huawei-noah/TinyBERT_General_4L_312D were not used when initializing BertForSequenceClassification: ['cls.seq_relationship.bias', 'cls.predictions.transform.dense.bias', 'cls.predictions.transform.LayerNorm.weight', 'fit_denses.4.weight', 'fit_denses.1.bias', 'fit_denses.2.weight', 'cls.predictions.decoder.weight', 'fit_denses.3.weight', 'cls.predictions.bias', 'fit_denses.0.weight', 'fit_denses.2.bias', 'fit_denses.1.weight', 'cls.predictions.transform.dense.weight', 'cls.predictions.transform.LayerNorm.bias', 'cls.seq_relationship.weight', 'fit_denses.3.bias', 'fit_denses.0.bias', 'fit_denses.4.bias']\n",
            "- This IS expected if you are initializing BertForSequenceClassification from the checkpoint of a model trained on another task or with another architecture (e.g. initializing a BertForSequenceClassification model from a BertForPreTraining model).\n",
            "- This IS NOT expected if you are initializing BertForSequenceClassification from the checkpoint of a model that you expect to be exactly identical (initializing a BertForSequenceClassification model from a BertForSequenceClassification model).\n",
            "Some weights of BertForSequenceClassification were not initialized from the model checkpoint at huawei-noah/TinyBERT_General_4L_312D and are newly initialized: ['classifier.weight', 'classifier.bias']\n",
            "You should probably TRAIN this model on a down-stream task to be able to use it for predictions and inference.\n"
          ]
        },
        {
          "output_type": "stream",
          "name": "stdout",
          "text": [
            "| epoch   0 | train loss  0.95147 | Val loss  0.85850 | Overall acc 0.646 | class_1_acc 0.747 | class_2_acc 0.714 | class_3_acc 0.395 | f1_score 0.637 | Time Taken 9.170s |\n",
            "- - - - - - - - - - - - - - - - - - - - - - - - - - - - - - - - - - - - - - - - - - - - - - - - - - - - - - - - - - - - - - - - - - - - - - - - - - -\n"
          ]
        },
        {
          "output_type": "stream",
          "name": "stderr",
          "text": []
        },
        {
          "output_type": "stream",
          "name": "stdout",
          "text": [
            "| epoch   1 | train loss  0.70072 | Val loss  0.74904 | Overall acc 0.680 | class_1_acc 0.765 | class_2_acc 0.695 | class_3_acc 0.522 | f1_score 0.677 | Time Taken 9.100s |\n",
            "- - - - - - - - - - - - - - - - - - - - - - - - - - - - - - - - - - - - - - - - - - - - - - - - - - - - - - - - - - - - - - - - - - - - - - - - - - -\n"
          ]
        },
        {
          "output_type": "stream",
          "name": "stderr",
          "text": []
        },
        {
          "output_type": "stream",
          "name": "stdout",
          "text": [
            "| epoch   2 | train loss  0.58475 | Val loss  0.74915 | Overall acc 0.699 | class_1_acc 0.812 | class_2_acc 0.556 | class_3_acc 0.693 | f1_score 0.694 | Time Taken 9.081s |\n",
            "- - - - - - - - - - - - - - - - - - - - - - - - - - - - - - - - - - - - - - - - - - - - - - - - - - - - - - - - - - - - - - - - - - - - - - - - - - -\n"
          ]
        },
        {
          "output_type": "stream",
          "name": "stderr",
          "text": []
        },
        {
          "output_type": "stream",
          "name": "stdout",
          "text": [
            "| epoch   3 | train loss  0.51447 | Val loss  0.73748 | Overall acc 0.696 | class_1_acc 0.702 | class_2_acc 0.676 | class_3_acc 0.712 | f1_score 0.697 | Time Taken 9.132s |\n",
            "- - - - - - - - - - - - - - - - - - - - - - - - - - - - - - - - - - - - - - - - - - - - - - - - - - - - - - - - - - - - - - - - - - - - - - - - - - -\n"
          ]
        },
        {
          "output_type": "stream",
          "name": "stderr",
          "text": []
        },
        {
          "output_type": "stream",
          "name": "stdout",
          "text": [
            "| epoch   4 | train loss  0.42533 | Val loss  0.75438 | Overall acc 0.699 | class_1_acc 0.723 | class_2_acc 0.672 | class_3_acc 0.693 | f1_score 0.699 | Time Taken 9.136s |\n",
            "- - - - - - - - - - - - - - - - - - - - - - - - - - - - - - - - - - - - - - - - - - - - - - - - - - - - - - - - - - - - - - - - - - - - - - - - - - -\n"
          ]
        },
        {
          "output_type": "stream",
          "name": "stderr",
          "text": []
        },
        {
          "output_type": "stream",
          "name": "stdout",
          "text": [
            "| epoch   5 | train loss  0.39993 | Val loss  0.75384 | Overall acc 0.711 | class_1_acc 0.685 | class_2_acc 0.784 | class_3_acc 0.663 | f1_score 0.711 | Time Taken 9.086s |\n",
            "- - - - - - - - - - - - - - - - - - - - - - - - - - - - - - - - - - - - - - - - - - - - - - - - - - - - - - - - - - - - - - - - - - - - - - - - - - -\n"
          ]
        },
        {
          "output_type": "stream",
          "name": "stderr",
          "text": []
        },
        {
          "output_type": "stream",
          "name": "stdout",
          "text": [
            "| epoch   6 | train loss  0.36845 | Val loss  0.76090 | Overall acc 0.719 | class_1_acc 0.759 | class_2_acc 0.710 | class_3_acc 0.663 | f1_score 0.718 | Time Taken 9.103s |\n",
            "- - - - - - - - - - - - - - - - - - - - - - - - - - - - - - - - - - - - - - - - - - - - - - - - - - - - - - - - - - - - - - - - - - - - - - - - - - -\n",
            "Training for fold 4\n",
            "= = = = = = = = = = = = = = = = = = = = = = = = = = = = = = = = = = = = = = = = = = = = = = = = = = = = = = = = = = = = = = = = = = = = = = = = = = =\n"
          ]
        },
        {
          "output_type": "stream",
          "name": "stderr",
          "text": [
            "Some weights of the model checkpoint at huawei-noah/TinyBERT_General_4L_312D were not used when initializing BertForSequenceClassification: ['cls.seq_relationship.bias', 'cls.predictions.transform.dense.bias', 'cls.predictions.transform.LayerNorm.weight', 'fit_denses.4.weight', 'fit_denses.1.bias', 'fit_denses.2.weight', 'cls.predictions.decoder.weight', 'fit_denses.3.weight', 'cls.predictions.bias', 'fit_denses.0.weight', 'fit_denses.2.bias', 'fit_denses.1.weight', 'cls.predictions.transform.dense.weight', 'cls.predictions.transform.LayerNorm.bias', 'cls.seq_relationship.weight', 'fit_denses.3.bias', 'fit_denses.0.bias', 'fit_denses.4.bias']\n",
            "- This IS expected if you are initializing BertForSequenceClassification from the checkpoint of a model trained on another task or with another architecture (e.g. initializing a BertForSequenceClassification model from a BertForPreTraining model).\n",
            "- This IS NOT expected if you are initializing BertForSequenceClassification from the checkpoint of a model that you expect to be exactly identical (initializing a BertForSequenceClassification model from a BertForSequenceClassification model).\n",
            "Some weights of BertForSequenceClassification were not initialized from the model checkpoint at huawei-noah/TinyBERT_General_4L_312D and are newly initialized: ['classifier.weight', 'classifier.bias']\n",
            "You should probably TRAIN this model on a down-stream task to be able to use it for predictions and inference.\n"
          ]
        },
        {
          "output_type": "stream",
          "name": "stdout",
          "text": [
            "| epoch   0 | train loss  0.92165 | Val loss  0.77405 | Overall acc 0.679 | class_1_acc 0.750 | class_2_acc 0.806 | class_3_acc 0.403 | f1_score 0.669 | Time Taken 9.624s |\n",
            "- - - - - - - - - - - - - - - - - - - - - - - - - - - - - - - - - - - - - - - - - - - - - - - - - - - - - - - - - - - - - - - - - - - - - - - - - - -\n"
          ]
        },
        {
          "output_type": "stream",
          "name": "stderr",
          "text": []
        },
        {
          "output_type": "stream",
          "name": "stdout",
          "text": [
            "| epoch   1 | train loss  0.67370 | Val loss  0.68004 | Overall acc 0.716 | class_1_acc 0.804 | class_2_acc 0.698 | class_3_acc 0.597 | f1_score 0.714 | Time Taken 9.511s |\n",
            "- - - - - - - - - - - - - - - - - - - - - - - - - - - - - - - - - - - - - - - - - - - - - - - - - - - - - - - - - - - - - - - - - - - - - - - - - - -\n"
          ]
        },
        {
          "output_type": "stream",
          "name": "stderr",
          "text": []
        },
        {
          "output_type": "stream",
          "name": "stdout",
          "text": [
            "| epoch   2 | train loss  0.58459 | Val loss  0.71688 | Overall acc 0.716 | class_1_acc 0.777 | class_2_acc 0.620 | class_3_acc 0.738 | f1_score 0.715 | Time Taken 9.545s |\n",
            "- - - - - - - - - - - - - - - - - - - - - - - - - - - - - - - - - - - - - - - - - - - - - - - - - - - - - - - - - - - - - - - - - - - - - - - - - - -\n"
          ]
        },
        {
          "output_type": "stream",
          "name": "stderr",
          "text": []
        },
        {
          "output_type": "stream",
          "name": "stdout",
          "text": [
            "| epoch   3 | train loss  0.51481 | Val loss  0.69475 | Overall acc 0.723 | class_1_acc 0.714 | class_2_acc 0.767 | class_3_acc 0.680 | f1_score 0.723 | Time Taken 9.499s |\n",
            "- - - - - - - - - - - - - - - - - - - - - - - - - - - - - - - - - - - - - - - - - - - - - - - - - - - - - - - - - - - - - - - - - - - - - - - - - - -\n"
          ]
        },
        {
          "output_type": "stream",
          "name": "stderr",
          "text": []
        },
        {
          "output_type": "stream",
          "name": "stdout",
          "text": [
            "| epoch   4 | train loss  0.43911 | Val loss  0.72665 | Overall acc 0.725 | class_1_acc 0.702 | class_2_acc 0.798 | class_3_acc 0.670 | f1_score 0.726 | Time Taken 9.542s |\n",
            "- - - - - - - - - - - - - - - - - - - - - - - - - - - - - - - - - - - - - - - - - - - - - - - - - - - - - - - - - - - - - - - - - - - - - - - - - - -\n"
          ]
        },
        {
          "output_type": "stream",
          "name": "stderr",
          "text": []
        },
        {
          "output_type": "stream",
          "name": "stdout",
          "text": [
            "| epoch   5 | train loss  0.40238 | Val loss  0.72446 | Overall acc 0.724 | class_1_acc 0.717 | class_2_acc 0.787 | class_3_acc 0.655 | f1_score 0.724 | Time Taken 9.507s |\n",
            "- - - - - - - - - - - - - - - - - - - - - - - - - - - - - - - - - - - - - - - - - - - - - - - - - - - - - - - - - - - - - - - - - - - - - - - - - - -\n"
          ]
        },
        {
          "output_type": "stream",
          "name": "stderr",
          "text": []
        },
        {
          "output_type": "stream",
          "name": "stdout",
          "text": [
            "| epoch   6 | train loss  0.36700 | Val loss  0.72545 | Overall acc 0.719 | class_1_acc 0.729 | class_2_acc 0.752 | class_3_acc 0.660 | f1_score 0.719 | Time Taken 9.507s |\n",
            "- - - - - - - - - - - - - - - - - - - - - - - - - - - - - - - - - - - - - - - - - - - - - - - - - - - - - - - - - - - - - - - - - - - - - - - - - - -\n"
          ]
        }
      ],
      "metadata": {
        "colab": {
          "base_uri": "https://localhost:8080/",
          "height": 1000,
          "referenced_widgets": [
            "22d5c4fdc7f94285958b647de85b8223",
            "dc453c1560924dacadfb3ee7a296e736",
            "5af6901007064063b6b91961b30c660e",
            "481b91011fb94286b083aa25087a7276",
            "1c2649770df847d8b0b3adb037f06195",
            "303411d33020428786c8112aac31ab6c",
            "0adf4dbbdead48ac9174093f8bd73648",
            "de8546022f174aeb8a3101fb3486cddc",
            "8976da8845a243c589de6488504d770d",
            "72e0b980bf9c4788b3992438f2fd2317",
            "1ec08cc949fd436c8b256f99ed1af3f9",
            "84dbccaeb8914354b09c76f33a6e5de7",
            "b574639e0dd74e0ab25f66ccd623a961",
            "40e5331b70d9450db27c6ab08b1ecf8b",
            "2af12fff911241b58caa5909c56948a1",
            "83cbfa03d4a34f93949342b5929e6f72",
            "64c99aa79f6c45c0b1251428277a0c66",
            "f499942e90004845a2dacb2b5b69ad14",
            "1a3ce4cf97c04a5cb093507f9d9f81ad",
            "1b47309c639b4964bbbf2f9289f3c4e7",
            "1ce26183338b4613a0dadbd48ffe36e3",
            "118727ae25eb401398b15393559ec1e1",
            "d2814d291ce342c4ae5200ff508cc44f",
            "d94603468bda4de4b519c364cc3d1420",
            "b7b3ecc235734941aba9ad90011b254b",
            "f8afbc405ba24cb6934d3181a03129e1",
            "162bcbaf26024ed9ba5ccb0045dcf559",
            "5cebbb586ed34c068c5727d59a369c1b",
            "3f8896dac6784ffda2b4436a8a144e3d",
            "51da47ffe93b4e5c9f3b9ecc3d884eca",
            "401e5de35351489c9561170cb24b796b",
            "a036de111c06476ca52e7f7f900787a8",
            "f34fb6fdcb5d47aa9205ab17672059ed"
          ]
        },
        "id": "rKYypCVucHzu",
        "outputId": "b2441a5f-29a5-4c94-d309-f6e60c513587"
      }
    },
    {
      "cell_type": "markdown",
      "source": [
        "# Bert Cross Validation with 5 folds\n",
        "\n",
        "## Method-\n",
        "  1. Given a Sentence and Phrase, we concatenate them with the [SEP] token\n",
        "  2. Example - \n",
        "    - Sentence - \"The milk was good\"\n",
        "    - phrase - \"milk\"\n",
        "    - Transformer input - \"The milk was good [SEP] milk\"\n",
        "\n",
        "## Results - \n",
        "\n",
        "  1. Fold 0-\n",
        "    - Overall Accuracy - 72.3%\n",
        "    - weighted f1 - 0.72\n",
        "    - Negative accuracy - 77.8%\n",
        "    - Nuetral accuracy - 74.9%\n",
        "    - Positive accuracy - 66.3%\n",
        "\n",
        "  2. Fold 1-   \n",
        "    - Overall Accuracy - 73.1%\n",
        "    - weighted f1 - 0.736\n",
        "    - Negative accuracy - 74.7%\n",
        "    - Nuetral accuracy - 72.6%\n",
        "    - Positive accuracy - 71.2%\n",
        "\n",
        "  3. Fold 2-   \n",
        "    - Overall Accuracy - 73.9%\n",
        "    - weighted f1 - 0.73.9\n",
        "    - Negative accuracy - 72.3%\n",
        "    - Nuetral accuracy - 81.5%\n",
        "    - Positive accuracy - 66.8%\n",
        "\n",
        "  4. Fold 3-   \n",
        "    - Overall Accuracy - 71.8%\n",
        "    - weighted f1 - 0.718\n",
        "    - Negative accuracy - 72.6%\n",
        "    - Nuetral accuracy - 76.1%\n",
        "    - Positive accuracy - 64.9%\n",
        "\n",
        "  5. Fold 4-   \n",
        "    - Overall Accuracy - 73.4%\n",
        "    - weighted f1 - 0.735\n",
        "    - Negative accuracy - 73.2%\n",
        "    - Nuetral accuracy - 73.3%\n",
        "    - Positive accuracy - 73.8%\n",
        "\n",
        "---\n",
        "\n",
        "\n"
      ],
      "metadata": {
        "id": "kDwuAuzS1qX8"
      }
    },
    {
      "cell_type": "code",
      "execution_count": null,
      "source": [
        "config = {\n",
        "    \"splits\": 5,\n",
        "    \"seed\": 0,\n",
        "    \"train_batch_size\": 8,\n",
        "    \"val_batch_size\": 16,\n",
        "    \"num_workers\": 2,\n",
        "    \"learning_rate\": 5e-6,\n",
        "    \"df_len\": 3200,\n",
        "    \"num_epochs\": 5,\n",
        "    \"max_len\": 128,\n",
        "    \"checkpoint\": \"bert-base-uncased\",\n",
        "    \"classify\": classify_default,\n",
        "\n",
        "}\n",
        "texts_all = df[\"clean_text\"].to_numpy()\n",
        "phrases_all = df[\"clean_aspect\"].to_numpy()\n",
        "targets_all = df[\"label\"].to_numpy()\n",
        "\n",
        "train_dataset, test_dataset = build_k_datasets(texts_all, \n",
        "                                               phrases_all, \n",
        "                                               targets_all, \n",
        "                                               config[\"splits\"], \n",
        "                                               config[\"seed\"])\n",
        "\n",
        "for i, dataset in enumerate(zip(train_dataset, test_dataset)):\n",
        "    print(f\"Training for fold {i}\")\n",
        "    print(\" \".join(\"=\" for _ in range(75)))\n",
        "    checkpoint = config[\"checkpoint\"]\n",
        "    train, test = dataset\n",
        "    model = AutoModelForSequenceClassification.from_pretrained(checkpoint, num_labels = 3)\n",
        "    texts, phrases, targets = train\n",
        "    val_texts, val_phrases, val_targets = test\n",
        "\n",
        "    train_dataset = BERT_Dataset_Type_3(texts, phrases, targets, checkpoint, tokenizer_method = AutoTokenizer, max_len=config[\"max_len\"])\n",
        "    train_data_loader = torch.utils.data.DataLoader(\n",
        "        train_dataset, batch_size=config[\"train_batch_size\"], \n",
        "        num_workers=config[\"num_workers\"],\n",
        "        collate_fn = custom_collate\n",
        "    )\n",
        "\n",
        "    val_dataset = BERT_Dataset_Type_3(val_texts, val_phrases, val_targets, checkpoint, tokenizer_method = AutoTokenizer, max_len=config[\"max_len\"])\n",
        "    val_data_loader = torch.utils.data.DataLoader(\n",
        "        val_dataset, batch_size=config[\"val_batch_size\"],\n",
        "        num_workers=config[\"num_workers\"],\n",
        "        collate_fn = custom_collate\n",
        "    )\n",
        "    engine = Trainer(model, config[\"classify\"], config)\n",
        "\n",
        "    log = engine.train_classification(\n",
        "        train_data_loader,\n",
        "        val_data_loader\n",
        "    )\n"
      ],
      "outputs": [
        {
          "output_type": "stream",
          "name": "stdout",
          "text": [
            "Training for fold 0\n",
            "= = = = = = = = = = = = = = = = = = = = = = = = = = = = = = = = = = = = = = = = = = = = = = = = = = = = = = = = = = = = = = = = = = = = = = = = = = =\n"
          ]
        },
        {
          "output_type": "display_data",
          "data": {
            "text/plain": [
              "Downloading:   0%|          | 0.00/570 [00:00<?, ?B/s]"
            ],
            "application/vnd.jupyter.widget-view+json": {
              "model_id": "902d376c7a264fc3be8ab92fa2555488",
              "version_minor": 0,
              "version_major": 2
            }
          },
          "metadata": {}
        },
        {
          "output_type": "display_data",
          "data": {
            "text/plain": [
              "Downloading:   0%|          | 0.00/440M [00:00<?, ?B/s]"
            ],
            "application/vnd.jupyter.widget-view+json": {
              "model_id": "de1e5545f8184f0085877afc1d58b36b",
              "version_minor": 0,
              "version_major": 2
            }
          },
          "metadata": {}
        },
        {
          "output_type": "stream",
          "name": "stderr",
          "text": [
            "Some weights of the model checkpoint at bert-base-uncased were not used when initializing BertForSequenceClassification: ['cls.seq_relationship.bias', 'cls.predictions.transform.dense.bias', 'cls.predictions.transform.LayerNorm.weight', 'cls.predictions.bias', 'cls.predictions.decoder.weight', 'cls.predictions.transform.dense.weight', 'cls.predictions.transform.LayerNorm.bias', 'cls.seq_relationship.weight']\n",
            "- This IS expected if you are initializing BertForSequenceClassification from the checkpoint of a model trained on another task or with another architecture (e.g. initializing a BertForSequenceClassification model from a BertForPreTraining model).\n",
            "- This IS NOT expected if you are initializing BertForSequenceClassification from the checkpoint of a model that you expect to be exactly identical (initializing a BertForSequenceClassification model from a BertForSequenceClassification model).\n",
            "Some weights of BertForSequenceClassification were not initialized from the model checkpoint at bert-base-uncased and are newly initialized: ['classifier.weight', 'classifier.bias']\n",
            "You should probably TRAIN this model on a down-stream task to be able to use it for predictions and inference.\n"
          ]
        },
        {
          "output_type": "display_data",
          "data": {
            "text/plain": [
              "Downloading:   0%|          | 0.00/28.0 [00:00<?, ?B/s]"
            ],
            "application/vnd.jupyter.widget-view+json": {
              "model_id": "acb6d400317240b59b7bb1d587ba9f17",
              "version_minor": 0,
              "version_major": 2
            }
          },
          "metadata": {}
        },
        {
          "output_type": "display_data",
          "data": {
            "text/plain": [
              "Downloading:   0%|          | 0.00/232k [00:00<?, ?B/s]"
            ],
            "application/vnd.jupyter.widget-view+json": {
              "model_id": "14212198fc0e4bbabb6b574bde9f12e9",
              "version_minor": 0,
              "version_major": 2
            }
          },
          "metadata": {}
        },
        {
          "output_type": "display_data",
          "data": {
            "text/plain": [
              "Downloading:   0%|          | 0.00/466k [00:00<?, ?B/s]"
            ],
            "application/vnd.jupyter.widget-view+json": {
              "model_id": "0317058b8d3048f38c5830d559073c80",
              "version_minor": 0,
              "version_major": 2
            }
          },
          "metadata": {}
        },
        {
          "output_type": "stream",
          "name": "stderr",
          "text": []
        },
        {
          "output_type": "stream",
          "name": "stdout",
          "text": [
            "| epoch   0 | train loss  0.94753 | Val loss  0.79187 | Overall acc 0.666 | class_1_acc 0.741 | class_2_acc 0.710 | class_3_acc 0.488 | f1_score 0.662 | Time Taken 91.411s |\n",
            "- - - - - - - - - - - - - - - - - - - - - - - - - - - - - - - - - - - - - - - - - - - - - - - - - - - - - - - - - - - - - - - - - - - - - - - - - - -\n"
          ]
        },
        {
          "output_type": "stream",
          "name": "stderr",
          "text": []
        },
        {
          "output_type": "stream",
          "name": "stdout",
          "text": [
            "| epoch   1 | train loss  0.68855 | Val loss  0.70526 | Overall acc 0.704 | class_1_acc 0.714 | class_2_acc 0.784 | class_3_acc 0.585 | f1_score 0.703 | Time Taken 91.125s |\n",
            "- - - - - - - - - - - - - - - - - - - - - - - - - - - - - - - - - - - - - - - - - - - - - - - - - - - - - - - - - - - - - - - - - - - - - - - - - - -\n"
          ]
        },
        {
          "output_type": "stream",
          "name": "stderr",
          "text": []
        },
        {
          "output_type": "stream",
          "name": "stdout",
          "text": [
            "| epoch   2 | train loss  0.55629 | Val loss  0.68766 | Overall acc 0.716 | class_1_acc 0.762 | class_2_acc 0.730 | class_3_acc 0.624 | f1_score 0.716 | Time Taken 91.149s |\n",
            "- - - - - - - - - - - - - - - - - - - - - - - - - - - - - - - - - - - - - - - - - - - - - - - - - - - - - - - - - - - - - - - - - - - - - - - - - - -\n"
          ]
        },
        {
          "output_type": "stream",
          "name": "stderr",
          "text": []
        },
        {
          "output_type": "stream",
          "name": "stdout",
          "text": [
            "| epoch   3 | train loss  0.48527 | Val loss  0.69039 | Overall acc 0.721 | class_1_acc 0.741 | class_2_acc 0.726 | class_3_acc 0.683 | f1_score 0.722 | Time Taken 91.049s |\n",
            "- - - - - - - - - - - - - - - - - - - - - - - - - - - - - - - - - - - - - - - - - - - - - - - - - - - - - - - - - - - - - - - - - - - - - - - - - - -\n"
          ]
        },
        {
          "output_type": "stream",
          "name": "stderr",
          "text": []
        },
        {
          "output_type": "stream",
          "name": "stdout",
          "text": [
            "| epoch   4 | train loss  0.43415 | Val loss  0.69073 | Overall acc 0.723 | class_1_acc 0.738 | class_2_acc 0.749 | class_3_acc 0.663 | f1_score 0.723 | Time Taken 91.112s |\n",
            "- - - - - - - - - - - - - - - - - - - - - - - - - - - - - - - - - - - - - - - - - - - - - - - - - - - - - - - - - - - - - - - - - - - - - - - - - - -\n",
            "Training for fold 1\n",
            "= = = = = = = = = = = = = = = = = = = = = = = = = = = = = = = = = = = = = = = = = = = = = = = = = = = = = = = = = = = = = = = = = = = = = = = = = = =\n"
          ]
        },
        {
          "output_type": "stream",
          "name": "stderr",
          "text": [
            "Some weights of the model checkpoint at bert-base-uncased were not used when initializing BertForSequenceClassification: ['cls.seq_relationship.bias', 'cls.predictions.transform.dense.bias', 'cls.predictions.transform.LayerNorm.weight', 'cls.predictions.bias', 'cls.predictions.decoder.weight', 'cls.predictions.transform.dense.weight', 'cls.predictions.transform.LayerNorm.bias', 'cls.seq_relationship.weight']\n",
            "- This IS expected if you are initializing BertForSequenceClassification from the checkpoint of a model trained on another task or with another architecture (e.g. initializing a BertForSequenceClassification model from a BertForPreTraining model).\n",
            "- This IS NOT expected if you are initializing BertForSequenceClassification from the checkpoint of a model that you expect to be exactly identical (initializing a BertForSequenceClassification model from a BertForSequenceClassification model).\n",
            "Some weights of BertForSequenceClassification were not initialized from the model checkpoint at bert-base-uncased and are newly initialized: ['classifier.weight', 'classifier.bias']\n",
            "You should probably TRAIN this model on a down-stream task to be able to use it for predictions and inference.\n"
          ]
        },
        {
          "output_type": "stream",
          "name": "stdout",
          "text": [
            "| epoch   0 | train loss  0.92742 | Val loss  0.72727 | Overall acc 0.723 | class_1_acc 0.812 | class_2_acc 0.691 | class_3_acc 0.615 | f1_score 0.720 | Time Taken 91.074s |\n",
            "- - - - - - - - - - - - - - - - - - - - - - - - - - - - - - - - - - - - - - - - - - - - - - - - - - - - - - - - - - - - - - - - - - - - - - - - - - -\n"
          ]
        },
        {
          "output_type": "stream",
          "name": "stderr",
          "text": []
        },
        {
          "output_type": "stream",
          "name": "stdout",
          "text": [
            "| epoch   1 | train loss  0.65771 | Val loss  0.66589 | Overall acc 0.723 | class_1_acc 0.824 | class_2_acc 0.668 | class_3_acc 0.624 | f1_score 0.720 | Time Taken 90.787s |\n",
            "- - - - - - - - - - - - - - - - - - - - - - - - - - - - - - - - - - - - - - - - - - - - - - - - - - - - - - - - - - - - - - - - - - - - - - - - - - -\n"
          ]
        },
        {
          "output_type": "stream",
          "name": "stderr",
          "text": []
        },
        {
          "output_type": "stream",
          "name": "stdout",
          "text": [
            "| epoch   2 | train loss  0.53991 | Val loss  0.65041 | Overall acc 0.725 | class_1_acc 0.780 | class_2_acc 0.718 | class_3_acc 0.644 | f1_score 0.724 | Time Taken 90.913s |\n",
            "- - - - - - - - - - - - - - - - - - - - - - - - - - - - - - - - - - - - - - - - - - - - - - - - - - - - - - - - - - - - - - - - - - - - - - - - - - -\n"
          ]
        },
        {
          "output_type": "stream",
          "name": "stderr",
          "text": []
        },
        {
          "output_type": "stream",
          "name": "stdout",
          "text": [
            "| epoch   3 | train loss  0.47859 | Val loss  0.65326 | Overall acc 0.731 | class_1_acc 0.747 | class_2_acc 0.718 | class_3_acc 0.722 | f1_score 0.732 | Time Taken 91.016s |\n",
            "- - - - - - - - - - - - - - - - - - - - - - - - - - - - - - - - - - - - - - - - - - - - - - - - - - - - - - - - - - - - - - - - - - - - - - - - - - -\n"
          ]
        },
        {
          "output_type": "stream",
          "name": "stderr",
          "text": []
        },
        {
          "output_type": "stream",
          "name": "stdout",
          "text": [
            "| epoch   4 | train loss  0.43621 | Val loss  0.65098 | Overall acc 0.731 | class_1_acc 0.747 | class_2_acc 0.726 | class_3_acc 0.712 | f1_score 0.732 | Time Taken 90.967s |\n",
            "- - - - - - - - - - - - - - - - - - - - - - - - - - - - - - - - - - - - - - - - - - - - - - - - - - - - - - - - - - - - - - - - - - - - - - - - - - -\n",
            "Training for fold 2\n",
            "= = = = = = = = = = = = = = = = = = = = = = = = = = = = = = = = = = = = = = = = = = = = = = = = = = = = = = = = = = = = = = = = = = = = = = = = = = =\n"
          ]
        },
        {
          "output_type": "stream",
          "name": "stderr",
          "text": [
            "Some weights of the model checkpoint at bert-base-uncased were not used when initializing BertForSequenceClassification: ['cls.seq_relationship.bias', 'cls.predictions.transform.dense.bias', 'cls.predictions.transform.LayerNorm.weight', 'cls.predictions.bias', 'cls.predictions.decoder.weight', 'cls.predictions.transform.dense.weight', 'cls.predictions.transform.LayerNorm.bias', 'cls.seq_relationship.weight']\n",
            "- This IS expected if you are initializing BertForSequenceClassification from the checkpoint of a model trained on another task or with another architecture (e.g. initializing a BertForSequenceClassification model from a BertForPreTraining model).\n",
            "- This IS NOT expected if you are initializing BertForSequenceClassification from the checkpoint of a model that you expect to be exactly identical (initializing a BertForSequenceClassification model from a BertForSequenceClassification model).\n",
            "Some weights of BertForSequenceClassification were not initialized from the model checkpoint at bert-base-uncased and are newly initialized: ['classifier.weight', 'classifier.bias']\n",
            "You should probably TRAIN this model on a down-stream task to be able to use it for predictions and inference.\n"
          ]
        },
        {
          "output_type": "stream",
          "name": "stdout",
          "text": [
            "| epoch   0 | train loss  0.96449 | Val loss  0.79840 | Overall acc 0.650 | class_1_acc 0.714 | class_2_acc 0.722 | class_3_acc 0.454 | f1_score 0.645 | Time Taken 91.188s |\n",
            "- - - - - - - - - - - - - - - - - - - - - - - - - - - - - - - - - - - - - - - - - - - - - - - - - - - - - - - - - - - - - - - - - - - - - - - - - - -\n"
          ]
        },
        {
          "output_type": "stream",
          "name": "stderr",
          "text": []
        },
        {
          "output_type": "stream",
          "name": "stdout",
          "text": [
            "| epoch   1 | train loss  0.72887 | Val loss  0.69226 | Overall acc 0.714 | class_1_acc 0.747 | class_2_acc 0.753 | class_3_acc 0.610 | f1_score 0.713 | Time Taken 90.984s |\n",
            "- - - - - - - - - - - - - - - - - - - - - - - - - - - - - - - - - - - - - - - - - - - - - - - - - - - - - - - - - - - - - - - - - - - - - - - - - - -\n"
          ]
        },
        {
          "output_type": "stream",
          "name": "stderr",
          "text": []
        },
        {
          "output_type": "stream",
          "name": "stdout",
          "text": [
            "| epoch   2 | train loss  0.60839 | Val loss  0.65192 | Overall acc 0.729 | class_1_acc 0.720 | class_2_acc 0.807 | class_3_acc 0.644 | f1_score 0.728 | Time Taken 90.570s |\n",
            "- - - - - - - - - - - - - - - - - - - - - - - - - - - - - - - - - - - - - - - - - - - - - - - - - - - - - - - - - - - - - - - - - - - - - - - - - - -\n"
          ]
        },
        {
          "output_type": "stream",
          "name": "stderr",
          "text": []
        },
        {
          "output_type": "stream",
          "name": "stdout",
          "text": [
            "| epoch   3 | train loss  0.52993 | Val loss  0.63853 | Overall acc 0.730 | class_1_acc 0.690 | class_2_acc 0.815 | class_3_acc 0.688 | f1_score 0.730 | Time Taken 90.327s |\n",
            "- - - - - - - - - - - - - - - - - - - - - - - - - - - - - - - - - - - - - - - - - - - - - - - - - - - - - - - - - - - - - - - - - - - - - - - - - - -\n"
          ]
        },
        {
          "output_type": "stream",
          "name": "stderr",
          "text": []
        },
        {
          "output_type": "stream",
          "name": "stdout",
          "text": [
            "| epoch   4 | train loss  0.48564 | Val loss  0.63694 | Overall acc 0.739 | class_1_acc 0.723 | class_2_acc 0.815 | class_3_acc 0.668 | f1_score 0.739 | Time Taken 90.337s |\n",
            "- - - - - - - - - - - - - - - - - - - - - - - - - - - - - - - - - - - - - - - - - - - - - - - - - - - - - - - - - - - - - - - - - - - - - - - - - - -\n",
            "Training for fold 3\n",
            "= = = = = = = = = = = = = = = = = = = = = = = = = = = = = = = = = = = = = = = = = = = = = = = = = = = = = = = = = = = = = = = = = = = = = = = = = = =\n"
          ]
        },
        {
          "output_type": "stream",
          "name": "stderr",
          "text": [
            "Some weights of the model checkpoint at bert-base-uncased were not used when initializing BertForSequenceClassification: ['cls.seq_relationship.bias', 'cls.predictions.transform.dense.bias', 'cls.predictions.transform.LayerNorm.weight', 'cls.predictions.bias', 'cls.predictions.decoder.weight', 'cls.predictions.transform.dense.weight', 'cls.predictions.transform.LayerNorm.bias', 'cls.seq_relationship.weight']\n",
            "- This IS expected if you are initializing BertForSequenceClassification from the checkpoint of a model trained on another task or with another architecture (e.g. initializing a BertForSequenceClassification model from a BertForPreTraining model).\n",
            "- This IS NOT expected if you are initializing BertForSequenceClassification from the checkpoint of a model that you expect to be exactly identical (initializing a BertForSequenceClassification model from a BertForSequenceClassification model).\n",
            "Some weights of BertForSequenceClassification were not initialized from the model checkpoint at bert-base-uncased and are newly initialized: ['classifier.weight', 'classifier.bias']\n",
            "You should probably TRAIN this model on a down-stream task to be able to use it for predictions and inference.\n"
          ]
        },
        {
          "output_type": "stream",
          "name": "stdout",
          "text": [
            "| epoch   0 | train loss  0.95892 | Val loss  0.76804 | Overall acc 0.672 | class_1_acc 0.696 | class_2_acc 0.799 | class_3_acc 0.473 | f1_score 0.667 | Time Taken 90.407s |\n",
            "- - - - - - - - - - - - - - - - - - - - - - - - - - - - - - - - - - - - - - - - - - - - - - - - - - - - - - - - - - - - - - - - - - - - - - - - - - -\n"
          ]
        },
        {
          "output_type": "stream",
          "name": "stderr",
          "text": []
        },
        {
          "output_type": "stream",
          "name": "stdout",
          "text": [
            "| epoch   1 | train loss  0.63753 | Val loss  0.72715 | Overall acc 0.698 | class_1_acc 0.753 | class_2_acc 0.792 | class_3_acc 0.488 | f1_score 0.692 | Time Taken 89.955s |\n",
            "- - - - - - - - - - - - - - - - - - - - - - - - - - - - - - - - - - - - - - - - - - - - - - - - - - - - - - - - - - - - - - - - - - - - - - - - - - -\n"
          ]
        },
        {
          "output_type": "stream",
          "name": "stderr",
          "text": []
        },
        {
          "output_type": "stream",
          "name": "stdout",
          "text": [
            "| epoch   2 | train loss  0.50633 | Val loss  0.71372 | Overall acc 0.710 | class_1_acc 0.741 | class_2_acc 0.776 | class_3_acc 0.576 | f1_score 0.709 | Time Taken 90.117s |\n",
            "- - - - - - - - - - - - - - - - - - - - - - - - - - - - - - - - - - - - - - - - - - - - - - - - - - - - - - - - - - - - - - - - - - - - - - - - - - -\n"
          ]
        },
        {
          "output_type": "stream",
          "name": "stderr",
          "text": []
        },
        {
          "output_type": "stream",
          "name": "stdout",
          "text": [
            "| epoch   3 | train loss  0.42896 | Val loss  0.71458 | Overall acc 0.714 | class_1_acc 0.720 | class_2_acc 0.757 | class_3_acc 0.649 | f1_score 0.714 | Time Taken 90.245s |\n",
            "- - - - - - - - - - - - - - - - - - - - - - - - - - - - - - - - - - - - - - - - - - - - - - - - - - - - - - - - - - - - - - - - - - - - - - - - - - -\n"
          ]
        },
        {
          "output_type": "stream",
          "name": "stderr",
          "text": []
        },
        {
          "output_type": "stream",
          "name": "stdout",
          "text": [
            "| epoch   4 | train loss  0.38248 | Val loss  0.72835 | Overall acc 0.718 | class_1_acc 0.726 | class_2_acc 0.761 | class_3_acc 0.649 | f1_score 0.718 | Time Taken 90.131s |\n",
            "- - - - - - - - - - - - - - - - - - - - - - - - - - - - - - - - - - - - - - - - - - - - - - - - - - - - - - - - - - - - - - - - - - - - - - - - - - -\n",
            "Training for fold 4\n",
            "= = = = = = = = = = = = = = = = = = = = = = = = = = = = = = = = = = = = = = = = = = = = = = = = = = = = = = = = = = = = = = = = = = = = = = = = = = =\n"
          ]
        },
        {
          "output_type": "stream",
          "name": "stderr",
          "text": [
            "Some weights of the model checkpoint at bert-base-uncased were not used when initializing BertForSequenceClassification: ['cls.seq_relationship.bias', 'cls.predictions.transform.dense.bias', 'cls.predictions.transform.LayerNorm.weight', 'cls.predictions.bias', 'cls.predictions.decoder.weight', 'cls.predictions.transform.dense.weight', 'cls.predictions.transform.LayerNorm.bias', 'cls.seq_relationship.weight']\n",
            "- This IS expected if you are initializing BertForSequenceClassification from the checkpoint of a model trained on another task or with another architecture (e.g. initializing a BertForSequenceClassification model from a BertForPreTraining model).\n",
            "- This IS NOT expected if you are initializing BertForSequenceClassification from the checkpoint of a model that you expect to be exactly identical (initializing a BertForSequenceClassification model from a BertForSequenceClassification model).\n",
            "Some weights of BertForSequenceClassification were not initialized from the model checkpoint at bert-base-uncased and are newly initialized: ['classifier.weight', 'classifier.bias']\n",
            "You should probably TRAIN this model on a down-stream task to be able to use it for predictions and inference.\n"
          ]
        },
        {
          "output_type": "stream",
          "name": "stdout",
          "text": [
            "| epoch   0 | train loss  0.99425 | Val loss  0.81744 | Overall acc 0.649 | class_1_acc 0.643 | class_2_acc 0.756 | class_3_acc 0.524 | f1_score 0.647 | Time Taken 90.842s |\n",
            "- - - - - - - - - - - - - - - - - - - - - - - - - - - - - - - - - - - - - - - - - - - - - - - - - - - - - - - - - - - - - - - - - - - - - - - - - - -\n"
          ]
        },
        {
          "output_type": "stream",
          "name": "stderr",
          "text": []
        },
        {
          "output_type": "stream",
          "name": "stdout",
          "text": [
            "| epoch   1 | train loss  0.73765 | Val loss  0.68140 | Overall acc 0.708 | class_1_acc 0.685 | class_2_acc 0.798 | class_3_acc 0.631 | f1_score 0.708 | Time Taken 90.530s |\n",
            "- - - - - - - - - - - - - - - - - - - - - - - - - - - - - - - - - - - - - - - - - - - - - - - - - - - - - - - - - - - - - - - - - - - - - - - - - - -\n"
          ]
        },
        {
          "output_type": "stream",
          "name": "stderr",
          "text": []
        },
        {
          "output_type": "stream",
          "name": "stdout",
          "text": [
            "| epoch   2 | train loss  0.59814 | Val loss  0.65315 | Overall acc 0.733 | class_1_acc 0.759 | class_2_acc 0.736 | class_3_acc 0.684 | f1_score 0.733 | Time Taken 90.466s |\n",
            "- - - - - - - - - - - - - - - - - - - - - - - - - - - - - - - - - - - - - - - - - - - - - - - - - - - - - - - - - - - - - - - - - - - - - - - - - - -\n"
          ]
        },
        {
          "output_type": "stream",
          "name": "stderr",
          "text": []
        },
        {
          "output_type": "stream",
          "name": "stdout",
          "text": [
            "| epoch   3 | train loss  0.52072 | Val loss  0.63999 | Overall acc 0.729 | class_1_acc 0.723 | class_2_acc 0.721 | class_3_acc 0.748 | f1_score 0.730 | Time Taken 90.498s |\n",
            "- - - - - - - - - - - - - - - - - - - - - - - - - - - - - - - - - - - - - - - - - - - - - - - - - - - - - - - - - - - - - - - - - - - - - - - - - - -\n"
          ]
        },
        {
          "output_type": "stream",
          "name": "stderr",
          "text": []
        },
        {
          "output_type": "stream",
          "name": "stdout",
          "text": [
            "| epoch   4 | train loss  0.47784 | Val loss  0.63500 | Overall acc 0.734 | class_1_acc 0.732 | class_2_acc 0.733 | class_3_acc 0.738 | f1_score 0.735 | Time Taken 90.626s |\n",
            "- - - - - - - - - - - - - - - - - - - - - - - - - - - - - - - - - - - - - - - - - - - - - - - - - - - - - - - - - - - - - - - - - - - - - - - - - - -\n"
          ]
        }
      ],
      "metadata": {
        "colab": {
          "base_uri": "https://localhost:8080/",
          "height": 1000,
          "referenced_widgets": [
            "902d376c7a264fc3be8ab92fa2555488",
            "d98aeb56fe5d4ad19d46d58eca367a32",
            "29a9a095573946a297705140aa991327",
            "fe1f902b546240a3a758c9c599e60302",
            "c6ff9b432ba244e5bad7dc1b7f3650d3",
            "307c47a69c254e0db76b5b04e74867f0",
            "10404cc122c44aca81530d7cd3ca497c",
            "c63ff45ff2c84059a95c72bd2803d6b5",
            "50796131331246f386fbf034a80ed5d4",
            "14f1d4c3f37d4c14beb16ec3083b9487",
            "33386dc2ba30481f85a9855b0972120f",
            "de1e5545f8184f0085877afc1d58b36b",
            "85df7bf137654aa683118cae21df5321",
            "b6117178e55c4ae6bcc997d35007657b",
            "4e96f53133c14153ab29e7b40991370c",
            "278a4c292c55438ba3bcf83b86a060b5",
            "b4e6ad4da4c947019fc41f8bc1694656",
            "b508f5d9797d4c4e8051546b1907f49a",
            "4d760ffb1ab1445cada79f88550e6098",
            "792f923deee843e6a252838b8e3f5d1f",
            "d734d1fedec74b21ae7da563b06cba2d",
            "b9f99782fbb24bcd81c3a85b2ac8a640",
            "acb6d400317240b59b7bb1d587ba9f17",
            "e05288ac64cf46c099da61c76a888aec",
            "74d37d4e0a054f0192db718a14ed1f54",
            "97a21a364822451bba4839e9377d87e7",
            "67fafa2cd5ad474e93f42f03c6a8bffe",
            "20c9f22e3bb7417e9724daa7768b1df9",
            "55a42ac7cead480ca52b518842b437f9",
            "3cbd4e484232492986111d9b7878cb3e",
            "c52aa5e013e94a6c9a818bc3bece41ad",
            "58c5747f9ae14d87a7cd30c26d4bff5a",
            "a566125c79ad4ca4a5bd0965e2edd67d",
            "14212198fc0e4bbabb6b574bde9f12e9",
            "b879876d1ba54e3eb833652801485b4b",
            "24f858b7467346579ccfde613137a746",
            "8d703eaa0ed04e81b7da7c42ebe7eb34",
            "f644b1e93eef41be824ac9f3ced4bdac",
            "dfcce5b53dad4a1a8152efa3cbfb50c7",
            "562bcba18a91418dbc3d97ab2f587b8f",
            "34f8b21e427344cba7083bee500a2e3d",
            "3dfd1de3d7224ed4993e9881280fd7b7",
            "e43fbbf70b6a4146ab5e5b477b61e1ba",
            "60c3c084228642beaaa4e307e2b95dfd",
            "0317058b8d3048f38c5830d559073c80",
            "5c4b0d15938d48fa810c04a2e143ebdc",
            "1d323437d6fc4a6aa10038cb2976a855",
            "a27a49ae2bc048c09ae6a96a7be1d227",
            "b99a11efabfd478db059375f72f23d36",
            "3bcbf8de50b84bbbb667350ca3ab371a",
            "d148dcbd67d244f18370c3706b2f3799",
            "2b93f5fde9f448ce94f0055068632b4d",
            "5fb05d2df812473585a393045df157c9",
            "22ffcf3982a149b7916e3476be1dcee1",
            "9ebd3afeec1b4ccdb63b7f8776c2a84d"
          ]
        },
        "id": "Yaswzb9Xegw6",
        "outputId": "06e9c663-0b82-456e-ecdb-1945259d24b5"
      }
    },
    {
      "cell_type": "markdown",
      "source": [
        "# Tiny Bert Abalation stufy\n",
        "\n",
        "### Model Used - Tiny BERT\n",
        "\n",
        "## Method-\n",
        "  1. Given a Sentence and Phrase, we pass only the sentence without phrase\n",
        "  2. Example - \n",
        "    - Sentence - \"The milk was good\"\n",
        "    - phrase - \"milk\"\n",
        "    - Transformer input - \"The milk was good\"\n",
        "\n",
        "## Results - \n",
        "\n",
        "  1. Fold 0-\n",
        "    - Overall Accuracy - 67.1%\n",
        "    - weighted f1 - 0.671\n",
        "    - Negative accuracy - 73.8%\n",
        "    - Nuetral accuracy - 60.2%\n",
        "    - Positive accuracy - 64.9%\n",
        "\n",
        "  2. Fold 1-   \n",
        "    - Overall Accuracy - 71.8%\n",
        "    - weighted f1 - 0.716\n",
        "    - Negative accuracy - 77.7%\n",
        "    - Nuetral accuracy - 71.0%\n",
        "    - Positive accuracy - 62.9%\n",
        "\n",
        "  3. Fold 2-\n",
        "    - Overall Accuracy - 70.8%\n",
        "    - weighted f1 - 0.708\n",
        "    - Negative accuracy - 75.9%\n",
        "    - Nuetral accuracy - 69.9%\n",
        "    - Positive accuracy - 63.4%\n",
        "\n",
        "  4. Fold 3-   \n",
        "    - Overall Accuracy - 66.1%\n",
        "    - weighted f1 - 0.731\n",
        "    - Negative accuracy - 73.8%\n",
        "    - Nuetral accuracy - 61.0%\n",
        "    - Positive accuracy - 60.0%\n",
        "\n",
        "  5. Fold 4-\n",
        "    - Overall Accuracy - 78.6%\n",
        "    - weighted f1 - 0.716\n",
        "    - Negative accuracy - 72.6%\n",
        "    - Nuetral accuracy - 69.8%\n",
        "    - Positive accuracy - 60.7%\n",
        "\n",
        "---\n",
        "\n",
        "\n"
      ],
      "metadata": {
        "id": "Ltm-ItCd5w6m"
      }
    },
    {
      "cell_type": "code",
      "execution_count": null,
      "source": [
        "config = {\n",
        "    \"splits\": 5,\n",
        "    \"seed\": 0,\n",
        "    \"train_batch_size\": 32,\n",
        "    \"val_batch_size\": 64,\n",
        "    \"num_workers\": 2,\n",
        "    \"learning_rate\": 5e-5,\n",
        "    \"df_len\": 3200,\n",
        "    \"num_epochs\": 7,\n",
        "    \"max_len\": 128,\n",
        "    \"checkpoint\": \"huawei-noah/TinyBERT_General_4L_312D\",\n",
        "    \"classify\": classify_default,\n",
        "\n",
        "}\n",
        "texts_all = df[\"clean_text\"].to_numpy()\n",
        "phrases_all = df[\"clean_aspect\"].to_numpy()\n",
        "targets_all = df[\"label\"].to_numpy()\n",
        "\n",
        "train_dataset, test_dataset = build_k_datasets(texts_all, \n",
        "                                               phrases_all, \n",
        "                                               targets_all, \n",
        "                                               config[\"splits\"], \n",
        "                                               config[\"seed\"])\n",
        "\n",
        "for i, dataset in enumerate(zip(train_dataset, test_dataset)):\n",
        "    print(f\"Training for fold {i}\")\n",
        "    print(\" \".join(\"=\" for _ in range(75)))\n",
        "    checkpoint = config[\"checkpoint\"]\n",
        "    train, test = dataset\n",
        "    model = AutoModelForSequenceClassification.from_pretrained(checkpoint, num_labels = 3)\n",
        "    texts, phrases, targets = train\n",
        "    val_texts, val_phrases, val_targets = test\n",
        "\n",
        "    train_dataset = BERT_Dataset_Type_4(texts, phrases, targets, checkpoint, tokenizer_method = AutoTokenizer, max_len=config[\"max_len\"])\n",
        "    train_data_loader = torch.utils.data.DataLoader(\n",
        "        train_dataset, batch_size=config[\"train_batch_size\"], \n",
        "        num_workers=config[\"num_workers\"],\n",
        "        collate_fn = custom_collate\n",
        "    )\n",
        "\n",
        "    val_dataset = BERT_Dataset_Type_4(val_texts, val_phrases, val_targets, checkpoint, tokenizer_method = AutoTokenizer, max_len=config[\"max_len\"])\n",
        "    val_data_loader = torch.utils.data.DataLoader(\n",
        "        val_dataset, batch_size=config[\"val_batch_size\"],\n",
        "        num_workers=config[\"num_workers\"],\n",
        "        collate_fn = custom_collate\n",
        "    )\n",
        "    engine = Trainer(model, config[\"classify\"], config)\n",
        "\n",
        "    log = engine.train_classification(\n",
        "        train_data_loader,\n",
        "        val_data_loader\n",
        "    )\n"
      ],
      "outputs": [
        {
          "output_type": "stream",
          "name": "stdout",
          "text": [
            "Training for fold 0\n",
            "= = = = = = = = = = = = = = = = = = = = = = = = = = = = = = = = = = = = = = = = = = = = = = = = = = = = = = = = = = = = = = = = = = = = = = = = = = =\n"
          ]
        },
        {
          "output_type": "stream",
          "name": "stderr",
          "text": [
            "Some weights of the model checkpoint at huawei-noah/TinyBERT_General_4L_312D were not used when initializing BertForSequenceClassification: ['cls.seq_relationship.bias', 'cls.predictions.transform.dense.bias', 'cls.predictions.transform.LayerNorm.weight', 'fit_denses.4.weight', 'fit_denses.1.bias', 'fit_denses.2.weight', 'cls.predictions.decoder.weight', 'fit_denses.3.weight', 'cls.predictions.bias', 'fit_denses.0.weight', 'fit_denses.2.bias', 'fit_denses.1.weight', 'cls.predictions.transform.dense.weight', 'cls.predictions.transform.LayerNorm.bias', 'cls.seq_relationship.weight', 'fit_denses.3.bias', 'fit_denses.0.bias', 'fit_denses.4.bias']\n",
            "- This IS expected if you are initializing BertForSequenceClassification from the checkpoint of a model trained on another task or with another architecture (e.g. initializing a BertForSequenceClassification model from a BertForPreTraining model).\n",
            "- This IS NOT expected if you are initializing BertForSequenceClassification from the checkpoint of a model that you expect to be exactly identical (initializing a BertForSequenceClassification model from a BertForSequenceClassification model).\n",
            "Some weights of BertForSequenceClassification were not initialized from the model checkpoint at huawei-noah/TinyBERT_General_4L_312D and are newly initialized: ['classifier.weight', 'classifier.bias']\n",
            "You should probably TRAIN this model on a down-stream task to be able to use it for predictions and inference.\n"
          ]
        },
        {
          "output_type": "stream",
          "name": "stdout",
          "text": [
            "| epoch   0 | train loss  1.06620 | Val loss  1.01442 | Overall acc 0.531 | class_1_acc 0.795 | class_2_acc 0.548 | class_3_acc 0.078 | f1_score 0.476 | Time Taken 9.169s |\n",
            "- - - - - - - - - - - - - - - - - - - - - - - - - - - - - - - - - - - - - - - - - - - - - - - - - - - - - - - - - - - - - - - - - - - - - - - - - - -\n"
          ]
        },
        {
          "output_type": "stream",
          "name": "stderr",
          "text": []
        },
        {
          "output_type": "stream",
          "name": "stdout",
          "text": [
            "| epoch   1 | train loss  0.95178 | Val loss  0.92040 | Overall acc 0.635 | class_1_acc 0.622 | class_2_acc 0.637 | class_3_acc 0.654 | f1_score 0.636 | Time Taken 9.084s |\n",
            "- - - - - - - - - - - - - - - - - - - - - - - - - - - - - - - - - - - - - - - - - - - - - - - - - - - - - - - - - - - - - - - - - - - - - - - - - - -\n"
          ]
        },
        {
          "output_type": "stream",
          "name": "stderr",
          "text": []
        },
        {
          "output_type": "stream",
          "name": "stdout",
          "text": [
            "| epoch   2 | train loss  0.85615 | Val loss  0.86754 | Overall acc 0.641 | class_1_acc 0.616 | class_2_acc 0.645 | class_3_acc 0.678 | f1_score 0.642 | Time Taken 9.037s |\n",
            "- - - - - - - - - - - - - - - - - - - - - - - - - - - - - - - - - - - - - - - - - - - - - - - - - - - - - - - - - - - - - - - - - - - - - - - - - - -\n"
          ]
        },
        {
          "output_type": "stream",
          "name": "stderr",
          "text": []
        },
        {
          "output_type": "stream",
          "name": "stdout",
          "text": [
            "| epoch   3 | train loss  0.80373 | Val loss  0.82944 | Overall acc 0.652 | class_1_acc 0.690 | class_2_acc 0.602 | class_3_acc 0.654 | f1_score 0.652 | Time Taken 9.007s |\n",
            "- - - - - - - - - - - - - - - - - - - - - - - - - - - - - - - - - - - - - - - - - - - - - - - - - - - - - - - - - - - - - - - - - - - - - - - - - - -\n"
          ]
        },
        {
          "output_type": "stream",
          "name": "stderr",
          "text": []
        },
        {
          "output_type": "stream",
          "name": "stdout",
          "text": [
            "| epoch   4 | train loss  0.76675 | Val loss  0.81519 | Overall acc 0.655 | class_1_acc 0.679 | class_2_acc 0.625 | class_3_acc 0.654 | f1_score 0.655 | Time Taken 8.986s |\n",
            "- - - - - - - - - - - - - - - - - - - - - - - - - - - - - - - - - - - - - - - - - - - - - - - - - - - - - - - - - - - - - - - - - - - - - - - - - - -\n"
          ]
        },
        {
          "output_type": "stream",
          "name": "stderr",
          "text": []
        },
        {
          "output_type": "stream",
          "name": "stdout",
          "text": [
            "| epoch   5 | train loss  0.75019 | Val loss  0.80056 | Overall acc 0.669 | class_1_acc 0.720 | class_2_acc 0.622 | class_3_acc 0.644 | f1_score 0.668 | Time Taken 9.007s |\n",
            "- - - - - - - - - - - - - - - - - - - - - - - - - - - - - - - - - - - - - - - - - - - - - - - - - - - - - - - - - - - - - - - - - - - - - - - - - - -\n"
          ]
        },
        {
          "output_type": "stream",
          "name": "stderr",
          "text": []
        },
        {
          "output_type": "stream",
          "name": "stdout",
          "text": [
            "| epoch   6 | train loss  0.73911 | Val loss  0.79699 | Overall acc 0.671 | class_1_acc 0.738 | class_2_acc 0.602 | class_3_acc 0.649 | f1_score 0.670 | Time Taken 9.025s |\n",
            "- - - - - - - - - - - - - - - - - - - - - - - - - - - - - - - - - - - - - - - - - - - - - - - - - - - - - - - - - - - - - - - - - - - - - - - - - - -\n",
            "Training for fold 1\n",
            "= = = = = = = = = = = = = = = = = = = = = = = = = = = = = = = = = = = = = = = = = = = = = = = = = = = = = = = = = = = = = = = = = = = = = = = = = = =\n"
          ]
        },
        {
          "output_type": "stream",
          "name": "stderr",
          "text": [
            "Some weights of the model checkpoint at huawei-noah/TinyBERT_General_4L_312D were not used when initializing BertForSequenceClassification: ['cls.seq_relationship.bias', 'cls.predictions.transform.dense.bias', 'cls.predictions.transform.LayerNorm.weight', 'fit_denses.4.weight', 'fit_denses.1.bias', 'fit_denses.2.weight', 'cls.predictions.decoder.weight', 'fit_denses.3.weight', 'cls.predictions.bias', 'fit_denses.0.weight', 'fit_denses.2.bias', 'fit_denses.1.weight', 'cls.predictions.transform.dense.weight', 'cls.predictions.transform.LayerNorm.bias', 'cls.seq_relationship.weight', 'fit_denses.3.bias', 'fit_denses.0.bias', 'fit_denses.4.bias']\n",
            "- This IS expected if you are initializing BertForSequenceClassification from the checkpoint of a model trained on another task or with another architecture (e.g. initializing a BertForSequenceClassification model from a BertForPreTraining model).\n",
            "- This IS NOT expected if you are initializing BertForSequenceClassification from the checkpoint of a model that you expect to be exactly identical (initializing a BertForSequenceClassification model from a BertForSequenceClassification model).\n",
            "Some weights of BertForSequenceClassification were not initialized from the model checkpoint at huawei-noah/TinyBERT_General_4L_312D and are newly initialized: ['classifier.weight', 'classifier.bias']\n",
            "You should probably TRAIN this model on a down-stream task to be able to use it for predictions and inference.\n"
          ]
        },
        {
          "output_type": "stream",
          "name": "stdout",
          "text": [
            "| epoch   0 | train loss  1.07097 | Val loss  1.01740 | Overall acc 0.580 | class_1_acc 0.863 | class_2_acc 0.498 | class_3_acc 0.220 | f1_score 0.547 | Time Taken 9.221s |\n",
            "- - - - - - - - - - - - - - - - - - - - - - - - - - - - - - - - - - - - - - - - - - - - - - - - - - - - - - - - - - - - - - - - - - - - - - - - - - -\n"
          ]
        },
        {
          "output_type": "stream",
          "name": "stderr",
          "text": []
        },
        {
          "output_type": "stream",
          "name": "stdout",
          "text": [
            "| epoch   1 | train loss  0.96528 | Val loss  0.89895 | Overall acc 0.669 | class_1_acc 0.655 | class_2_acc 0.687 | class_3_acc 0.668 | f1_score 0.670 | Time Taken 9.099s |\n",
            "- - - - - - - - - - - - - - - - - - - - - - - - - - - - - - - - - - - - - - - - - - - - - - - - - - - - - - - - - - - - - - - - - - - - - - - - - - -\n"
          ]
        },
        {
          "output_type": "stream",
          "name": "stderr",
          "text": []
        },
        {
          "output_type": "stream",
          "name": "stdout",
          "text": [
            "| epoch   2 | train loss  0.87058 | Val loss  0.82959 | Overall acc 0.672 | class_1_acc 0.643 | class_2_acc 0.703 | class_3_acc 0.683 | f1_score 0.673 | Time Taken 9.127s |\n",
            "- - - - - - - - - - - - - - - - - - - - - - - - - - - - - - - - - - - - - - - - - - - - - - - - - - - - - - - - - - - - - - - - - - - - - - - - - - -\n"
          ]
        },
        {
          "output_type": "stream",
          "name": "stderr",
          "text": []
        },
        {
          "output_type": "stream",
          "name": "stdout",
          "text": [
            "| epoch   3 | train loss  0.81233 | Val loss  0.78446 | Overall acc 0.694 | class_1_acc 0.690 | class_2_acc 0.722 | class_3_acc 0.663 | f1_score 0.694 | Time Taken 9.068s |\n",
            "- - - - - - - - - - - - - - - - - - - - - - - - - - - - - - - - - - - - - - - - - - - - - - - - - - - - - - - - - - - - - - - - - - - - - - - - - - -\n"
          ]
        },
        {
          "output_type": "stream",
          "name": "stderr",
          "text": []
        },
        {
          "output_type": "stream",
          "name": "stdout",
          "text": [
            "| epoch   4 | train loss  0.77358 | Val loss  0.76506 | Overall acc 0.699 | class_1_acc 0.696 | class_2_acc 0.726 | class_3_acc 0.668 | f1_score 0.699 | Time Taken 9.082s |\n",
            "- - - - - - - - - - - - - - - - - - - - - - - - - - - - - - - - - - - - - - - - - - - - - - - - - - - - - - - - - - - - - - - - - - - - - - - - - - -\n"
          ]
        },
        {
          "output_type": "stream",
          "name": "stderr",
          "text": []
        },
        {
          "output_type": "stream",
          "name": "stdout",
          "text": [
            "| epoch   5 | train loss  0.75863 | Val loss  0.74909 | Overall acc 0.718 | class_1_acc 0.753 | class_2_acc 0.730 | class_3_acc 0.644 | f1_score 0.717 | Time Taken 9.138s |\n",
            "- - - - - - - - - - - - - - - - - - - - - - - - - - - - - - - - - - - - - - - - - - - - - - - - - - - - - - - - - - - - - - - - - - - - - - - - - - -\n"
          ]
        },
        {
          "output_type": "stream",
          "name": "stderr",
          "text": []
        },
        {
          "output_type": "stream",
          "name": "stdout",
          "text": [
            "| epoch   6 | train loss  0.74619 | Val loss  0.74477 | Overall acc 0.718 | class_1_acc 0.777 | class_2_acc 0.710 | class_3_acc 0.629 | f1_score 0.716 | Time Taken 9.102s |\n",
            "- - - - - - - - - - - - - - - - - - - - - - - - - - - - - - - - - - - - - - - - - - - - - - - - - - - - - - - - - - - - - - - - - - - - - - - - - - -\n",
            "Training for fold 2\n",
            "= = = = = = = = = = = = = = = = = = = = = = = = = = = = = = = = = = = = = = = = = = = = = = = = = = = = = = = = = = = = = = = = = = = = = = = = = = =\n"
          ]
        },
        {
          "output_type": "stream",
          "name": "stderr",
          "text": [
            "Some weights of the model checkpoint at huawei-noah/TinyBERT_General_4L_312D were not used when initializing BertForSequenceClassification: ['cls.seq_relationship.bias', 'cls.predictions.transform.dense.bias', 'cls.predictions.transform.LayerNorm.weight', 'fit_denses.4.weight', 'fit_denses.1.bias', 'fit_denses.2.weight', 'cls.predictions.decoder.weight', 'fit_denses.3.weight', 'cls.predictions.bias', 'fit_denses.0.weight', 'fit_denses.2.bias', 'fit_denses.1.weight', 'cls.predictions.transform.dense.weight', 'cls.predictions.transform.LayerNorm.bias', 'cls.seq_relationship.weight', 'fit_denses.3.bias', 'fit_denses.0.bias', 'fit_denses.4.bias']\n",
            "- This IS expected if you are initializing BertForSequenceClassification from the checkpoint of a model trained on another task or with another architecture (e.g. initializing a BertForSequenceClassification model from a BertForPreTraining model).\n",
            "- This IS NOT expected if you are initializing BertForSequenceClassification from the checkpoint of a model that you expect to be exactly identical (initializing a BertForSequenceClassification model from a BertForSequenceClassification model).\n",
            "Some weights of BertForSequenceClassification were not initialized from the model checkpoint at huawei-noah/TinyBERT_General_4L_312D and are newly initialized: ['classifier.weight', 'classifier.bias']\n",
            "You should probably TRAIN this model on a down-stream task to be able to use it for predictions and inference.\n"
          ]
        },
        {
          "output_type": "stream",
          "name": "stdout",
          "text": [
            "| epoch   0 | train loss  1.07047 | Val loss  1.01848 | Overall acc 0.615 | class_1_acc 0.872 | class_2_acc 0.413 | class_3_acc 0.449 | f1_score 0.597 | Time Taken 9.275s |\n",
            "- - - - - - - - - - - - - - - - - - - - - - - - - - - - - - - - - - - - - - - - - - - - - - - - - - - - - - - - - - - - - - - - - - - - - - - - - - -\n"
          ]
        },
        {
          "output_type": "stream",
          "name": "stderr",
          "text": []
        },
        {
          "output_type": "stream",
          "name": "stdout",
          "text": [
            "| epoch   1 | train loss  0.97028 | Val loss  0.89996 | Overall acc 0.664 | class_1_acc 0.673 | class_2_acc 0.660 | class_3_acc 0.654 | f1_score 0.665 | Time Taken 9.199s |\n",
            "- - - - - - - - - - - - - - - - - - - - - - - - - - - - - - - - - - - - - - - - - - - - - - - - - - - - - - - - - - - - - - - - - - - - - - - - - - -\n"
          ]
        },
        {
          "output_type": "stream",
          "name": "stderr",
          "text": []
        },
        {
          "output_type": "stream",
          "name": "stdout",
          "text": [
            "| epoch   2 | train loss  0.87488 | Val loss  0.84000 | Overall acc 0.675 | class_1_acc 0.682 | class_2_acc 0.633 | class_3_acc 0.717 | f1_score 0.678 | Time Taken 9.101s |\n",
            "- - - - - - - - - - - - - - - - - - - - - - - - - - - - - - - - - - - - - - - - - - - - - - - - - - - - - - - - - - - - - - - - - - - - - - - - - - -\n"
          ]
        },
        {
          "output_type": "stream",
          "name": "stderr",
          "text": []
        },
        {
          "output_type": "stream",
          "name": "stdout",
          "text": [
            "| epoch   3 | train loss  0.81876 | Val loss  0.80432 | Overall acc 0.688 | class_1_acc 0.705 | class_2_acc 0.645 | class_3_acc 0.712 | f1_score 0.689 | Time Taken 9.195s |\n",
            "- - - - - - - - - - - - - - - - - - - - - - - - - - - - - - - - - - - - - - - - - - - - - - - - - - - - - - - - - - - - - - - - - - - - - - - - - - -\n"
          ]
        },
        {
          "output_type": "stream",
          "name": "stderr",
          "text": []
        },
        {
          "output_type": "stream",
          "name": "stdout",
          "text": [
            "| epoch   4 | train loss  0.78421 | Val loss  0.77736 | Overall acc 0.694 | class_1_acc 0.717 | class_2_acc 0.672 | class_3_acc 0.683 | f1_score 0.695 | Time Taken 9.175s |\n",
            "- - - - - - - - - - - - - - - - - - - - - - - - - - - - - - - - - - - - - - - - - - - - - - - - - - - - - - - - - - - - - - - - - - - - - - - - - - -\n"
          ]
        },
        {
          "output_type": "stream",
          "name": "stderr",
          "text": []
        },
        {
          "output_type": "stream",
          "name": "stdout",
          "text": [
            "| epoch   5 | train loss  0.76314 | Val loss  0.76158 | Overall acc 0.703 | class_1_acc 0.762 | class_2_acc 0.680 | class_3_acc 0.634 | f1_score 0.702 | Time Taken 9.207s |\n",
            "- - - - - - - - - - - - - - - - - - - - - - - - - - - - - - - - - - - - - - - - - - - - - - - - - - - - - - - - - - - - - - - - - - - - - - - - - - -\n"
          ]
        },
        {
          "output_type": "stream",
          "name": "stderr",
          "text": []
        },
        {
          "output_type": "stream",
          "name": "stdout",
          "text": [
            "| epoch   6 | train loss  0.75316 | Val loss  0.75814 | Overall acc 0.708 | class_1_acc 0.759 | class_2_acc 0.699 | class_3_acc 0.634 | f1_score 0.707 | Time Taken 9.258s |\n",
            "- - - - - - - - - - - - - - - - - - - - - - - - - - - - - - - - - - - - - - - - - - - - - - - - - - - - - - - - - - - - - - - - - - - - - - - - - - -\n",
            "Training for fold 3\n",
            "= = = = = = = = = = = = = = = = = = = = = = = = = = = = = = = = = = = = = = = = = = = = = = = = = = = = = = = = = = = = = = = = = = = = = = = = = = =\n"
          ]
        },
        {
          "output_type": "stream",
          "name": "stderr",
          "text": [
            "Some weights of the model checkpoint at huawei-noah/TinyBERT_General_4L_312D were not used when initializing BertForSequenceClassification: ['cls.seq_relationship.bias', 'cls.predictions.transform.dense.bias', 'cls.predictions.transform.LayerNorm.weight', 'fit_denses.4.weight', 'fit_denses.1.bias', 'fit_denses.2.weight', 'cls.predictions.decoder.weight', 'fit_denses.3.weight', 'cls.predictions.bias', 'fit_denses.0.weight', 'fit_denses.2.bias', 'fit_denses.1.weight', 'cls.predictions.transform.dense.weight', 'cls.predictions.transform.LayerNorm.bias', 'cls.seq_relationship.weight', 'fit_denses.3.bias', 'fit_denses.0.bias', 'fit_denses.4.bias']\n",
            "- This IS expected if you are initializing BertForSequenceClassification from the checkpoint of a model trained on another task or with another architecture (e.g. initializing a BertForSequenceClassification model from a BertForPreTraining model).\n",
            "- This IS NOT expected if you are initializing BertForSequenceClassification from the checkpoint of a model that you expect to be exactly identical (initializing a BertForSequenceClassification model from a BertForSequenceClassification model).\n",
            "Some weights of BertForSequenceClassification were not initialized from the model checkpoint at huawei-noah/TinyBERT_General_4L_312D and are newly initialized: ['classifier.weight', 'classifier.bias']\n",
            "You should probably TRAIN this model on a down-stream task to be able to use it for predictions and inference.\n"
          ]
        },
        {
          "output_type": "stream",
          "name": "stdout",
          "text": [
            "| epoch   0 | train loss  1.07103 | Val loss  1.01553 | Overall acc 0.555 | class_1_acc 0.875 | class_2_acc 0.162 | class_3_acc 0.527 | f1_score 0.506 | Time Taken 9.107s |\n",
            "- - - - - - - - - - - - - - - - - - - - - - - - - - - - - - - - - - - - - - - - - - - - - - - - - - - - - - - - - - - - - - - - - - - - - - - - - - -\n"
          ]
        },
        {
          "output_type": "stream",
          "name": "stderr",
          "text": []
        },
        {
          "output_type": "stream",
          "name": "stdout",
          "text": [
            "| epoch   1 | train loss  0.95616 | Val loss  0.90504 | Overall acc 0.651 | class_1_acc 0.732 | class_2_acc 0.548 | class_3_acc 0.649 | f1_score 0.649 | Time Taken 8.862s |\n",
            "- - - - - - - - - - - - - - - - - - - - - - - - - - - - - - - - - - - - - - - - - - - - - - - - - - - - - - - - - - - - - - - - - - - - - - - - - - -\n"
          ]
        },
        {
          "output_type": "stream",
          "name": "stderr",
          "text": []
        },
        {
          "output_type": "stream",
          "name": "stdout",
          "text": [
            "| epoch   2 | train loss  0.85262 | Val loss  0.85506 | Overall acc 0.652 | class_1_acc 0.714 | class_2_acc 0.568 | class_3_acc 0.659 | f1_score 0.651 | Time Taken 8.918s |\n",
            "- - - - - - - - - - - - - - - - - - - - - - - - - - - - - - - - - - - - - - - - - - - - - - - - - - - - - - - - - - - - - - - - - - - - - - - - - - -\n"
          ]
        },
        {
          "output_type": "stream",
          "name": "stderr",
          "text": []
        },
        {
          "output_type": "stream",
          "name": "stdout",
          "text": [
            "| epoch   3 | train loss  0.79463 | Val loss  0.83325 | Overall acc 0.664 | class_1_acc 0.723 | class_2_acc 0.595 | class_3_acc 0.654 | f1_score 0.663 | Time Taken 8.963s |\n",
            "- - - - - - - - - - - - - - - - - - - - - - - - - - - - - - - - - - - - - - - - - - - - - - - - - - - - - - - - - - - - - - - - - - - - - - - - - - -\n"
          ]
        },
        {
          "output_type": "stream",
          "name": "stderr",
          "text": []
        },
        {
          "output_type": "stream",
          "name": "stdout",
          "text": [
            "| epoch   4 | train loss  0.76151 | Val loss  0.82389 | Overall acc 0.660 | class_1_acc 0.726 | class_2_acc 0.610 | class_3_acc 0.615 | f1_score 0.659 | Time Taken 8.938s |\n",
            "- - - - - - - - - - - - - - - - - - - - - - - - - - - - - - - - - - - - - - - - - - - - - - - - - - - - - - - - - - - - - - - - - - - - - - - - - - -\n"
          ]
        },
        {
          "output_type": "stream",
          "name": "stderr",
          "text": []
        },
        {
          "output_type": "stream",
          "name": "stdout",
          "text": [
            "| epoch   5 | train loss  0.74160 | Val loss  0.81959 | Overall acc 0.656 | class_1_acc 0.717 | class_2_acc 0.614 | class_3_acc 0.610 | f1_score 0.655 | Time Taken 8.921s |\n",
            "- - - - - - - - - - - - - - - - - - - - - - - - - - - - - - - - - - - - - - - - - - - - - - - - - - - - - - - - - - - - - - - - - - - - - - - - - - -\n"
          ]
        },
        {
          "output_type": "stream",
          "name": "stderr",
          "text": []
        },
        {
          "output_type": "stream",
          "name": "stdout",
          "text": [
            "| epoch   6 | train loss  0.73435 | Val loss  0.81901 | Overall acc 0.661 | class_1_acc 0.738 | class_2_acc 0.610 | class_3_acc 0.600 | f1_score 0.660 | Time Taken 8.931s |\n",
            "- - - - - - - - - - - - - - - - - - - - - - - - - - - - - - - - - - - - - - - - - - - - - - - - - - - - - - - - - - - - - - - - - - - - - - - - - - -\n",
            "Training for fold 4\n",
            "= = = = = = = = = = = = = = = = = = = = = = = = = = = = = = = = = = = = = = = = = = = = = = = = = = = = = = = = = = = = = = = = = = = = = = = = = = =\n"
          ]
        },
        {
          "output_type": "stream",
          "name": "stderr",
          "text": [
            "Some weights of the model checkpoint at huawei-noah/TinyBERT_General_4L_312D were not used when initializing BertForSequenceClassification: ['cls.seq_relationship.bias', 'cls.predictions.transform.dense.bias', 'cls.predictions.transform.LayerNorm.weight', 'fit_denses.4.weight', 'fit_denses.1.bias', 'fit_denses.2.weight', 'cls.predictions.decoder.weight', 'fit_denses.3.weight', 'cls.predictions.bias', 'fit_denses.0.weight', 'fit_denses.2.bias', 'fit_denses.1.weight', 'cls.predictions.transform.dense.weight', 'cls.predictions.transform.LayerNorm.bias', 'cls.seq_relationship.weight', 'fit_denses.3.bias', 'fit_denses.0.bias', 'fit_denses.4.bias']\n",
            "- This IS expected if you are initializing BertForSequenceClassification from the checkpoint of a model trained on another task or with another architecture (e.g. initializing a BertForSequenceClassification model from a BertForPreTraining model).\n",
            "- This IS NOT expected if you are initializing BertForSequenceClassification from the checkpoint of a model that you expect to be exactly identical (initializing a BertForSequenceClassification model from a BertForSequenceClassification model).\n",
            "Some weights of BertForSequenceClassification were not initialized from the model checkpoint at huawei-noah/TinyBERT_General_4L_312D and are newly initialized: ['classifier.weight', 'classifier.bias']\n",
            "You should probably TRAIN this model on a down-stream task to be able to use it for predictions and inference.\n"
          ]
        },
        {
          "output_type": "stream",
          "name": "stdout",
          "text": [
            "| epoch   0 | train loss  1.06552 | Val loss  1.00705 | Overall acc 0.526 | class_1_acc 0.887 | class_2_acc 0.039 | class_3_acc 0.549 | f1_score 0.441 | Time Taken 9.450s |\n",
            "- - - - - - - - - - - - - - - - - - - - - - - - - - - - - - - - - - - - - - - - - - - - - - - - - - - - - - - - - - - - - - - - - - - - - - - - - - -\n"
          ]
        },
        {
          "output_type": "stream",
          "name": "stderr",
          "text": []
        },
        {
          "output_type": "stream",
          "name": "stdout",
          "text": [
            "| epoch   1 | train loss  0.95814 | Val loss  0.89489 | Overall acc 0.656 | class_1_acc 0.699 | class_2_acc 0.574 | class_3_acc 0.689 | f1_score 0.656 | Time Taken 9.346s |\n",
            "- - - - - - - - - - - - - - - - - - - - - - - - - - - - - - - - - - - - - - - - - - - - - - - - - - - - - - - - - - - - - - - - - - - - - - - - - - -\n"
          ]
        },
        {
          "output_type": "stream",
          "name": "stderr",
          "text": []
        },
        {
          "output_type": "stream",
          "name": "stdout",
          "text": [
            "| epoch   2 | train loss  0.86534 | Val loss  0.84170 | Overall acc 0.654 | class_1_acc 0.631 | class_2_acc 0.640 | class_3_acc 0.709 | f1_score 0.655 | Time Taken 9.397s |\n",
            "- - - - - - - - - - - - - - - - - - - - - - - - - - - - - - - - - - - - - - - - - - - - - - - - - - - - - - - - - - - - - - - - - - - - - - - - - - -\n"
          ]
        },
        {
          "output_type": "stream",
          "name": "stderr",
          "text": []
        },
        {
          "output_type": "stream",
          "name": "stdout",
          "text": [
            "| epoch   3 | train loss  0.81254 | Val loss  0.80083 | Overall acc 0.675 | class_1_acc 0.685 | class_2_acc 0.659 | class_3_acc 0.680 | f1_score 0.676 | Time Taken 9.383s |\n",
            "- - - - - - - - - - - - - - - - - - - - - - - - - - - - - - - - - - - - - - - - - - - - - - - - - - - - - - - - - - - - - - - - - - - - - - - - - - -\n"
          ]
        },
        {
          "output_type": "stream",
          "name": "stderr",
          "text": []
        },
        {
          "output_type": "stream",
          "name": "stdout",
          "text": [
            "| epoch   4 | train loss  0.77477 | Val loss  0.78017 | Overall acc 0.679 | class_1_acc 0.705 | class_2_acc 0.667 | class_3_acc 0.650 | f1_score 0.679 | Time Taken 9.409s |\n",
            "- - - - - - - - - - - - - - - - - - - - - - - - - - - - - - - - - - - - - - - - - - - - - - - - - - - - - - - - - - - - - - - - - - - - - - - - - - -\n"
          ]
        },
        {
          "output_type": "stream",
          "name": "stderr",
          "text": []
        },
        {
          "output_type": "stream",
          "name": "stdout",
          "text": [
            "| epoch   5 | train loss  0.75680 | Val loss  0.77244 | Overall acc 0.676 | class_1_acc 0.699 | class_2_acc 0.674 | class_3_acc 0.641 | f1_score 0.677 | Time Taken 9.345s |\n",
            "- - - - - - - - - - - - - - - - - - - - - - - - - - - - - - - - - - - - - - - - - - - - - - - - - - - - - - - - - - - - - - - - - - - - - - - - - - -\n"
          ]
        },
        {
          "output_type": "stream",
          "name": "stderr",
          "text": []
        },
        {
          "output_type": "stream",
          "name": "stdout",
          "text": [
            "| epoch   6 | train loss  0.74598 | Val loss  0.76615 | Overall acc 0.686 | class_1_acc 0.726 | class_2_acc 0.698 | class_3_acc 0.607 | f1_score 0.686 | Time Taken 9.372s |\n",
            "- - - - - - - - - - - - - - - - - - - - - - - - - - - - - - - - - - - - - - - - - - - - - - - - - - - - - - - - - - - - - - - - - - - - - - - - - - -\n"
          ]
        }
      ],
      "metadata": {
        "colab": {
          "base_uri": "https://localhost:8080/"
        },
        "id": "a6dLPDQ22zMs",
        "outputId": "f07e22d2-c961-4d8c-fc2c-92977560b6ae"
      }
    },
    {
      "cell_type": "markdown",
      "source": [
        "# Bert Abalation stufy\n",
        "\n",
        "### Model Used - BERT\n",
        "\n",
        "## Method-\n",
        "  1. Given a Sentence and Phrase, we pass only the sentence without phrase\n",
        "  2. Example - \n",
        "    - Sentence - \"The milk was good\"\n",
        "    - phrase - \"milk\"\n",
        "    - Transformer input - \"The milk was good\"\n",
        "\n",
        "## Results - \n",
        "\n",
        "  1. Fold 0-\n",
        "    - Overall Accuracy - 71.6%\n",
        "    - weighted f1 - 0.716\n",
        "    - Negative accuracy - 73.2%\n",
        "    - Nuetral accuracy - 72.6%\n",
        "    - Positive accuracy - 67.8%\n",
        "\n",
        "  2. Fold 1-   \n",
        "    - Overall Accuracy - 73.1%\n",
        "    - weighted f1 - 0.731\n",
        "    - Negative accuracy - 78.0%\n",
        "    - Nuetral accuracy - 71.0%\n",
        "    - Positive accuracy - 67.8%\n",
        "\n",
        "---\n",
        "\n",
        "\n"
      ],
      "metadata": {
        "id": "wsHbzqBr3v-3"
      }
    },
    {
      "cell_type": "code",
      "execution_count": null,
      "source": [
        "config = {\n",
        "    \"splits\": 5,\n",
        "    \"seed\": 0,\n",
        "    \"train_batch_size\": 8,\n",
        "    \"val_batch_size\": 16,\n",
        "    \"num_workers\": 2,\n",
        "    \"learning_rate\": 5e-6,\n",
        "    \"df_len\": 3200,\n",
        "    \"num_epochs\": 5,\n",
        "    \"max_len\": 128,\n",
        "    \"checkpoint\": \"bert-base-uncased\",\n",
        "    \"classify\": classify_default,\n",
        "\n",
        "}\n",
        "texts_all = df[\"clean_text\"].to_numpy()\n",
        "phrases_all = df[\"clean_aspect\"].to_numpy()\n",
        "targets_all = df[\"label\"].to_numpy()\n",
        "\n",
        "train_dataset, test_dataset = build_k_datasets(texts_all, \n",
        "                                               phrases_all, \n",
        "                                               targets_all, \n",
        "                                               config[\"splits\"], \n",
        "                                               config[\"seed\"])\n",
        "\n",
        "for i, dataset in enumerate(zip(train_dataset, test_dataset)):\n",
        "    if i is 2:\n",
        "      break\n",
        "    print(f\"Training for fold {i}\")\n",
        "    print(\" \".join(\"=\" for _ in range(75)))\n",
        "    checkpoint = config[\"checkpoint\"]\n",
        "    train, test = dataset\n",
        "    model = AutoModelForSequenceClassification.from_pretrained(checkpoint, num_labels = 3)\n",
        "    texts, phrases, targets = train\n",
        "    val_texts, val_phrases, val_targets = test\n",
        "\n",
        "    train_dataset = BERT_Dataset_Type_4(texts, phrases, targets, checkpoint, tokenizer_method = AutoTokenizer, max_len=config[\"max_len\"])\n",
        "    train_data_loader = torch.utils.data.DataLoader(\n",
        "        train_dataset, batch_size=config[\"train_batch_size\"], \n",
        "        num_workers=config[\"num_workers\"],\n",
        "        collate_fn = custom_collate\n",
        "    )\n",
        "\n",
        "    val_dataset = BERT_Dataset_Type_4(val_texts, val_phrases, val_targets, checkpoint, tokenizer_method = AutoTokenizer, max_len=config[\"max_len\"])\n",
        "    val_data_loader = torch.utils.data.DataLoader(\n",
        "        val_dataset, batch_size=config[\"val_batch_size\"],\n",
        "        num_workers=config[\"num_workers\"],\n",
        "        collate_fn = custom_collate\n",
        "    )\n",
        "    engine = Trainer(model, config[\"classify\"], config)\n",
        "\n",
        "    log = engine.train_classification(\n",
        "        train_data_loader,\n",
        "        val_data_loader\n",
        "    )\n"
      ],
      "outputs": [
        {
          "output_type": "stream",
          "name": "stdout",
          "text": [
            "Training for fold 0\n",
            "= = = = = = = = = = = = = = = = = = = = = = = = = = = = = = = = = = = = = = = = = = = = = = = = = = = = = = = = = = = = = = = = = = = = = = = = = = =\n"
          ]
        },
        {
          "output_type": "stream",
          "name": "stderr",
          "text": [
            "Some weights of the model checkpoint at bert-base-uncased were not used when initializing BertForSequenceClassification: ['cls.seq_relationship.bias', 'cls.predictions.transform.dense.bias', 'cls.predictions.transform.LayerNorm.weight', 'cls.predictions.bias', 'cls.predictions.decoder.weight', 'cls.predictions.transform.dense.weight', 'cls.predictions.transform.LayerNorm.bias', 'cls.seq_relationship.weight']\n",
            "- This IS expected if you are initializing BertForSequenceClassification from the checkpoint of a model trained on another task or with another architecture (e.g. initializing a BertForSequenceClassification model from a BertForPreTraining model).\n",
            "- This IS NOT expected if you are initializing BertForSequenceClassification from the checkpoint of a model that you expect to be exactly identical (initializing a BertForSequenceClassification model from a BertForSequenceClassification model).\n",
            "Some weights of BertForSequenceClassification were not initialized from the model checkpoint at bert-base-uncased and are newly initialized: ['classifier.weight', 'classifier.bias']\n",
            "You should probably TRAIN this model on a down-stream task to be able to use it for predictions and inference.\n"
          ]
        },
        {
          "output_type": "stream",
          "name": "stdout",
          "text": [
            "| epoch   0 | train loss  0.84823 | Val loss  0.74270 | Overall acc 0.676 | class_1_acc 0.705 | class_2_acc 0.683 | class_3_acc 0.620 | f1_score 0.677 | Time Taken 88.201s |\n",
            "- - - - - - - - - - - - - - - - - - - - - - - - - - - - - - - - - - - - - - - - - - - - - - - - - - - - - - - - - - - - - - - - - - - - - - - - - - -\n"
          ]
        },
        {
          "output_type": "stream",
          "name": "stderr",
          "text": []
        },
        {
          "output_type": "stream",
          "name": "stdout",
          "text": [
            "| epoch   1 | train loss  0.61707 | Val loss  0.71509 | Overall acc 0.690 | class_1_acc 0.696 | class_2_acc 0.734 | class_3_acc 0.624 | f1_score 0.691 | Time Taken 87.954s |\n",
            "- - - - - - - - - - - - - - - - - - - - - - - - - - - - - - - - - - - - - - - - - - - - - - - - - - - - - - - - - - - - - - - - - - - - - - - - - - -\n"
          ]
        },
        {
          "output_type": "stream",
          "name": "stderr",
          "text": []
        },
        {
          "output_type": "stream",
          "name": "stdout",
          "text": [
            "| epoch   2 | train loss  0.48465 | Val loss  0.72053 | Overall acc 0.704 | class_1_acc 0.705 | class_2_acc 0.745 | class_3_acc 0.649 | f1_score 0.704 | Time Taken 87.925s |\n",
            "- - - - - - - - - - - - - - - - - - - - - - - - - - - - - - - - - - - - - - - - - - - - - - - - - - - - - - - - - - - - - - - - - - - - - - - - - - -\n"
          ]
        },
        {
          "output_type": "stream",
          "name": "stderr",
          "text": []
        },
        {
          "output_type": "stream",
          "name": "stdout",
          "text": [
            "| epoch   3 | train loss  0.39044 | Val loss  0.75113 | Overall acc 0.716 | class_1_acc 0.705 | class_2_acc 0.745 | class_3_acc 0.698 | f1_score 0.717 | Time Taken 88.014s |\n",
            "- - - - - - - - - - - - - - - - - - - - - - - - - - - - - - - - - - - - - - - - - - - - - - - - - - - - - - - - - - - - - - - - - - - - - - - - - - -\n"
          ]
        },
        {
          "output_type": "stream",
          "name": "stderr",
          "text": []
        },
        {
          "output_type": "stream",
          "name": "stdout",
          "text": [
            "| epoch   4 | train loss  0.33106 | Val loss  0.76724 | Overall acc 0.716 | class_1_acc 0.732 | class_2_acc 0.726 | class_3_acc 0.678 | f1_score 0.716 | Time Taken 87.982s |\n",
            "- - - - - - - - - - - - - - - - - - - - - - - - - - - - - - - - - - - - - - - - - - - - - - - - - - - - - - - - - - - - - - - - - - - - - - - - - - -\n",
            "Training for fold 1\n",
            "= = = = = = = = = = = = = = = = = = = = = = = = = = = = = = = = = = = = = = = = = = = = = = = = = = = = = = = = = = = = = = = = = = = = = = = = = = =\n"
          ]
        },
        {
          "output_type": "stream",
          "name": "stderr",
          "text": [
            "Some weights of the model checkpoint at bert-base-uncased were not used when initializing BertForSequenceClassification: ['cls.seq_relationship.bias', 'cls.predictions.transform.dense.bias', 'cls.predictions.transform.LayerNorm.weight', 'cls.predictions.bias', 'cls.predictions.decoder.weight', 'cls.predictions.transform.dense.weight', 'cls.predictions.transform.LayerNorm.bias', 'cls.seq_relationship.weight']\n",
            "- This IS expected if you are initializing BertForSequenceClassification from the checkpoint of a model trained on another task or with another architecture (e.g. initializing a BertForSequenceClassification model from a BertForPreTraining model).\n",
            "- This IS NOT expected if you are initializing BertForSequenceClassification from the checkpoint of a model that you expect to be exactly identical (initializing a BertForSequenceClassification model from a BertForSequenceClassification model).\n",
            "Some weights of BertForSequenceClassification were not initialized from the model checkpoint at bert-base-uncased and are newly initialized: ['classifier.weight', 'classifier.bias']\n",
            "You should probably TRAIN this model on a down-stream task to be able to use it for predictions and inference.\n"
          ]
        },
        {
          "output_type": "stream",
          "name": "stdout",
          "text": [
            "| epoch   0 | train loss  0.88104 | Val loss  0.71377 | Overall acc 0.701 | class_1_acc 0.771 | class_2_acc 0.761 | class_3_acc 0.512 | f1_score 0.697 | Time Taken 87.740s |\n",
            "- - - - - - - - - - - - - - - - - - - - - - - - - - - - - - - - - - - - - - - - - - - - - - - - - - - - - - - - - - - - - - - - - - - - - - - - - - -\n"
          ]
        },
        {
          "output_type": "stream",
          "name": "stderr",
          "text": []
        },
        {
          "output_type": "stream",
          "name": "stdout",
          "text": [
            "| epoch   1 | train loss  0.62512 | Val loss  0.69315 | Overall acc 0.728 | class_1_acc 0.795 | class_2_acc 0.757 | class_3_acc 0.580 | f1_score 0.725 | Time Taken 87.607s |\n",
            "- - - - - - - - - - - - - - - - - - - - - - - - - - - - - - - - - - - - - - - - - - - - - - - - - - - - - - - - - - - - - - - - - - - - - - - - - - -\n"
          ]
        },
        {
          "output_type": "stream",
          "name": "stderr",
          "text": []
        },
        {
          "output_type": "stream",
          "name": "stdout",
          "text": [
            "| epoch   2 | train loss  0.49614 | Val loss  0.70292 | Overall acc 0.733 | class_1_acc 0.807 | class_2_acc 0.757 | class_3_acc 0.580 | f1_score 0.730 | Time Taken 87.630s |\n",
            "- - - - - - - - - - - - - - - - - - - - - - - - - - - - - - - - - - - - - - - - - - - - - - - - - - - - - - - - - - - - - - - - - - - - - - - - - - -\n"
          ]
        },
        {
          "output_type": "stream",
          "name": "stderr",
          "text": []
        },
        {
          "output_type": "stream",
          "name": "stdout",
          "text": [
            "| epoch   3 | train loss  0.38487 | Val loss  0.73478 | Overall acc 0.734 | class_1_acc 0.801 | class_2_acc 0.703 | class_3_acc 0.663 | f1_score 0.733 | Time Taken 87.682s |\n",
            "- - - - - - - - - - - - - - - - - - - - - - - - - - - - - - - - - - - - - - - - - - - - - - - - - - - - - - - - - - - - - - - - - - - - - - - - - - -\n"
          ]
        },
        {
          "output_type": "stream",
          "name": "stderr",
          "text": []
        },
        {
          "output_type": "stream",
          "name": "stdout",
          "text": [
            "| epoch   4 | train loss  0.32873 | Val loss  0.75203 | Overall acc 0.731 | class_1_acc 0.780 | class_2_acc 0.710 | class_3_acc 0.678 | f1_score 0.731 | Time Taken 87.678s |\n",
            "- - - - - - - - - - - - - - - - - - - - - - - - - - - - - - - - - - - - - - - - - - - - - - - - - - - - - - - - - - - - - - - - - - - - - - - - - - -\n"
          ]
        }
      ],
      "metadata": {
        "colab": {
          "base_uri": "https://localhost:8080/"
        },
        "id": "_ja1Wo2Eegzp",
        "outputId": "af38913f-fe03-4814-896b-6b9c9f7d65a6"
      }
    },
    {
      "cell_type": "code",
      "execution_count": null,
      "source": [],
      "outputs": [],
      "metadata": {
        "id": "PINt5h-tGL4o"
      }
    }
  ]
}